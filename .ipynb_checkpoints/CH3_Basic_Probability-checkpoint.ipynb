{
 "cells": [
  {
   "cell_type": "markdown",
   "metadata": {},
   "source": [
    "## Imports"
   ]
  },
  {
   "cell_type": "code",
   "execution_count": null,
   "metadata": {},
   "outputs": [],
   "source": [
    "import numpy as np\n",
    "from collections import Counter\n",
    "\n",
    "import matplotlib.pyplot as plt\n",
    "%matplotlib inline \n",
    "plt.style.use('ggplot')\n",
    "\n",
    "import seaborn as sns\n",
    "sns.set(font_scale=1.5)\n",
    "\n",
    "from IPython.core.display import HTML # Code to center plots on the screen\n",
    "HTML(\"\"\"\n",
    "<style>\n",
    ".output_png {\n",
    "    display: table-cell;\n",
    "    text-align: center;\n",
    "    vertical-align: middle;\n",
    "}\n",
    "</style>\n",
    "\"\"\")"
   ]
  },
  {
   "cell_type": "markdown",
   "metadata": {},
   "source": [
    "## Notes\n",
    "\n",
    "add some notes"
   ]
  },
  {
   "cell_type": "markdown",
   "metadata": {},
   "source": [
    "***\n",
    "## Problems\n",
    "\n",
    "### Key:\n",
    "\n",
    "- __(w)__ indicates a __word__ problem\n",
    "- __(f)__ indicates a __formula__ problem\n",
    "- __(c)__ indicates a __computer__ problem\n",
    "- __(t)__ indicates a __theoretical__ problem\n",
    "- 😃 indicates the answer is available in the back"
   ]
  },
  {
   "cell_type": "markdown",
   "metadata": {},
   "source": [
    "***\n",
    "### 3.1 😃 (w)\n",
    "\n",
    "The uiversal set is given by $S = \\{ x: -\\infty < x < \\infty\\}$ (i.e. the real line). If $A = \\{ x: X > 1 \\}$ and $B = \\{ x: X \\leq 2 \\}$ find the following:\n",
    "\n",
    "1. $A^c$ and $B^c$  \n",
    "2. $A \\cup B$ and $A\\cap B$\n",
    "3. $A-B$ and $B-A$"
   ]
  },
  {
   "cell_type": "code",
   "execution_count": null,
   "metadata": {},
   "outputs": [],
   "source": []
  },
  {
   "cell_type": "markdown",
   "metadata": {},
   "source": [
    "### 3.2 (w)\n",
    "\n",
    "Repeat Problem 3.1 if $S = \\{x: x\\geq 0 \\}$"
   ]
  },
  {
   "cell_type": "code",
   "execution_count": null,
   "metadata": {},
   "outputs": [],
   "source": []
  },
  {
   "cell_type": "markdown",
   "metadata": {},
   "source": [
    "### 3.3 (w)\n",
    "\n",
    "A group of voters go to the polling place. Their names and ages are Lisa, 21, John, 42, Ashley, 18, Susan, 64, Phillip, 58, Fred, 48, and Brad, 26. Find the following sets:\n",
    "\n",
    "1. Voters older than 30\n",
    "2. Voters younger than 30\n",
    "3. Male voters younger than 30\n",
    "4. Female voters younger than 30\n",
    "5. Voters that are male or younger than 30\n",
    "6. Voters that are female and older than 30"
   ]
  },
  {
   "cell_type": "code",
   "execution_count": null,
   "metadata": {},
   "outputs": [],
   "source": []
  },
  {
   "cell_type": "markdown",
   "metadata": {},
   "source": [
    "### 3.4 (w)\n",
    "\n",
    "Given the sets $A_i = \\{ x: 0 \\leq x \\leq i \\}$ for $i = 1, 2, \\dots, N$, find $\\bigcup_{i=1}^{N}$ $A_i$ and $\\bigcap_{i=1}^{N}$ $A_i$. Are the $A_i$'s disjoint?"
   ]
  },
  {
   "cell_type": "code",
   "execution_count": null,
   "metadata": {},
   "outputs": [],
   "source": []
  },
  {
   "cell_type": "markdown",
   "metadata": {},
   "source": [
    "### 3.5 (w)\n",
    "\n",
    "Prove that the sets $A = \\{ x: x\\geq -1 \\}$ and $B = \\{ x: 2x+2 \\geq 0 \\}$ are equal."
   ]
  },
  {
   "cell_type": "code",
   "execution_count": null,
   "metadata": {},
   "outputs": [],
   "source": []
  },
  {
   "cell_type": "markdown",
   "metadata": {},
   "source": [
    "### 3.6 (t)\n",
    "\n",
    "Prove that if $x\\in A\\cap B^c$, then $x\\in A-B$."
   ]
  },
  {
   "cell_type": "code",
   "execution_count": null,
   "metadata": {},
   "outputs": [],
   "source": []
  },
  {
   "cell_type": "markdown",
   "metadata": {},
   "source": [
    "### 3.7 😃 (w)\n",
    "\n",
    "If $S = \\{1,2,3,4,5,6\\}$, find sets $A$ and $B$ that are disjoint. Next find sets $C$ and $D$ that partition the universe."
   ]
  },
  {
   "cell_type": "code",
   "execution_count": null,
   "metadata": {},
   "outputs": [],
   "source": []
  },
  {
   "cell_type": "markdown",
   "metadata": {},
   "source": [
    "### 3.8 (w)\n",
    "\n",
    "If $S = \\{ (x,y): 0 \\leq x \\leq 1, 0 \\leq y \\leq 1 \\}$, find sets $A$ and $B$ that are disjoint. Next find sets $C$ and $D$ that partition the universe."
   ]
  },
  {
   "cell_type": "code",
   "execution_count": null,
   "metadata": {},
   "outputs": [],
   "source": []
  },
  {
   "cell_type": "markdown",
   "metadata": {},
   "source": [
    "### 3.9 (t)\n",
    "\n",
    "In this problem we see how to construct disjoint sets from ones that are not disjoint so that their unions will be the same. We consider only three sets and ask the reader to generalize the result. Calling the nondisjoint sets $A,B,C$ and the union $D = A\\cup B\\cup C$, we wish to find three disjoint sets $E_1,E_2,E_3$ so that $D = E_1\\cup E_2 \\cup E_3$. To do so let\n",
    "\n",
    "$$\n",
    "\\begin{equation}\n",
    "    \\begin{split}\n",
    "        E_1 &= A \\\\\n",
    "        E_2 &= B - E_1 \\\\\n",
    "        E_3 &= C - (E_1 \\cup E_2)\n",
    "    \\end{split}\n",
    "\\end{equation}\n",
    "$$\n",
    "\n",
    "Using a Venn diagram explain this procedure. If we now have sets $A_1,A_2,\\dots, A_N$, explain how to construct $N$ disjoint sets with the same union."
   ]
  },
  {
   "cell_type": "code",
   "execution_count": null,
   "metadata": {},
   "outputs": [],
   "source": []
  },
  {
   "cell_type": "markdown",
   "metadata": {},
   "source": [
    "### 3.10 😃 (f)\n",
    "\n",
    "Replace the set expression $\\{ A\\cap B\\cap C \\}$ with one using intersections and complements. Replace the set expression $\\{ A\\cup B\\cup C \\}$ with one using unions and complements."
   ]
  },
  {
   "cell_type": "code",
   "execution_count": null,
   "metadata": {},
   "outputs": [],
   "source": []
  },
  {
   "cell_type": "markdown",
   "metadata": {},
   "source": [
    "### 3.11 (w)\n",
    "\n",
    "The sets $A,B,C$ are subsets of $S = \\{ (x,y): 0 \\leq x \\leq 1 \\text { and } 0 \\leq y \\leq 1 \\}$. The are defined as\n",
    "\n",
    "$$\n",
    "\\begin{equation}\n",
    "    \\begin{split}\n",
    "        A &= \\{ (x,y): x \\leq \\frac{1}{2}, 0 \\leq y \\leq 1 \\} \\\\\n",
    "        B &= \\{ (x,y): x \\geq \\frac{1}{2}, 0 \\leq y \\leq 1 \\} \\\\\n",
    "        C &= \\{ (x,y): 0 \\leq x \\leq 1, y \\leq \\frac{1}{2} \\}\n",
    "    \\end{split}\n",
    "\\end{equation}\n",
    "$$\n",
    "\n",
    "Explicitly determine the set $A\\cup(B\\cap C)^c$ by drawing a picture of it as well as pictures of all the individual sets. For simplicity you can ignore the deges of the sets in drawing any diagrams. Can you represent the resultant set using only unions and complements?"
   ]
  },
  {
   "cell_type": "code",
   "execution_count": null,
   "metadata": {},
   "outputs": [],
   "source": []
  },
  {
   "cell_type": "markdown",
   "metadata": {},
   "source": [
    "### 3.12 😃 (w)\n",
    "\n",
    "Give the size of each set and also whether it is discrete or continuous. If the set is infinite, determine if it is countably infinite or not.\n",
    "\n",
    "1. $A = \\{$ seven digit numbers $\\}$\n",
    "2. $B = \\{ x: 2x = 1 \\}$\n",
    "3. $C = \\{ x: 0 \\leq x \\leq 1, \\frac{1}{2} \\leq x \\leq 2 \\}$\n",
    "4. $D = \\{ (x,y): x^2 + y^2 = 1\\}$\n",
    "5. $E = \\{ x: x^2 + 3x + 2 = 0 \\}$\n",
    "6. $F = \\{ $ positive even integers $ \\}$"
   ]
  },
  {
   "cell_type": "code",
   "execution_count": null,
   "metadata": {},
   "outputs": [],
   "source": []
  },
  {
   "cell_type": "markdown",
   "metadata": {},
   "source": [
    "### 3.13 (w)\n",
    "\n",
    "Two dice are tossed and the nuber of dots on each side that come up are added together. Determine the sample space, outcomes, impossible event, three different events including a simple event, and two mutually exclusive events. Use appropriate set notation."
   ]
  },
  {
   "cell_type": "code",
   "execution_count": null,
   "metadata": {},
   "outputs": [],
   "source": []
  },
  {
   "cell_type": "markdown",
   "metadata": {},
   "source": [
    "### 3.14 😃 (w)\n",
    "\n",
    "The temperature in Rhode Island on a given day in August is found to always be in the range from $30^\\circ F$ to $100^\\circ F$. Determine the sample space, outcomes, impossible event, three different events including a simple event, and two mutually exclusive events. Use appropriate set notation."
   ]
  },
  {
   "cell_type": "code",
   "execution_count": null,
   "metadata": {},
   "outputs": [],
   "source": []
  },
  {
   "cell_type": "markdown",
   "metadata": {},
   "source": [
    "### 3.15 (t)\n",
    "\n",
    "Prove that if the smaple space has size $N$, then the total number of events (including the impossible event and the certain event) is $2^N$. Hint: There are $N\\choose k$ ways to choose an event with $k$ outcomes from a total of $N$ outcomes. Also, use the binomial formula:\n",
    "\n",
    "$$\n",
    "(a+b)^N = \\sum_{k=0}^{N}{N\\choose k}{ a^k b^{N-k}}\n",
    "$$"
   ]
  },
  {
   "cell_type": "code",
   "execution_count": null,
   "metadata": {},
   "outputs": [],
   "source": []
  },
  {
   "cell_type": "markdown",
   "metadata": {},
   "source": [
    "### 3.16 (w)\n",
    "\n",
    "An urn contains $2$ red balls and $3$ black balls. The red balls are labeled with the numbers $1$ and $2$ and the black balls are labeled as $3, 4$, and $5$. Three balls are drawn without replacement. Consider the events that\n",
    "\n",
    "$$\n",
    "\\begin{equation}\n",
    "    \\begin{split}\n",
    "        A &= \\{ \\text{ the majoritiy of the balls drawn are black } \\} \\\\\n",
    "        B &= \\{ \\text{ the sum of the numbers of the balls drawn } \\geq 10 \\}\n",
    "    \\end{split}\n",
    "\\end{equation}\n",
    "$$\n",
    "\n",
    "Are these events mutually exclusive? Explain your answer."
   ]
  },
  {
   "cell_type": "code",
   "execution_count": null,
   "metadata": {},
   "outputs": [],
   "source": []
  },
  {
   "cell_type": "markdown",
   "metadata": {},
   "source": [
    "### 3.17 (t)\n",
    "\n",
    "Prove Axiom 3' by using mathematical induction (see Appendix B) and Axiom 3."
   ]
  },
  {
   "cell_type": "code",
   "execution_count": null,
   "metadata": {},
   "outputs": [],
   "source": []
  },
  {
   "cell_type": "markdown",
   "metadata": {},
   "source": [
    "### 3.18 😃 (w)\n",
    "\n",
    "A roulette wheel has numbers $1$ to $36$ equally spaced around its perimeter. The odd numbers are colored red while the even numbers are colored black. If a spun ball is equally likely to yield any of the $36$ numbers, what is the probability of a black number that is greater than $24$? What is the probability of a black number or a number greater than $24$?"
   ]
  },
  {
   "cell_type": "code",
   "execution_count": null,
   "metadata": {},
   "outputs": [],
   "source": []
  },
  {
   "cell_type": "markdown",
   "metadata": {},
   "source": [
    "### 3.19 😃 (c)\n",
    "\n",
    "Use a computer simulation to simulate the tossing of a fair die. Based on the simulation what is the probability of obtaining an even number? Does it agree witht the theoretical result? Hint: See Section 2.4."
   ]
  },
  {
   "cell_type": "code",
   "execution_count": null,
   "metadata": {},
   "outputs": [],
   "source": []
  },
  {
   "cell_type": "markdown",
   "metadata": {},
   "source": [
    "### 3.20 (w)\n",
    "\n",
    "A fair die is tossed. What is the probability of obtaining an  even number, an odd number, a number that is even or odd, a number that is even and odd?"
   ]
  },
  {
   "cell_type": "code",
   "execution_count": null,
   "metadata": {},
   "outputs": [],
   "source": []
  },
  {
   "cell_type": "markdown",
   "metadata": {},
   "source": [
    "### 3.21 😃 (w)\n",
    "\n",
    "A die is tossed that yields an even number with twice the probability of yielding an odd number. What is the probability of obtaining an even number, an odd number, a number that is even or odd, a number that is even and odd?"
   ]
  },
  {
   "cell_type": "code",
   "execution_count": null,
   "metadata": {},
   "outputs": [],
   "source": []
  },
  {
   "cell_type": "markdown",
   "metadata": {},
   "source": [
    "### 3.22 (w)\n",
    "\n",
    "If a single letter is selected at random from $\\{A,B,C\\}$, find the probability of all events. Recall that the total number of events is $2^N$, where $N$ is the number of simple events. Do these probabilities sum to one? If not, why not? Hint: See Problem 3.15."
   ]
  },
  {
   "cell_type": "code",
   "execution_count": null,
   "metadata": {},
   "outputs": [],
   "source": []
  },
  {
   "cell_type": "markdown",
   "metadata": {},
   "source": [
    "### 3.23 😃 (w)\n",
    "\n",
    "A number is chosen from $\\{ 1,2,3, \\dots \\}$ with probability\n",
    "\n",
    "$$\n",
    "\\begin{equation}\n",
    "    P[i] =\n",
    "    \\begin{cases}\n",
    "        \\frac{4}{7}, i = 1 \\\\\n",
    "        \\frac{2}{7}, i = 2 \\\\\n",
    "        \\big(\\frac{1}{8}\\big)^{i-2}, i \\geq 3 \n",
    "    \\end{cases}\n",
    "\\end{equation}\n",
    "$$\n",
    "\n",
    "Find $P[i \\geq 4]$."
   ]
  },
  {
   "cell_type": "code",
   "execution_count": null,
   "metadata": {},
   "outputs": [],
   "source": []
  },
  {
   "cell_type": "markdown",
   "metadata": {},
   "source": [
    "### 3.24 (f)\n",
    "\n",
    "For a sample space $S = \\{0,1,2,\\dots \\}$ the probability assignment\n",
    "\n",
    "$$\n",
    "P[i] = e^{-2}\\frac{2^i}{i!}\n",
    "$$\n",
    "\n",
    "is proposed. Is this a valid assignment?"
   ]
  },
  {
   "cell_type": "code",
   "execution_count": null,
   "metadata": {},
   "outputs": [],
   "source": []
  },
  {
   "cell_type": "markdown",
   "metadata": {},
   "source": [
    "### 3.25 😃 (w)\n",
    "\n",
    "Two fair dice are tossed. Find the probability that only one die comes up a $6$."
   ]
  },
  {
   "cell_type": "code",
   "execution_count": null,
   "metadata": {},
   "outputs": [],
   "source": []
  },
  {
   "cell_type": "markdown",
   "metadata": {},
   "source": [
    "### 3.26 (w)\n",
    "\n",
    "A circuit consists of $N$ switches in parallel (see Example 3.6 for $N=2$). The sample space can be summariazed as $S=\\{(z_1,z_2,\\dots,z_N): z_i=s$ or $t \\}$, where $s$ indicates a success or the switch closes and $f$ indicates a failure or the switch fails to close. Assuming that all the simple events are equally likely, what is the probability that a circuit is closed when all the switches are activated to close? Hint: Consider the complement event."
   ]
  },
  {
   "cell_type": "code",
   "execution_count": null,
   "metadata": {},
   "outputs": [],
   "source": []
  },
  {
   "cell_type": "markdown",
   "metadata": {},
   "source": [
    "### 3.27 😃 (w)\n",
    "\n",
    "Can the series circuit of Figure 3.7 ever outperform the parallel circuit of Figure 3.6 in terms of having a higher probabilitiy of closing when both switches are activated to close? Assume that switch $1$ closes with probability $p$, switch $2$ closes with probability $p$, and both switches close with probability $p^2$"
   ]
  },
  {
   "cell_type": "code",
   "execution_count": null,
   "metadata": {},
   "outputs": [],
   "source": []
  },
  {
   "cell_type": "markdown",
   "metadata": {},
   "source": [
    "### 3.28 (w)\n",
    "\n",
    "Verify the formula (3.20) for $P[E_1\\cup E_2\\cup E_3]$ if $E_1,E_2,E_3$ are events that are not necessarily mutually exclusive. To do so use a Venn diagram."
   ]
  },
  {
   "cell_type": "code",
   "execution_count": null,
   "metadata": {},
   "outputs": [],
   "source": [
    " "
   ]
  },
  {
   "cell_type": "markdown",
   "metadata": {},
   "source": [
    "### 3.29 (t)\n",
    "\n",
    "Prove that \n",
    "$$\n",
    "P[E_1,E_2] + P[E_1,E_3] + P[E_2,E_3] \\geq P[E_1,E_2,E_3]\n",
    "$$"
   ]
  },
  {
   "cell_type": "code",
   "execution_count": null,
   "metadata": {},
   "outputs": [],
   "source": []
  },
  {
   "cell_type": "markdown",
   "metadata": {},
   "source": [
    "### 3.30 (w)\n",
    "\n",
    "A persone always arrive at his job between 8:00 AM and 8:20 AM. He is equally likely to arrive anytime within that period. What is the probability that he will arrive at 8:10 AM? What is the probability that he will arrive between at 8:10 AM? "
   ]
  },
  {
   "cell_type": "code",
   "execution_count": null,
   "metadata": {},
   "outputs": [],
   "source": []
  },
  {
   "cell_type": "markdown",
   "metadata": {},
   "source": [
    "### 3.31 (w)\n",
    "\n",
    "A random number generator produces a number that is equally likely to be anywhere in the interval $(0,1)$. What are the simple events? Can you use (3.10) to find the probability that a generated number will be less than $\\frac{1}{2}$? Explain."
   ]
  },
  {
   "cell_type": "code",
   "execution_count": null,
   "metadata": {},
   "outputs": [],
   "source": []
  },
  {
   "cell_type": "markdown",
   "metadata": {},
   "source": [
    "### 3.32 (w)\n",
    "\n",
    "If two fair dice are tossed, find the probability that the same number will be observed on each one. Next, find the probability that different numbers will be observed."
   ]
  },
  {
   "cell_type": "code",
   "execution_count": null,
   "metadata": {},
   "outputs": [],
   "source": []
  },
  {
   "cell_type": "markdown",
   "metadata": {},
   "source": [
    "### 3.33 😃 (w)\n",
    "\n",
    "Three fair dice are tossed. Find the probability that 2 of the numbers will be the same and the third will be different."
   ]
  },
  {
   "cell_type": "code",
   "execution_count": null,
   "metadata": {},
   "outputs": [],
   "source": []
  },
  {
   "cell_type": "markdown",
   "metadata": {},
   "source": [
    "### 3.34 (w,c)\n",
    "\n",
    "An urn contains $4$ red balls and $2$ black balls. Two balls are chosen at random and without replacement. What is the probability of obtaining one red ball and one black ball in any order? Verify your results by enumerating all possibilities using a computer evaluation."
   ]
  },
  {
   "cell_type": "code",
   "execution_count": null,
   "metadata": {},
   "outputs": [],
   "source": []
  },
  {
   "cell_type": "markdown",
   "metadata": {},
   "source": [
    "### 3.35 😃 (f)\n",
    "\n",
    "Rhode Island license plate numbers are of the form GR315 (2 letters followed by 3 digits). How many different license plate can be issued?"
   ]
  },
  {
   "cell_type": "code",
   "execution_count": null,
   "metadata": {},
   "outputs": [],
   "source": []
  },
  {
   "cell_type": "markdown",
   "metadata": {},
   "source": [
    "### 3.36 (f)\n",
    "\n",
    "A baby is to be named using four letters of the alphabet.The letters can be used as often as desired. How many diffeent names are there? (Of course some of the names may not be pronounceable)."
   ]
  },
  {
   "cell_type": "code",
   "execution_count": null,
   "metadata": {},
   "outputs": [],
   "source": []
  },
  {
   "cell_type": "markdown",
   "metadata": {},
   "source": [
    "### 3.37 (c)\n",
    "\n",
    "It is difficult to compute $N!$ when $N$ is large. As an approximation, we can use __Stirling's formula__, which says that for large $N$\n",
    "\n",
    "$$\n",
    "N! \\approx \\sqrt{2\\pi}N^{N+\\frac{1}{2}}e^{-N}\n",
    "$$\n",
    "\n",
    "Compare Stirling's approximation to the true value of $N!$ for $N=1,2,\\dots,100$ using a digital computer. Hint: Try printing out the logarithm of $N!$ and compare it to the logarithm of its approximation."
   ]
  },
  {
   "cell_type": "code",
   "execution_count": null,
   "metadata": {},
   "outputs": [],
   "source": []
  },
  {
   "cell_type": "markdown",
   "metadata": {},
   "source": [
    "### 3.38 😃 (t)\n",
    "\n",
    "Determine the probability that in a class of 23 students two or more students have birthdays on January 1."
   ]
  },
  {
   "cell_type": "code",
   "execution_count": null,
   "metadata": {},
   "outputs": [],
   "source": []
  },
  {
   "cell_type": "markdown",
   "metadata": {},
   "source": [
    "### 3.39 (c)\n",
    "\n",
    "Use a computer simulation to verify your result from Problem 3.38."
   ]
  },
  {
   "cell_type": "code",
   "execution_count": null,
   "metadata": {},
   "outputs": [],
   "source": []
  },
  {
   "cell_type": "markdown",
   "metadata": {},
   "source": [
    "### 3.40 😃 (w)\n",
    "\n",
    "A pizza can be ordered with up to four different toppings. Find the total number of different pizzas (including no toppings) that can be ordered. Next, if a person wishes to pay for only two toppings, how many two-topping pizzas can he order?"
   ]
  },
  {
   "cell_type": "code",
   "execution_count": null,
   "metadata": {},
   "outputs": [],
   "source": []
  },
  {
   "cell_type": "markdown",
   "metadata": {},
   "source": [
    "### 3.41 (f)\n",
    "\n",
    "How many subsets of size three can be made from $\\{A,B,C,D,E\\}$?"
   ]
  },
  {
   "cell_type": "code",
   "execution_count": null,
   "metadata": {},
   "outputs": [],
   "source": []
  },
  {
   "cell_type": "markdown",
   "metadata": {},
   "source": [
    "### 3.42 (w)\n",
    "\n",
    "List all the combinations of two coins that can be chosen from the following coins: one penny (p), one nickel (n), one dime (d), one quarter (q). What are the possible sum-values?"
   ]
  },
  {
   "cell_type": "code",
   "execution_count": null,
   "metadata": {},
   "outputs": [],
   "source": []
  },
  {
   "cell_type": "markdown",
   "metadata": {},
   "source": [
    "### 3.43 (f)\n",
    "\n",
    "The binomial theorem states that\n",
    "\n",
    "$$\n",
    "(a+b)^N = \\sum_{k=0}^{N}{N\\choose k}{ a^k b^{N-k}}\n",
    "$$\n",
    "\n",
    "Expand $(a+b)^3$ and $(a+b)^4$ into powers of $a$ and $b$ and compare your results to the formula."
   ]
  },
  {
   "cell_type": "code",
   "execution_count": null,
   "metadata": {},
   "outputs": [],
   "source": []
  },
  {
   "cell_type": "markdown",
   "metadata": {},
   "source": [
    "### 3.44 😃 (w)\n",
    "\n",
    "A deck of peker cards contains an ace, king, queen, jack, $10, 9, 8, 7, 6, 5, 4, 3, 2$ in each of the four suits, hearts (h), clubs (c), diamonds (d), and spades (s), for a total of $52$ cards. If $5$ cards are chosen at random from a deck:\n",
    "- Find the probability of obtaining $4$ of a kind, as for example, $8$-h, $8$-c, $8$-d $8$-s, $9$-c. \n",
    "- Next find the probability of a flush, which occurs when all five cards have the same suit, as for example, $8$-s, queen-s, $2$-s, ace-s, $5$-s."
   ]
  },
  {
   "cell_type": "code",
   "execution_count": null,
   "metadata": {},
   "outputs": [],
   "source": []
  },
  {
   "cell_type": "markdown",
   "metadata": {},
   "source": [
    "### 3.45 (w)\n",
    "\n",
    "A class consists of $30$ students of which $20$ are freshman and $10$ are sophmores. If $5$ students are selected at random, what is the probability that they will all be sophmores?"
   ]
  },
  {
   "cell_type": "code",
   "execution_count": null,
   "metadata": {},
   "outputs": [],
   "source": []
  },
  {
   "cell_type": "markdown",
   "metadata": {},
   "source": [
    "### 3.46 (w)\n",
    "\n",
    "An urn containing an infinite number of balls has a proportion $p$ of red balls, and the remaining $1-p$ of black balls. Two balls are chosen at random. What value of $p$ will yield the highest probability of obtaining one red ball and one black ball in any order?"
   ]
  },
  {
   "cell_type": "code",
   "execution_count": null,
   "metadata": {},
   "outputs": [],
   "source": []
  },
  {
   "cell_type": "markdown",
   "metadata": {},
   "source": [
    "### 3.47 (w)\n",
    "\n",
    "An urn contains an infinite number of coins that are either two-headed or two-tailed. The proportion of each kind is the same. If we choose $M$ coins at random, explain why the probability of obtaining $k$ heads is givne by (3.28) with $p=\\frac{1}{2}$. Also, how does this experiment compare to the tossing of a fair coin $M$ times?"
   ]
  },
  {
   "cell_type": "code",
   "execution_count": null,
   "metadata": {},
   "outputs": [],
   "source": []
  },
  {
   "cell_type": "markdown",
   "metadata": {},
   "source": [
    "### 3.48 (c)\n",
    "\n",
    "Compare the hypergeometric law to the binomial law if $N=1000, M=100, p=0.94$ by calculating the probability $P[k]$ for $k=95,96,\\dots,100$. Hint: To avoid computational difficulties of calculating $N!$ for large $N$, use the following strategy to find $x=\\frac{1000!}{900!}$ as an example\n",
    "\n",
    "$$y=\\ln{(x)} = \\ln{(1000!)} - \\ln{(900!)} = \\sum_{i=1}^{1000}{\\ln{(i)}} - \\sum_{i=1}^{900}{\\ln{(i)}}$$\n",
    "\n",
    "and then $x=e^y$. Alternatively, for this example you can cancel out the common factors in the quotien of $x$ and write it as $x=(1000)_{100}$ which is easier to compute. But in general, this may be more difficult to set up and program."
   ]
  },
  {
   "cell_type": "code",
   "execution_count": null,
   "metadata": {},
   "outputs": [],
   "source": []
  },
  {
   "cell_type": "markdown",
   "metadata": {},
   "source": [
    "### 3.49 😃 (c)\n",
    "\n",
    "A defective batch of $1000$ chips contains $940$ good chips and $60$ bad chips. If we choose a sample of $100$ chips, find the probability that there will be $95$ or more good chips using a computer simulation. To simplify the problem assume sampling with replacement for the computer simulation and the theoretical probability. Compare your result to the theoretical prediction in Section 3.10."
   ]
  },
  {
   "cell_type": "code",
   "execution_count": null,
   "metadata": {},
   "outputs": [],
   "source": []
  },
  {
   "cell_type": "markdown",
   "metadata": {},
   "source": [
    "### 3.50 (c)\n",
    "\n",
    "For the real-world problem disussed in Section 3.10 use a computer simulation to determine the probability of rejecting a good batch. To simplify your code assume sampling _with replacement_. A good batch is defined as one with a probability of obtaining a good chip of $p=0.95$. The two strategies are to accept the batch if $95$ or more of the $100$ samples are good and if $98$ or more of the $100$ samples are good. Explain your results. Can you use Figures 3.11 and 3.12 to determine the theoretical probabilities?"
   ]
  },
  {
   "cell_type": "code",
   "execution_count": null,
   "metadata": {},
   "outputs": [],
   "source": []
  }
 ],
 "metadata": {
  "kernelspec": {
   "display_name": "Python 3",
   "language": "python",
   "name": "python3"
  },
  "language_info": {
   "codemirror_mode": {
    "name": "ipython",
    "version": 3
   },
   "file_extension": ".py",
   "mimetype": "text/x-python",
   "name": "python",
   "nbconvert_exporter": "python",
   "pygments_lexer": "ipython3",
   "version": "3.7.6"
  }
 },
 "nbformat": 4,
 "nbformat_minor": 4
}
