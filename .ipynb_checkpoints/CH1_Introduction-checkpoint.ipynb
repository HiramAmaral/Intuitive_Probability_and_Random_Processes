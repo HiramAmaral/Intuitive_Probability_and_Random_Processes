{
 "cells": [
  {
   "cell_type": "markdown",
   "metadata": {},
   "source": [
    "## Imports"
   ]
  },
  {
   "cell_type": "code",
   "execution_count": 70,
   "metadata": {},
   "outputs": [],
   "source": [
    "import numpy as np\n",
    "import matplotlib.pyplot as plt\n",
    "\n",
    "%matplotlib inline\n",
    "# %matplotlib notebook          is another option for interactive graphs"
   ]
  },
  {
   "cell_type": "markdown",
   "metadata": {},
   "source": [
    "## Problems\n",
    "\n",
    "### Key:\n",
    "\n",
    "- __(w)__ indicates a __word__ problem\n",
    "- __(f)__ indicates a __formula__ problem\n",
    "- __(c)__ indicates a __computer__ problem\n",
    "- __(t)__ indicates a __theoretical__ problem\n",
    "- 😃 indicates the answer is available in the back"
   ]
  },
  {
   "cell_type": "markdown",
   "metadata": {},
   "source": [
    "#### 1.1 😃 (w)\n",
    "A fair coin is tossed. Identify the random experiment, the set of outcomes, and the probabilities of each possible outcome."
   ]
  },
  {
   "cell_type": "markdown",
   "metadata": {},
   "source": [
    "#### Answer\n",
    "- The random experiment is tossing the coin once.\n",
    "- The set of outcomes is: $\\{H,T\\}$\n",
    "- The probabilities of each possible outcome are: $\\frac{1}{2}, \\frac{1}{2}$"
   ]
  },
  {
   "cell_type": "markdown",
   "metadata": {},
   "source": [
    "***\n",
    "#### 1.2 (w)\n",
    "A card is chosen at random from a deck of $52$ cards. Identify the random experiment, the set of outcomes, and the probabilities of each possible outcome."
   ]
  },
  {
   "cell_type": "markdown",
   "metadata": {},
   "source": [
    "#### Answer\n",
    "- The random experiment is choosing one card randomly from the deck. \n",
    "- The set of outcomes is:\n",
    "$\\{(❤️,A), \\dots, (❤️,1), \n",
    "(♠️, A), \\dots, (♠️,1), \n",
    "(♣️, A), \\dots, (♣️,1), \n",
    "(♦️, A), \\dots, (♦️,1)\\}$ (emojis found [here](https://emojipedia.org/small-orange-diamond/))\n",
    "- The probabilities of each possible outcome are: $\\frac{1}{52},\\dots, \\frac{1}{52}$"
   ]
  },
  {
   "cell_type": "markdown",
   "metadata": {},
   "source": [
    "***\n",
    "#### 1.3 (w)\n",
    "A fair die is tossed and the number of dots on the face noted. Identify the random experiment, the set of outcomes, and the probabilities of each possible outcome."
   ]
  },
  {
   "cell_type": "markdown",
   "metadata": {},
   "source": [
    "#### Answer\n",
    "- The random experiment is rolling the die once.\n",
    "- The set of outcomes is: $\\{1,2,3,4,5,6\\}$\n",
    "- The probabilities of each possible outcome are: $\\frac{1}{6},\\dots, \\frac{1}{6}$"
   ]
  },
  {
   "cell_type": "markdown",
   "metadata": {},
   "source": [
    "***\n",
    "#### 1.4 (w)\n",
    "It is desired to predict the annual summer rainfall in Rhode Island for 2010. If we use $9.76$ inches as our prediction, how much in error might we be, based on the past data shown in Figure 1.1? Repeat the problem for Arizona by using $4.40$ inches as the prediction."
   ]
  },
  {
   "cell_type": "markdown",
   "metadata": {},
   "source": [
    "#### Answer\n",
    "- Rhode Island\n",
    "   - The farthest deviation from the average is $\\approx 7.25$ inches\n",
    "- Arizona\n",
    "   - The farthest deviation from the average is $\\approx 4.4$ inches"
   ]
  },
  {
   "cell_type": "markdown",
   "metadata": {},
   "source": [
    "***\n",
    "#### 1.5 😃 (w)\n",
    "Determine whether the following experiments have discrete or continuous outcomes:\n",
    "1. Throw a dart with a point tip at a dartboard\n",
    "2. Toss a die\n",
    "3. Choose a lottery number\n",
    "4. Observe the outdoor temperature using an analog thermometer\n",
    "5. Determine the current time in hours, minutes, seconds, and AM or PM"
   ]
  },
  {
   "cell_type": "markdown",
   "metadata": {},
   "source": [
    "#### Answer\n",
    "1. Continuous\n",
    "2. Discrete\n",
    "3. Discrete\n",
    "4. Continuous\n",
    "5. Discrete"
   ]
  },
  {
   "cell_type": "markdown",
   "metadata": {},
   "source": [
    "***\n",
    "#### 1.6 (w)\n",
    "An experiment has $N=10$ outcomes that are equally probable. What is the probability of each outcome? Now let $N=1000$ and also $N=1,000,000$ and repeat. What happens as $N \\rightarrow \\infty$?"
   ]
  },
  {
   "cell_type": "markdown",
   "metadata": {},
   "source": [
    "#### Answer\n",
    "- $N=10$:\n",
    "    -  The probability of each outcome is $\\frac{1}{10}= 0.1$\n",
    "    \n",
    "    \n",
    "- $N=1000$: \n",
    "    - The probability of each outcome is $\\frac{1}{1000}=0.001$\n",
    "    \n",
    "    \n",
    "- $N=1,000,000$: \n",
    "    - The probability of each outcome is $\\frac{1}{1,000,000}=0.000001$\n",
    "    \n",
    "    \n",
    "- $N\\rightarrow \\infty$: \n",
    "    - The probability of each outcome is $\\lim_\\limits{n \\rightarrow \\infty} { \\frac{1}{n} } = 0$"
   ]
  },
  {
   "cell_type": "markdown",
   "metadata": {},
   "source": [
    "***\n",
    "#### 1.7 😃 (f)\n",
    "Consider an experiment with possible outcomes $\\{1,2,3,\\dots\\}$. If we assign probabilities\n",
    "\n",
    "$$\n",
    "P[k] = \\frac{1}{2^k}, \\text{ for }  k=1,2,3\\dots\n",
    "$$\n",
    "\n",
    "to the outcomes, will these probabilities sum to one? Can you have an infinite number of outcomes but still assign nonzero probabilities to each outcome? Reconcile these results with that of Problem 1.6."
   ]
  },
  {
   "cell_type": "markdown",
   "metadata": {},
   "source": [
    "#### Answer\n",
    "We begin with an infinte sum\n",
    "$$\n",
    "\\sum_{i=1}^{\\infty}{P[i]} = \\sum_{i=1}^{\\infty}{\\big(\\frac{1}{2} \\big)^i}\n",
    "$$\n",
    "\n",
    "This is an instance of a real geometric series with $k=1$: Let $x\\in\\mathbb{R}: |x|<1$\n",
    "\n",
    "$$\n",
    "\\sum_{i=k}^{\\infty}{x^i} = \\frac{x^k}{1 - x}\n",
    "$$\n",
    "\n",
    "So for our problem \n",
    "\n",
    "$$\\begin{align}\n",
    "\\sum_{i=1}^{\\infty}{\\big(\\frac{1}{2} \\big)^i} &= \\frac{x}{1-x} \\\\\n",
    "&= \\frac{\\frac{1}{2}}{1 - \\frac{1}{2}} \\\\\n",
    "&= 1.\n",
    "\\end{align}$$\n",
    "\n",
    "Even though there is an infinite set of outcomes, the probabilities assigned to each are nonzero and still sum to $1$ in the limit. At the end of Problem 1.6 we saw the opposite behavior (under different conditions): an infinite set of _equiprobable_ outcomes weights each individual outcome with zero probability."
   ]
  },
  {
   "cell_type": "markdown",
   "metadata": {},
   "source": [
    "***\n",
    "#### 1.8 (w)\n",
    "An experiment consists of tossing a fair coin four times in succession. What are the possible outcomes? Now count up the number of outcomes with three heads. If the outcomes are equally probable, what is the probability of three heads? Compare your results to that obtained using equation (1.1)\n",
    "\n",
    "$$\\begin{equation}\n",
    "P[k] = \\begin{pmatrix} N \\\\ k \\end{pmatrix}p^k(1-p)^{N-k}\n",
    "\\end{equation}$$\n",
    "where\n",
    "$$\\begin{pmatrix}\n",
    "N \\\\ k\n",
    "\\end{pmatrix}\n",
    "=\n",
    "\\frac{N!}{(N-k)!k!}$$"
   ]
  },
  {
   "cell_type": "code",
   "execution_count": null,
   "metadata": {},
   "outputs": [],
   "source": [
    "#### Answer"
   ]
  },
  {
   "cell_type": "markdown",
   "metadata": {},
   "source": [
    "***\n",
    "#### 1.9 (w)\n",
    "Perform the following experiment by _actually tossing_ a coin of your choice. Flip the coin four times and observe the number of heads. Then, repeat this experiment $10$ times. Using (1.1) determine the probability for $k=0,1,2,3,4$ heads. Next, use (1.1) to determine the number of heads that is most probable for a single experiment. In your $10$ experiments which number of heads appeared most often?"
   ]
  },
  {
   "cell_type": "code",
   "execution_count": null,
   "metadata": {},
   "outputs": [],
   "source": [
    "#### Answer"
   ]
  },
  {
   "cell_type": "markdown",
   "metadata": {},
   "source": [
    "***\n",
    "#### 1.10 😃 (w)\n",
    "A coin is tossed $12$ times. The sequence observed is the 12-tuple $(H,H,T,H,H,T,H,H,H,H,T,H)$. Is this coin fair? Hint: Determine $P[k=9]$ using (1.1) assuming a probability of heads is $p=\\frac{1}{2}$."
   ]
  },
  {
   "cell_type": "code",
   "execution_count": null,
   "metadata": {},
   "outputs": [],
   "source": [
    "#### Answer"
   ]
  },
  {
   "cell_type": "markdown",
   "metadata": {},
   "source": [
    "***\n",
    "#### 1.11 (t)\n",
    "Prove that $\\sum_{k=0}^{N}{P[k]} = 1$, where $P[k]$ is given by (1.1). Hint: First prove the __binomial theorem__\n",
    "\n",
    "$$\n",
    "(a+b)^N = \\sum_{k=0}^{N}\\begin{pmatrix} N \\\\ k \\end{pmatrix} a^k b^{N-k}\n",
    "$$\n",
    "\n",
    "by induction (see Appendix B). Use Pascal's \"triangle\" rule\n",
    "\n",
    "$$\\begin{pmatrix} \n",
    "M \\\\ k \n",
    "\\end{pmatrix} = \n",
    "\\begin{pmatrix} \n",
    "M-1 \\\\ k \n",
    "\\end{pmatrix} + \n",
    "\\begin{pmatrix} \n",
    "M-1 \\\\ k-1 \n",
    "\\end{pmatrix}$$\n",
    "\n",
    "where\n",
    "\n",
    "$$\n",
    "\\begin{pmatrix} N \\\\ k \\end{pmatrix} = 0\n",
    "$$\n",
    "\n",
    "for $k<0$ and $k>M$."
   ]
  },
  {
   "cell_type": "code",
   "execution_count": null,
   "metadata": {},
   "outputs": [],
   "source": [
    "#### Answer"
   ]
  },
  {
   "cell_type": "markdown",
   "metadata": {},
   "source": [
    "***\n",
    "#### 1.12 (t)\n",
    "If $P[a \\leq T \\leq b] = \\int_{a}^{b}{p_T(t)dt}$ is the probability of observing $T$ in the interval $[a,b]$, what is $\\int_{-\\infty}^{\\infty}{p_T(t)dt}$?"
   ]
  },
  {
   "cell_type": "code",
   "execution_count": null,
   "metadata": {},
   "outputs": [],
   "source": [
    "#### Answer"
   ]
  },
  {
   "cell_type": "markdown",
   "metadata": {},
   "source": [
    "***\n",
    "#### 1.13 😃 (f)\n",
    "Using (1.2) what is the probability of $T>7$? Hint: Observe that $p_T(t)$ is symmetric about $t=7$. Equation (1.2) defines an instance of the 1-D Gaussian distribution:\n",
    "\n",
    "$$\n",
    "p_T(t) = \\frac{1}{\\sqrt{2\\pi}} e^{-\\frac{1}{2}(t-7)^2} \\text{ for } -\\infty < t < \\infty\n",
    "$$"
   ]
  },
  {
   "cell_type": "code",
   "execution_count": null,
   "metadata": {},
   "outputs": [],
   "source": [
    "#### Answer"
   ]
  },
  {
   "cell_type": "markdown",
   "metadata": {},
   "source": [
    "***\n",
    "#### 1.14 😃 (c)\n",
    "Evaluate the integral\n",
    "$$\n",
    "\\int_{-3}^{3}{ \\frac{1}{\\sqrt{2\\pi}} e^{-\\frac{1}{2}t^2} dt}\n",
    "$$\n",
    "by using the approximation\n",
    "$$\n",
    "\\sum_{n=-L}^{L}{ \\frac{1}{\\sqrt{2\\pi}} e^{-\\frac{1}{2}(nt\\Delta)^2} \\Delta }\n",
    "$$\n",
    "\n",
    "where $L$ is the integer closest to $\\frac{3}{\\Delta}$ (the rounded value), for $\\Delta=0.1$, $\\Delta=0.01$, $\\Delta=0.001$"
   ]
  },
  {
   "cell_type": "code",
   "execution_count": 3,
   "metadata": {},
   "outputs": [
    {
     "data": {
      "text/plain": [
       "array([  30.,  300., 3000.])"
      ]
     },
     "execution_count": 3,
     "metadata": {},
     "output_type": "execute_result"
    }
   ],
   "source": [
    "def gaussian(x):\n",
    "     return np.exp(-0.5*x**2) / np.sqrt(2*np.pi)\n",
    "    \n",
    "delta = np.asarray([0.1, 0.01, 0.001])\n",
    "t = np.linspace( , , )\n",
    "\n",
    "Ls = np.round(3 / delta)\n",
    "\n",
    "results = []\n",
    "for D in delta:\n",
    "    result = []\n",
    "    Ls = np.round(3 / delta)\n",
    "    for n in Ls:\n",
    "        \n",
    "    \n",
    "    results.append(result)\n",
    "    \n",
    "results"
   ]
  },
  {
   "cell_type": "code",
   "execution_count": null,
   "metadata": {},
   "outputs": [],
   "source": []
  },
  {
   "cell_type": "markdown",
   "metadata": {},
   "source": [
    "***\n",
    "#### 1.15 (c)\n",
    "Simulate a _fair_ coin tossing experiment by modifying the code given in Section 1.4. Using `1000` repetitions of the experiment, count the number of times three heads occur. What is the simulated probability of obtaining three head in four coin tosses? Compare your result to that obtained using (1.1).\n",
    "```matlab\n",
    "number = 0;\n",
    "for i=1:4 % set up simulation for 4 coin tosses\n",
    "    if rand(1,1) < 0.75 % toss coin with p=0.75\n",
    "        x(i,1) = 1; % head\n",
    "    else\n",
    "        x(i,1) = 0; % tail\n",
    "    end\n",
    "number = number + x(i,1); % count number of heads\n",
    "end\n",
    "```"
   ]
  },
  {
   "cell_type": "code",
   "execution_count": 95,
   "metadata": {},
   "outputs": [],
   "source": [
    "def coinToss(k, p):\n",
    "    '''The coin toss random experiment\n",
    "    \n",
    "    Args:\n",
    "        k (int > 0): number of coin tosses to consider for the experiment\n",
    "        p (float): Probability of heads where p in [0,1]. A fair coin has p=0.5\n",
    "        \n",
    "    Returns:\n",
    "        count (int): number of heads observed during the experiment\n",
    "    '''\n",
    "    count = 0 # The count of heads so far\n",
    "    x = np.empty((1,k)) # a 1xk array of outcomes of each toss\n",
    "    \n",
    "    for i in range(1, k+1): # set up simulation for k coin tosses\n",
    "        if np.random.random(1) < p: # toss coin with probability of heads p\n",
    "            x[:, i-1] = 1 # heads        \n",
    "        else:\n",
    "            x[:, i-1] = 0 # tails\n",
    "        count += x[:, i-1]\n",
    "        \n",
    "    return int(count[0])"
   ]
  },
  {
   "cell_type": "markdown",
   "metadata": {},
   "source": [
    "The __relative frequency__ interpretation of the probability of observing three heads given $N$ repetitions of the experiment is given by\n",
    "\n",
    "$$\n",
    "P[3 \\text{ heads}] = \\frac{\\text{Number of times } 3 \\text{ heads observed}}{N}\n",
    "$$"
   ]
  },
  {
   "cell_type": "code",
   "execution_count": 96,
   "metadata": {},
   "outputs": [],
   "source": [
    "def runCoinExperiment(N, k=4, p=0.5):\n",
    "    '''\n",
    "    Args:\n",
    "        N (int): Number of trials of the experiment\n",
    "        k (int > 0): number of coin tosses to consider for the experiment\n",
    "        p (float): Probability of heads where p in [0,1]. A fair coin has p=0.5\n",
    "    Returns:\n",
    "        prob (float): the probability of observing 3 heads\n",
    "        outcomes (dict): the outcomes of the trials by frequency\n",
    "    '''\n",
    "    # Initialize the set of outcomes and set the count at 0\n",
    "    outcomes = {heads:0 for heads in range(k+1)}\n",
    "\n",
    "    # Repeat the experiment N times\n",
    "    for n in range(N):\n",
    "        i = coinToss(k, p) # Call the experiment\n",
    "        outcomes[i] += 1 # increment the count of seeing i heads\n",
    "\n",
    "    prob = outcomes[3] / N\n",
    "\n",
    "    return prob, outcomes"
   ]
  },
  {
   "cell_type": "code",
   "execution_count": 97,
   "metadata": {},
   "outputs": [
    {
     "name": "stdout",
     "output_type": "stream",
     "text": [
      "{0: 75, 1: 243, 2: 395, 3: 226, 4: 61}\n",
      "The probability of observing 3 Heads is:  0.226\n"
     ]
    }
   ],
   "source": [
    "N = 1000 # Number of times to repeat the experiment\n",
    "k = 4 # Number of coin tosses in one instance of the experiment\n",
    "\n",
    "prob, outcomes = runCoinExperiment(N, k)\n",
    "\n",
    "print(outcomes)\n",
    "print('The probability of observing 3 Heads is: ', prob)"
   ]
  },
  {
   "cell_type": "code",
   "execution_count": 98,
   "metadata": {},
   "outputs": [
    {
     "data": {
      "image/png": "[encoded data removed]",
      "text/plain": [
       "<Figure size 864x432 with 1 Axes>"
      ]
     },
     "metadata": {
      "needs_background": "light"
     },
     "output_type": "display_data"
    }
   ],
   "source": [
    "fig, ax = plt.subplots(figsize=(12,6))\n",
    "\n",
    "plt.bar(x=[*outcomes.keys()], height=[*outcomes.values()])\n",
    "\n",
    "# Set labels, grid, and show plot\n",
    "plt.title('Coin Toss Random Experiment Repeated 1000 Times', fontsize=15)\n",
    "plt.xlabel('Number of Heads Observed', fontsize=12)\n",
    "plt.grid(True)\n",
    "plt.show()"
   ]
  },
  {
   "cell_type": "markdown",
   "metadata": {},
   "source": [
    "***\n",
    "#### 1.16 (c)\n",
    "Repeat Problem 1.15 but instead consider a biased coin with $p=0.75$. Compare your result to Figure 1.4."
   ]
  },
  {
   "cell_type": "code",
   "execution_count": 99,
   "metadata": {},
   "outputs": [
    {
     "name": "stdout",
     "output_type": "stream",
     "text": [
      "{0: 5, 1: 48, 2: 204, 3: 415, 4: 328}\n",
      "The probability of observing 3 Heads is:  0.415\n"
     ]
    }
   ],
   "source": [
    "p = 0.75\n",
    "\n",
    "prob, outcomes = runCoinExperiment(N, k, p)\n",
    "\n",
    "print(outcomes)\n",
    "print('The probability of observing 3 Heads is: ', prob)"
   ]
  },
  {
   "cell_type": "code",
   "execution_count": 100,
   "metadata": {},
   "outputs": [
    {
     "data": {
      "image/png": "[encoded data removed]",
      "text/plain": [
       "<Figure size 864x432 with 1 Axes>"
      ]
     },
     "metadata": {
      "needs_background": "light"
     },
     "output_type": "display_data"
    }
   ],
   "source": [
    "fig, ax = plt.subplots(figsize=(12,6))\n",
    "\n",
    "plt.bar(x=[*outcomes.keys()], height=[*outcomes.values()])\n",
    "\n",
    "# Set labels, grid, and show plot\n",
    "plt.title('Coin Toss Random Experiment Repeated 1000 Times', fontsize=15)\n",
    "plt.xlabel('Number of Heads Observed', fontsize=12)\n",
    "plt.grid(True)\n",
    "plt.show()"
   ]
  },
  {
   "cell_type": "code",
   "execution_count": null,
   "metadata": {},
   "outputs": [],
   "source": []
  }
 ],
 "metadata": {
  "kernelspec": {
   "display_name": "Python 3",
   "language": "python",
   "name": "python3"
  },
  "language_info": {
   "codemirror_mode": {
    "name": "ipython",
    "version": 3
   },
   "file_extension": ".py",
   "mimetype": "text/x-python",
   "name": "python",
   "nbconvert_exporter": "python",
   "pygments_lexer": "ipython3",
   "version": "3.7.6"
  }
 },
 "nbformat": 4,
 "nbformat_minor": 4
}
