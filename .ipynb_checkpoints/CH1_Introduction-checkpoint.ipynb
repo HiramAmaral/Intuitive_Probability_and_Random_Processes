{
 "cells": [
  {
   "cell_type": "markdown",
   "metadata": {},
   "source": [
    "## Problems\n",
    "\n",
    "### Key:\n",
    "\n",
    "- __(w)__ indicates a __word__ problem\n",
    "- __(f)__ indicates a __formula__ problem\n",
    "- __(c)__ indicates a __computer__ problem\n",
    "- __(t)__ indicates a __theoretical__ problem\n",
    "- 😃 indicates the answer is available in the back"
   ]
  },
  {
   "cell_type": "markdown",
   "metadata": {},
   "source": [
    "## Imports"
   ]
  },
  {
   "cell_type": "code",
   "execution_count": 1,
   "metadata": {},
   "outputs": [
    {
     "data": {
      "text/html": [
       "\n",
       "<style>\n",
       ".output_png {\n",
       "    display: table-cell;\n",
       "    text-align: center;\n",
       "    vertical-align: middle;\n",
       "}\n",
       "</style>\n"
      ],
      "text/plain": [
       "<IPython.core.display.HTML object>"
      ]
     },
     "execution_count": 1,
     "metadata": {},
     "output_type": "execute_result"
    }
   ],
   "source": [
    "import numpy as np\n",
    "import matplotlib.pyplot as plt\n",
    "import sympy as sm\n",
    "sm.init_printing(use_latex='mathjax')\n",
    "\n",
    "%matplotlib inline\n",
    "# %matplotlib notebook is another option for interactive graphs\n",
    "\n",
    "from IPython.core.display import HTML # Code to center plots in the screen\n",
    "HTML(\"\"\"\n",
    "<style>\n",
    ".output_png {\n",
    "    display: table-cell;\n",
    "    text-align: center;\n",
    "    vertical-align: middle;\n",
    "}\n",
    "</style>\n",
    "\"\"\")"
   ]
  },
  {
   "cell_type": "markdown",
   "metadata": {},
   "source": [
    "***\n",
    "#### 1.1 😃 (w)\n",
    "A fair coin is tossed. Identify the random experiment, the set of outcomes, and the probabilities of each possible outcome."
   ]
  },
  {
   "cell_type": "markdown",
   "metadata": {},
   "source": [
    "#### Answer\n",
    "- The random experiment is tossing the coin once.\n",
    "- The set of outcomes is: $\\{H,T\\}$\n",
    "- The probabilities of each possible outcome are: $\\frac{1}{2}, \\frac{1}{2}$"
   ]
  },
  {
   "cell_type": "markdown",
   "metadata": {},
   "source": [
    "***\n",
    "#### 1.2 (w)\n",
    "A card is chosen at random from a deck of $52$ cards. Identify the random experiment, the set of outcomes, and the probabilities of each possible outcome."
   ]
  },
  {
   "cell_type": "markdown",
   "metadata": {},
   "source": [
    "#### Answer\n",
    "- The random experiment is choosing one card randomly from the deck. \n",
    "- The set of outcomes is:\n",
    "$\\{(\\text{❤️},A), \\dots, (\\text{❤️},1), \n",
    "(\\text{♠️}, A), \\dots, (\\text{♠️},1), \n",
    "(\\text{♣️}, A), \\dots, (\\text{♣️},1), \n",
    "(\\text{♦️}, A), \\dots, (\\text{♦️},1)\\}$ (emojis found [here](https://emojipedia.org/small-orange-diamond/))\n",
    "- The probabilities of each possible outcome are: $\\frac{1}{52},\\dots, \\frac{1}{52}$"
   ]
  },
  {
   "cell_type": "markdown",
   "metadata": {},
   "source": [
    "***\n",
    "#### 1.3 (w)\n",
    "A fair die is tossed and the number of dots on the face noted. Identify the random experiment, the set of outcomes, and the probabilities of each possible outcome."
   ]
  },
  {
   "cell_type": "markdown",
   "metadata": {},
   "source": [
    "#### Answer\n",
    "- The random experiment is rolling the die once.\n",
    "- The set of outcomes is: $\\{1,2,3,4,5,6\\}$\n",
    "- The probabilities of each possible outcome are: $\\frac{1}{6},\\dots, \\frac{1}{6}$"
   ]
  },
  {
   "cell_type": "markdown",
   "metadata": {},
   "source": [
    "***\n",
    "#### 1.4 (w)\n",
    "It is desired to predict the annual summer rainfall in Rhode Island for 2010. If we use $9.76$ inches as our prediction, how much in error might we be, based on the past data shown in Figure 1.1? Repeat the problem for Arizona by using $4.40$ inches as the prediction."
   ]
  },
  {
   "cell_type": "markdown",
   "metadata": {},
   "source": [
    "#### Answer\n",
    "- Rhode Island\n",
    "   - The farthest (not the standard) deviation from the average is $\\approx 7.25$ inches so at worst $75\\%$ error\n",
    "- Arizona\n",
    "   - The farthest (not the standard) deviation from the average is $\\approx 4.4$ inches so at worst $100\\%$ error"
   ]
  },
  {
   "cell_type": "markdown",
   "metadata": {},
   "source": [
    "***\n",
    "#### 1.5 😃 (w)\n",
    "Determine whether the following experiments have discrete or continuous outcomes:\n",
    "1. Throw a dart with a point tip at a dartboard\n",
    "2. Toss a die\n",
    "3. Choose a lottery number\n",
    "4. Observe the outdoor temperature using an analog thermometer\n",
    "5. Determine the current time in hours, minutes, seconds, and AM or PM"
   ]
  },
  {
   "cell_type": "markdown",
   "metadata": {},
   "source": [
    "#### Answer\n",
    "1. Continuous\n",
    "2. Discrete\n",
    "3. Discrete\n",
    "4. Continuous\n",
    "5. Discrete"
   ]
  },
  {
   "cell_type": "markdown",
   "metadata": {},
   "source": [
    "***\n",
    "#### 1.6 (w)\n",
    "An experiment has $N=10$ outcomes that are equally probable. What is the probability of each outcome? Now let $N=1000$ and also $N=1,000,000$ and repeat. What happens as $N \\rightarrow \\infty$?"
   ]
  },
  {
   "cell_type": "markdown",
   "metadata": {},
   "source": [
    "#### Answer\n",
    "- $N=10$:\n",
    "    -  The probability of each outcome is $\\frac{1}{10}= 0.1$\n",
    "    \n",
    "    \n",
    "- $N=1000$: \n",
    "    - The probability of each outcome is $\\frac{1}{1000}=0.001$\n",
    "    \n",
    "    \n",
    "- $N=1,000,000$: \n",
    "    - The probability of each outcome is $\\frac{1}{1,000,000}=0.000001$\n",
    "    \n",
    "    \n",
    "- $N\\rightarrow \\infty$: \n",
    "    - The probability of each outcome is $\\lim_{n \\rightarrow \\infty} { \\frac{1}{n} } = 0$"
   ]
  },
  {
   "cell_type": "markdown",
   "metadata": {},
   "source": [
    "***\n",
    "#### 1.7 😃 (f)\n",
    "Consider an experiment with possible outcomes $\\{1,2,3,\\dots\\}$. If we assign probabilities\n",
    "\n",
    "$$\n",
    "P[k] = \\frac{1}{2^k}, \\text{ for }  k=1,2,3\\dots\n",
    "$$\n",
    "\n",
    "to the outcomes, will these probabilities sum to one? Can you have an infinite number of outcomes but still assign nonzero probabilities to each outcome? Reconcile these results with that of Problem 1.6."
   ]
  },
  {
   "cell_type": "markdown",
   "metadata": {},
   "source": [
    "#### Answer\n",
    "We begin with an infinte sum\n",
    "$$\n",
    "\\sum_{i=1}^{\\infty}{P[i]} = \\sum_{i=1}^{\\infty}{\\big(\\frac{1}{2} \\big)^i}\n",
    "$$\n",
    "\n",
    "This is an instance of a real geometric series with $k=1$: Let $x\\in\\mathbb{R}: |x|<1$\n",
    "\n",
    "$$\n",
    "\\sum_{i=k}^{\\infty}{x^i} = \\frac{x^k}{1 - x}\n",
    "$$\n",
    "\n",
    "So for our problem \n",
    "\n",
    "$$\\begin{equation}\n",
    "    \\begin{split}\n",
    "        \\sum_{i=1}^{\\infty}{\\big(\\frac{1}{2} \\big)^i} &= \\frac{x}{1-x} \\\\\n",
    "        &= \\frac{\\frac{1}{2}}{1 - \\frac{1}{2}} \\\\\n",
    "        &= 1.\n",
    "    \\end{split}\n",
    "\\end{equation}$$\n",
    "\n",
    "Even though there is an infinite set of outcomes, the probabilities assigned to each are nonzero and still sum to $1$ in the limit. At the end of Problem 1.6 we saw the opposite behavior (under different conditions): an infinite set of _equiprobable_ outcomes weights each individual outcome with zero probability."
   ]
  },
  {
   "cell_type": "markdown",
   "metadata": {},
   "source": [
    "***\n",
    "#### 1.8 (w)\n",
    "An experiment consists of tossing a fair coin four times in succession. What are the possible outcomes? Now count up the number of outcomes with three heads. If the outcomes are equally probable, what is the probability of three heads? Compare your results to that obtained using equation (1.1)\n",
    "\n",
    "$$\n",
    "\\begin{equation}\n",
    "    P[k] = \\begin{pmatrix} N \\\\ k \\end{pmatrix}p^k(1-p)^{N-k}\n",
    "\\end{equation}\n",
    "$$\n",
    "\n",
    "where\n",
    "\n",
    "$$\n",
    "\\begin{equation}\n",
    "    \\begin{pmatrix} N \\\\ k \\end{pmatrix}\n",
    "    =\n",
    "    \\frac{N!}{(N-k)!k!}\n",
    "\\end{equation}\n",
    "$$"
   ]
  },
  {
   "cell_type": "markdown",
   "metadata": {},
   "source": [
    "#### Answer\n",
    "\n",
    "The possible outcomes $\\{x_1,x_2,x_3,x_4\\}$ are:\n",
    "\n",
    "$\\{H,H,H,H\\}$, $\\{T,H,H,H\\}$, $\\{H,T,H,H\\}$, $\\{H,H,T,H\\}$, $\\{H,H,H,T\\}$, $\\{T,T,H,H\\}$, $\\{H,T,T,H\\}$, $\\{H,H,T,T\\}$, $\\{T,H,T,H\\}$, $\\{H,T,H,T\\}$, $\\{T,H,H,T\\}$, $\\{T,T,T,H\\}$, $\\{H,T,T,T\\}$, $\\{T,T,H,T\\}$, $\\{T,H,T,T\\}$, $\\{T,T,T,T\\}$\n",
    "\n",
    "We can also use Python to find the possible outcomes using a list comprehension to enumerate the $2^4$ options."
   ]
  },
  {
   "cell_type": "code",
   "execution_count": 2,
   "metadata": {},
   "outputs": [
    {
     "data": {
      "text/latex": [
       "$\\displaystyle \\left[ \\left( 0, \\  0, \\  0, \\  0\\right), \\  \\left( 0, \\  0, \\  0, \\  1\\right), \\  \\left( 0, \\  0, \\  1, \\  0\\right), \\  \\left( 0, \\  0, \\  1, \\  1\\right), \\  \\left( 0, \\  1, \\  0, \\  0\\right), \\  \\left( 0, \\  1, \\  0, \\  1\\right), \\  \\left( 0, \\  1, \\  1, \\  0\\right), \\  \\left( 0, \\  1, \\  1, \\  1\\right), \\  \\left( 1, \\  0, \\  0, \\  0\\right), \\  \\left( 1, \\  0, \\  0, \\  1\\right), \\  \\left( 1, \\  0, \\  1, \\  0\\right), \\  \\left( 1, \\  0, \\  1, \\  1\\right), \\  \\left( 1, \\  1, \\  0, \\  0\\right), \\  \\left( 1, \\  1, \\  0, \\  1\\right), \\  \\left( 1, \\  1, \\  1, \\  0\\right), \\  \\left( 1, \\  1, \\  1, \\  1\\right)\\right]$"
      ],
      "text/plain": [
       "[(0, 0, 0, 0), (0, 0, 0, 1), (0, 0, 1, 0), (0, 0, 1, 1), (0, 1, 0, 0), (0, 1, \n",
       "0, 1), (0, 1, 1, 0), (0, 1, 1, 1), (1, 0, 0, 0), (1, 0, 0, 1), (1, 0, 1, 0), (\n",
       "1, 0, 1, 1), (1, 1, 0, 0), (1, 1, 0, 1), (1, 1, 1, 0), (1, 1, 1, 1)]"
      ]
     },
     "execution_count": 2,
     "metadata": {},
     "output_type": "execute_result"
    }
   ],
   "source": [
    "# Get unique combinations \n",
    "outcomes = [(i,j,k,l) for i in (0,1) for j in (0,1) for k in (0,1) for l in (0,1)]\n",
    "outcomes"
   ]
  },
  {
   "cell_type": "code",
   "execution_count": 3,
   "metadata": {},
   "outputs": [
    {
     "name": "stdout",
     "output_type": "stream",
     "text": [
      "[0 1 1 2 1 2 2 3 1 2 2 3 2 3 3 4]\n"
     ]
    },
    {
     "data": {
      "text/latex": [
       "$\\displaystyle 0.25$"
      ],
      "text/plain": [
       "0.25"
      ]
     },
     "execution_count": 3,
     "metadata": {},
     "output_type": "execute_result"
    }
   ],
   "source": [
    "# Sum each element of the outcomes to find number of heads\n",
    "count = np.array([sum(i) for i in outcomes])\n",
    "print(count)\n",
    "\n",
    "# Count up the number of outcomes with three heads and divide by the length of all the outcomes\n",
    "prob = len(count[count == 3]) / len(count)\n",
    "prob"
   ]
  },
  {
   "cell_type": "markdown",
   "metadata": {},
   "source": [
    "Using equation (1.1), we can solve the problem through analytical means. Let $N=4, k=3,$ and $ p=\\frac{1}{2}$, then\n",
    "    \n",
    "$$\\begin{equation}\n",
    "    \\begin{split}\n",
    "        P[3] &= \\begin{pmatrix} 4 \\\\ 3 \\end{pmatrix} \\big(\\frac{1}{2} \\big)^3 \\big(1-\\frac{1}{2} \\big)^{4-3} \\\\\n",
    "        \\\\\n",
    "        &= \\frac{4!}{(4-3)!3!}\\big(\\frac{1}{8} \\big)\\big(\\frac{1}{2}\\big) \\\\\n",
    "        \\\\\n",
    "        &= \\frac{1}{4}\n",
    "    \\end{split}\n",
    "\\end{equation}$$"
   ]
  },
  {
   "cell_type": "markdown",
   "metadata": {},
   "source": [
    "***\n",
    "#### 1.9 (w)\n",
    "Perform the following experiment by _actually tossing_ a coin of your choice. Flip the coin four times and observe the number of heads. Then, repeat this experiment $10$ times. Using (1.1) determine the probability for $k=0,1,2,3,4$ heads. Next, use (1.1) to determine the number of heads that is most probable for a single experiment. In your $10$ experiments which number of heads appeared most often?"
   ]
  },
  {
   "cell_type": "markdown",
   "metadata": {},
   "source": [
    "#### Answer\n",
    "\n",
    "Trial:              | 1    | 2    | 3    | 4    | 5    | 6    | 7    | 8    | 9    | 10\n",
    "--------------------|------|------|------|------|------|------|------|------|------|------\n",
    "__Result:__         | HHTH | HTHT | TTTT | TTHH | THTH | HHHT | HTTH | HTHT | HHHT | HTHT\n",
    "__Number of Heads__ | 3    | 2    | 0    | 2    | 2    | 3    | 2    | 2    | 3    | 2\n",
    "\n",
    "\n",
    "k:   | 0    | 1    | 2    | 3    | 4\n",
    "-----|------|------|------|------|------\n",
    "P[k] |$\\frac{1}{16}$ | $\\frac{4}{16}$ | $\\frac{6}{16}$ | $\\frac{4}{16}$ | $\\frac{1}{16}$\n",
    "\n",
    "In our $10$ experiments $2$ heads appeared most often which agrees with the assumption that we used a fair coin and the fact that $P[2]$ has the highest probability of happening. Notice that the pattern of the numerators follows the coefficients in [Pascal's \"triangle\"](https://www.wikiwand.com/en/Pascal%27s_triangle) (row 4).\n",
    "\n",
    "<img align=\"left\" width=\"400\" height=\"400\" src=\"https://upload.wikimedia.org/wikipedia/commons/4/47/Binomial_theorem_visualisation.svg\">\n",
    "\n",
    "<img align=\"right\" width=\"300\" height=\"300\" src=\"https://upload.wikimedia.org/wikipedia/commons/0/0d/PascalTriangleAnimated2.gif\">"
   ]
  },
  {
   "cell_type": "markdown",
   "metadata": {},
   "source": [
    "***\n",
    "#### 1.10 😃 (w)\n",
    "A coin is tossed $12$ times. The sequence observed is the 12-tuple $(H,H,T,H,H,T,H,H,H,H,T,H)$. Is this coin fair? Hint: Determine $P[k=9]$ using (1.1) assuming a probability of heads is $p=\\frac{1}{2}$."
   ]
  },
  {
   "cell_type": "markdown",
   "metadata": {},
   "source": [
    "#### Answer\n",
    "\n",
    "Following the hint\n",
    "\n",
    "$$\\begin{equation}\n",
    "    \\begin{split}\n",
    "    P[9] &= \\begin{pmatrix} 12 \\\\ 9 \\end{pmatrix} \\big(\\frac{1}{2} \\big)^9 \\big(1-\\frac{1}{2} \\big)^{12-9} \\\\\n",
    "    \\\\\n",
    "    &= \\frac{12!}{(12-9)!9!}\\big(\\frac{1}{512} \\big)\\big(\\frac{1}{8}\\big) \\\\\n",
    "    \\\\\n",
    "    &= \\frac{(12)(11)(10)}{3!}\\frac{1}{4096} \\\\\n",
    "    \\\\\n",
    "    &\\approx 0.054\n",
    "    \\end{split}\n",
    "\\end{equation}$$\n",
    "\n",
    "So there's about a $5.4\\%$ chance we'd observe this sequence if the coin is fair. That's pretty low, so it's reasonable to conclude that this coin is _likely_ biased."
   ]
  },
  {
   "cell_type": "markdown",
   "metadata": {},
   "source": [
    "***\n",
    "#### 1.11 (t)\n",
    "Prove that $\\sum_{k=0}^{N}{P[k]} = 1$, where $P[k]$ is given by (1.1). Hint: First prove the __binomial theorem__\n",
    "\n",
    "$$\n",
    "(a+b)^N = \\sum_{k=0}^{N}\\begin{pmatrix} N \\\\ k \\end{pmatrix} a^k b^{N-k}\n",
    "$$\n",
    "\n",
    "by induction (see Appendix B). Use Pascal's \"triangle\" rule\n",
    "\n",
    "$$\\begin{pmatrix} \n",
    "M \\\\ k \n",
    "\\end{pmatrix} = \n",
    "\\begin{pmatrix} \n",
    "M-1 \\\\ k \n",
    "\\end{pmatrix} + \n",
    "\\begin{pmatrix} \n",
    "M-1 \\\\ k-1 \n",
    "\\end{pmatrix}$$\n",
    "\n",
    "where\n",
    "\n",
    "$$\n",
    "\\begin{pmatrix} M \\\\ k \\end{pmatrix} = 0\n",
    "$$\n",
    "\n",
    "for $k<0$ and $k>M$."
   ]
  },
  {
   "cell_type": "markdown",
   "metadata": {},
   "source": [
    "#### Answer\n",
    "\n",
    "Let's begin by proving the binomial theorem by induction. First we consider the base case $N = 0$ and show that the $LHS=RHS$:\n",
    "\n",
    "$$\n",
    "(a+b)^0 = 1\n",
    "$$\n",
    "\n",
    "and\n",
    "\n",
    "$$\n",
    "\\sum_{k=0}^{0}\\begin{pmatrix} 0 \\\\ k \\end{pmatrix} a^k b^{0-k} = \\begin{pmatrix} 0 \\\\ 0 \\end{pmatrix}(1)(1) = 1.\n",
    "$$\n",
    "\n",
    "Now we assume that the formula holds true for an arbitrary $N = n >0$:\n",
    "\n",
    "$$\n",
    "(a+b)^n = \\sum_{k=0}^{n}\\begin{pmatrix} n \\\\ k \\end{pmatrix} a^k b^{n-k}.\n",
    "$$\n",
    "\n",
    "Next we need to show the result hold for $N = n+1$:\n",
    "\n",
    "$$\\begin{align}\n",
    "% Step1\n",
    "(a+b)^{n+1} &= (a+b)(a+b)^n\\\\\n",
    "\\\\\n",
    "% Step2 \n",
    "&= (a+b)\\sum_{k=0}^{n}\\begin{pmatrix} n \\\\ k \\end{pmatrix} a^k b^{n-k} \n",
    "\\end{align}\n",
    "$$\n",
    "\n",
    "$$\n",
    "% Step3\n",
    "= (a+b)\\bigg(\n",
    "\\begin{pmatrix} n \\\\ 0 \\end{pmatrix}b^n + \n",
    "\\begin{pmatrix} n \\\\ 1 \\end{pmatrix}ab^{n-1} + \n",
    "\\begin{pmatrix} n \\\\ 2 \\end{pmatrix}a^2b^{n-2} +\n",
    "\\dots +\n",
    "\\begin{pmatrix} n \\\\ n-2 \\end{pmatrix}a^{n-2}b^2 +\n",
    "\\begin{pmatrix} n \\\\ n-1 \\end{pmatrix}a^{n-1}b +\n",
    "\\begin{pmatrix} n \\\\ n \\end{pmatrix}a^{n}\n",
    "\\bigg). \n",
    "$$\n",
    "\n",
    "It's going to get worse before it gets better:\n",
    "\n",
    "$$\n",
    "% Step4\n",
    "(a+b)^{n+1} = A + B\n",
    "$$ \n",
    "\n",
    "where\n",
    "\n",
    "$$\n",
    "A = \\begin{pmatrix} n \\\\ 0 \\end{pmatrix}ab^n + \n",
    "\\begin{pmatrix} n \\\\ 1 \\end{pmatrix}a^2b^{n-1} + \n",
    "\\begin{pmatrix} n \\\\ 2 \\end{pmatrix}a^3b^{n-2} +\n",
    "\\dots +\n",
    "\\begin{pmatrix} n \\\\ n-2 \\end{pmatrix}a^{n-1}b^2 +\n",
    "\\begin{pmatrix} n \\\\ n-1 \\end{pmatrix}a^{n}b +\n",
    "\\begin{pmatrix} n \\\\ n \\end{pmatrix}a^{n+1}\n",
    "$$\n",
    "\n",
    "and\n",
    "\n",
    "$$\n",
    "B= \\begin{pmatrix} n \\\\ 0 \\end{pmatrix}b^{n+1} + \n",
    "\\begin{pmatrix} n \\\\ 1 \\end{pmatrix}ab^{n} + \n",
    "\\begin{pmatrix} n \\\\ 2 \\end{pmatrix}a^2b^{n-1} +\n",
    "\\dots +\n",
    "\\begin{pmatrix} n \\\\ n-2 \\end{pmatrix}a^{n-2}b^3 +\n",
    "\\begin{pmatrix} n \\\\ n-1 \\end{pmatrix}a^{n-1}b^2 +\n",
    "\\begin{pmatrix} n \\\\ n \\end{pmatrix}a^{n}b \n",
    "$$\n",
    "\n",
    "Now we'll group like terms and use Pascal's \"triangle\" rule:\n",
    "\n",
    "$$\n",
    "= b^{n+1} + \n",
    "\\bigg(\\begin{pmatrix} n \\\\ 0 \\end{pmatrix} + \\begin{pmatrix} n \\\\ 1 \\end{pmatrix}\\bigg)ab^{n} + \n",
    "\\bigg(\\begin{pmatrix} n \\\\ 1 \\end{pmatrix} + \\begin{pmatrix} n \\\\ 2 \\end{pmatrix}\\bigg)a^2b^{n-1} + \n",
    "\\dots +\n",
    "\\bigg(\\begin{pmatrix} n \\\\ n-2 \\end{pmatrix} + \\begin{pmatrix} n \\\\ n-1 \\end{pmatrix}\\bigg)a^{n-1}b^2 +\n",
    "\\bigg(\\begin{pmatrix} n \\\\ n-1 \\end{pmatrix} + \\begin{pmatrix} n \\\\ n \\end{pmatrix}\\bigg)a^{n}b + \n",
    "a^{n+1}\n",
    "$$\n",
    "\n",
    "$$\n",
    "= b^{n+1} + \n",
    "\\begin{pmatrix} n+1 \\\\ 1 \\end{pmatrix}ab^{n} + \n",
    "\\begin{pmatrix} n+1 \\\\ 2 \\end{pmatrix}a^2b^{n-1} + \n",
    "\\dots +\n",
    "\\begin{pmatrix} n+1 \\\\ n-1 \\end{pmatrix}a^{n-1}b^2 +\n",
    "\\begin{pmatrix} n+1 \\\\ n \\end{pmatrix}a^{n}b + \n",
    "a^{n+1}\n",
    "$$\n",
    "\n",
    "$$\n",
    "= \\sum_{k=0}^{n+1}\\begin{pmatrix} n+1 \\\\ k \\end{pmatrix} a^k b^{n+1-k}\n",
    "$$\n",
    "\n",
    "Thus, we have shown by induction that the binomial theorem is true."
   ]
  },
  {
   "cell_type": "markdown",
   "metadata": {},
   "source": [
    "Now, our job is to use this result to show equation (1.1) sums to one. We begin by noting that equation (1.1) can be found by substituting $a \\leftarrow p $ and $b \\leftarrow (1-p) $ in the binomial theorem thus:\n",
    "\n",
    "$$\\sum_{k=0}^{N}{\\begin{pmatrix} N \\\\ k \\end{pmatrix}p^k(1-p)^{N-k}} = (a+b)^N = 1^N = 1.$$"
   ]
  },
  {
   "cell_type": "markdown",
   "metadata": {},
   "source": [
    "***\n",
    "#### 1.12 (t)\n",
    "If $P[a \\leq T \\leq b] = \\int_{a}^{b}{p_T(t)dt}$ is the probability of observing $T$ in the interval $[a,b]$, what is $\\int_{-\\infty}^{\\infty}{p_T(t)dt}$?"
   ]
  },
  {
   "cell_type": "markdown",
   "metadata": {},
   "source": [
    "#### Answer\n",
    "\n",
    "This is the probability of observing $T$ in the entire probability space and is necessarily guaranteed because _all_ of the area under the curve is accounted for: \n",
    "\n",
    "$$\\int_{-\\infty}^{\\infty}{p_T(t)dt} = 1$$"
   ]
  },
  {
   "cell_type": "markdown",
   "metadata": {},
   "source": [
    "***\n",
    "#### 1.13 😃 (f)\n",
    "Using (1.2) what is the probability of $T>7$? Hint: Observe that $p_T(t)$ is symmetric about $t=7$. Equation (1.2) defines an instance of the 1-D Gaussian distribution:\n",
    "\n",
    "$$\n",
    "p_T(t) = \\frac{1}{\\sqrt{2\\pi}} e^{-\\frac{1}{2}(t-7)^2} \\text{ for } -\\infty < t < \\infty\n",
    "$$"
   ]
  },
  {
   "cell_type": "markdown",
   "metadata": {},
   "source": [
    "#### Answer\n",
    "\n",
    "Since we know that $p_T(t)$ is symmetric about $t=7$ we can immediately conclude that __half__ of the total probability lies on either side of $t=7$. To show this analytically we integrate\n",
    "\n",
    "$$\n",
    "P(7 < T) = \\int_{7}^{\\infty} \\frac{1}{\\sqrt{2\\pi}} e^{-\\frac{1}{2}(t-7)^2}dt\n",
    "$$\n",
    "\n",
    "Let's allow [`sympy`](https://docs.sympy.org/latest/modules/integrals/integrals.html) to do the heavy lifting and calculate the definite integral for us."
   ]
  },
  {
   "cell_type": "code",
   "execution_count": 4,
   "metadata": {},
   "outputs": [
    {
     "data": {
      "text/latex": [
       "$\\displaystyle \\frac{1}{2}$"
      ],
      "text/plain": [
       "1/2"
      ]
     },
     "execution_count": 4,
     "metadata": {},
     "output_type": "execute_result"
    }
   ],
   "source": [
    "# Define the variable\n",
    "t = sm.symbols('t')\n",
    "\n",
    "# Define the gaussian probability density function pT(t)\n",
    "pT = sm.exp(-sm.Rational(1,2)*(t-7)**2) / sm.sqrt(2*sm.pi)\n",
    "\n",
    "# Symbolically integrate the expression\n",
    "sm.integrate(pT, (t, 7, sm.oo))"
   ]
  },
  {
   "cell_type": "markdown",
   "metadata": {},
   "source": [
    "***\n",
    "#### 1.14 😃 (c)\n",
    "Evaluate the integral\n",
    "$$\n",
    "\\int_{-3}^{3}{ \\frac{1}{\\sqrt{2\\pi}} e^{-\\frac{1}{2}t^2} dt}\n",
    "$$\n",
    "by using the approximation\n",
    "$$\n",
    "\\sum_{n=-L}^{L}{ \\frac{1}{\\sqrt{2\\pi}} e^{-\\frac{1}{2}(n\\Delta)^2} \\Delta }\n",
    "$$\n",
    "\n",
    "where $L$ is the integer closest to $\\frac{3}{\\Delta}$ (the rounded value), for $\\Delta=0.1$, $\\Delta=0.01$, $\\Delta=0.001$. (Note that there was likely a typo in the above sum in the book: there shouldn't be a $t$ present.)"
   ]
  },
  {
   "cell_type": "code",
   "execution_count": 5,
   "metadata": {},
   "outputs": [],
   "source": [
    "def g(n,d):\n",
    "    '''\n",
    "    Args:\n",
    "        n (int): integer along x-axis in [-3,3]\n",
    "        d (int): partition size\n",
    "        \n",
    "    Returns:\n",
    "        (float): Approx integral of Gaussian curve with given parameters\n",
    "    '''\n",
    "    return d * sm.exp(-0.5*(n*d)**2) / sm.sqrt(2*np.pi)"
   ]
  },
  {
   "cell_type": "code",
   "execution_count": 6,
   "metadata": {},
   "outputs": [
    {
     "data": {
      "text/latex": [
       "$\\displaystyle 0.997304633569231$"
      ],
      "text/plain": [
       "0.997304633569231"
      ]
     },
     "execution_count": 6,
     "metadata": {},
     "output_type": "execute_result"
    }
   ],
   "source": [
    "delta = 0.001                # partition size\n",
    "L = int(np.round(3 / delta)) # Bounds of the sum\n",
    "ns = np.arange(-L, L+1)      # integers along x-axis in [-L,L]\n",
    "\n",
    "result = []\n",
    "for n in ns:            # Loop over all integers in [-L,L]\n",
    "    calc = g(n, delta)  # Calculations for a particular n\n",
    "    result.append(calc) # Store the value\n",
    "\n",
    "sum(result)"
   ]
  },
  {
   "cell_type": "markdown",
   "metadata": {},
   "source": [
    "***\n",
    "#### 1.15 (c)\n",
    "Simulate a _fair_ coin tossing experiment by modifying the code given in Section 1.4. Using `1000` repetitions of the experiment, count the number of times three heads occur. What is the simulated probability of obtaining three head in four coin tosses? Compare your result to that obtained using (1.1).\n",
    "```matlab\n",
    "number = 0;\n",
    "for i=1:4 % set up simulation for 4 coin tosses\n",
    "    if rand(1,1) < 0.75 % toss coin with p=0.75\n",
    "        x(i,1) = 1; % head\n",
    "    else\n",
    "        x(i,1) = 0; % tail\n",
    "    end\n",
    "number = number + x(i,1); % count number of heads\n",
    "end\n",
    "```"
   ]
  },
  {
   "cell_type": "markdown",
   "metadata": {},
   "source": [
    "The __relative frequency__ interpretation of the probability of observing three heads given $N$ repetitions of the experiment is given by\n",
    "\n",
    "\n",
    "$$\n",
    "P[\\text{3 heads}] = \\frac{\\text{Number of times 3 heads observed}}{N}\n",
    "$$"
   ]
  },
  {
   "cell_type": "code",
   "execution_count": 7,
   "metadata": {},
   "outputs": [],
   "source": [
    "def coinToss(k, p):\n",
    "    '''The coin toss random experiment\n",
    "    \n",
    "    Args:\n",
    "        k (int > 0): number of coin tosses to consider for the experiment\n",
    "        p (float): Probability of heads where p in [0,1]. A fair coin has p=0.5\n",
    "        \n",
    "    Returns:\n",
    "        count (int): number of heads observed during the experiment\n",
    "    '''\n",
    "    count = 0 # The count of heads so far\n",
    "    x = np.empty((1,k)) # a 1xk array of outcomes of each toss\n",
    "    \n",
    "    for i in range(1, k+1): # set up simulation for k coin tosses\n",
    "        if np.random.random(1) < p: # toss coin with probability of heads p\n",
    "            x[:, i-1] = 1 # heads        \n",
    "        else:\n",
    "            x[:, i-1] = 0 # tails\n",
    "        count += x[:, i-1]\n",
    "        \n",
    "    return int(count[0])"
   ]
  },
  {
   "cell_type": "code",
   "execution_count": 8,
   "metadata": {},
   "outputs": [],
   "source": [
    "def runCoinExperiment(N, k=4, p=0.5):\n",
    "    '''\n",
    "    Args:\n",
    "        N (int): Number of trials of the experiment\n",
    "        k (int > 0): number of coin tosses to consider for the experiment\n",
    "        p (float): Probability of heads where p in [0,1]. A fair coin has p=0.5\n",
    "    Returns:\n",
    "        prob (float): the probability of observing 3 heads\n",
    "        outcomes (dict): the outcomes of the trials by frequency\n",
    "    '''\n",
    "    # Initialize the set of outcomes and set the count at 0\n",
    "    outcomes = {heads:0 for heads in range(k+1)}\n",
    "\n",
    "    # Repeat the experiment N times\n",
    "    for n in range(N):\n",
    "        i = coinToss(k, p) # Call the experiment\n",
    "        outcomes[i] += 1 # increment the count of seeing i heads\n",
    "\n",
    "    prob = outcomes[3] / N\n",
    "\n",
    "    return prob, outcomes"
   ]
  },
  {
   "cell_type": "code",
   "execution_count": 9,
   "metadata": {},
   "outputs": [
    {
     "name": "stdout",
     "output_type": "stream",
     "text": [
      "{0: 49, 1: 255, 2: 389, 3: 249, 4: 58}\n",
      "The probability of observing 3 Heads is:  0.249\n"
     ]
    }
   ],
   "source": [
    "N = 1000 # Number of times to repeat the experiment\n",
    "k = 4 # Number of coin tosses in one instance of the experiment\n",
    "\n",
    "prob, outcomes = runCoinExperiment(N, k)\n",
    "\n",
    "print(outcomes)\n",
    "print('The probability of observing 3 Heads is: ', prob)"
   ]
  },
  {
   "cell_type": "code",
   "execution_count": 10,
   "metadata": {},
   "outputs": [
    {
     "data": {
      "image/png": "[encoded data removed]",
      "text/plain": [
       "<Figure size 864x432 with 1 Axes>"
      ]
     },
     "metadata": {
      "needs_background": "light"
     },
     "output_type": "display_data"
    }
   ],
   "source": [
    "fig, ax = plt.subplots(figsize=(12,6))\n",
    "\n",
    "plt.bar(x=[*outcomes.keys()], height=[*outcomes.values()])\n",
    "\n",
    "# Set labels, grid, and show plot\n",
    "plt.title('Coin Toss Random Experiment Repeated 1000 Times', fontsize=15)\n",
    "plt.xlabel('Number of Heads Observed', fontsize=12)\n",
    "plt.grid(True)\n",
    "plt.show()"
   ]
  },
  {
   "cell_type": "markdown",
   "metadata": {},
   "source": [
    "***\n",
    "#### 1.16 (c)\n",
    "Repeat Problem 1.15 but instead consider a biased coin with $p=0.75$. Compare your result to Figure 1.4."
   ]
  },
  {
   "cell_type": "code",
   "execution_count": 11,
   "metadata": {},
   "outputs": [
    {
     "name": "stdout",
     "output_type": "stream",
     "text": [
      "{0: 4, 1: 45, 2: 205, 3: 432, 4: 314}\n",
      "The probability of observing 3 Heads is:  0.432\n"
     ]
    }
   ],
   "source": [
    "p = 0.75\n",
    "\n",
    "prob, outcomes = runCoinExperiment(N, k, p)\n",
    "\n",
    "print(outcomes)\n",
    "print('The probability of observing 3 Heads is: ', prob)"
   ]
  },
  {
   "cell_type": "code",
   "execution_count": 12,
   "metadata": {},
   "outputs": [
    {
     "data": {
      "image/png": "[encoded data removed]",
      "text/plain": [
       "<Figure size 864x432 with 1 Axes>"
      ]
     },
     "metadata": {
      "needs_background": "light"
     },
     "output_type": "display_data"
    }
   ],
   "source": [
    "fig, ax = plt.subplots(figsize=(12,6))\n",
    "\n",
    "plt.bar(x=[*outcomes.keys()], height=[*outcomes.values()])\n",
    "\n",
    "# Set labels, grid, and show plot\n",
    "plt.title('Coin Toss Random Experiment Repeated 1000 Times', fontsize=15)\n",
    "plt.xlabel('Number of Heads Observed', fontsize=12)\n",
    "plt.grid(True)\n",
    "plt.show()"
   ]
  },
  {
   "cell_type": "code",
   "execution_count": null,
   "metadata": {},
   "outputs": [],
   "source": []
  }
 ],
 "metadata": {
  "kernelspec": {
   "display_name": "Python 3",
   "language": "python",
   "name": "python3"
  },
  "language_info": {
   "codemirror_mode": {
    "name": "ipython",
    "version": 3
   },
   "file_extension": ".py",
   "mimetype": "text/x-python",
   "name": "python",
   "nbconvert_exporter": "python",
   "pygments_lexer": "ipython3",
   "version": "3.7.6"
  }
 },
 "nbformat": 4,
 "nbformat_minor": 4
}
