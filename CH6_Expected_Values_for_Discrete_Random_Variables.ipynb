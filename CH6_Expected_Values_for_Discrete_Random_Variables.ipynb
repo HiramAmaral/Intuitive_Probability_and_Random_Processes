{
 "cells": [
  {
   "cell_type": "markdown",
   "metadata": {},
   "source": [
    "## Imports"
   ]
  },
  {
   "cell_type": "code",
   "execution_count": 1,
   "metadata": {},
   "outputs": [],
   "source": [
    "import numpy as np\n",
    "from scipy.special import comb\n",
    "from scipy.special import factorial\n",
    "from collections import Counter\n",
    "\n",
    "import matplotlib.pyplot as plt\n",
    "%matplotlib inline \n",
    "plt.style.use('ggplot')\n",
    "\n",
    "import seaborn as sns\n",
    "sns.set(font_scale=1.5)"
   ]
  },
  {
   "attachments": {},
   "cell_type": "markdown",
   "metadata": {},
   "source": [
    "## Notes:\n",
    "\n",
    "***\n",
    "\n",
    "***\n",
    "\n",
    "***\n",
    "- Anywhere this picture occurs indicates a problem I need to check or finish:\n",
    "\n",
    "\n",
    "![finish-me.jpg](https://i.pinimg.com/564x/a4/b6/38/a4b638b7d6926e4f494b1d94459052ff.jpg)"
   ]
  },
  {
   "cell_type": "markdown",
   "metadata": {},
   "source": [
    "***\n",
    "## Problems\n",
    "\n",
    "### Key:\n",
    "\n",
    "- __(w)__ indicates a __word__ problem\n",
    "- __(f)__ indicates a __formula__ problem\n",
    "- __(c)__ indicates a __computer__ problem\n",
    "- __(t)__ indicates a __theoretical__ problem\n",
    "- 😃 indicates the answer is available in the back"
   ]
  },
  {
   "cell_type": "markdown",
   "metadata": {},
   "source": [
    "### 6.1 (w)\n",
    "\n",
    "The center of mass of a system of masses situated on a line is the point at which the system is balanced. That is to say that at this point the sum of the moments, where the moment is the distance from the center of mass times mass, is zero. If the center of mass is denoted by $CM$ then\n",
    "\n",
    "$$\n",
    "\\sum_{i=1}^{M}{(x_i - CM)m_i} = 0\n",
    "$$\n",
    "\n",
    "where $x_i$ is the position of the $i^{th}$ mass along the $x$ direction and $m_i$ is its corresponding mass. First solve for CM. Then, for the system of weights shown in Figure 6.8 determine the center of mass. How is this analogous to the expected value of a discrete random variable?"
   ]
  },
  {
   "cell_type": "markdown",
   "metadata": {},
   "source": [
    "#### Answer:\n",
    "\n"
   ]
  },
  {
   "cell_type": "markdown",
   "metadata": {},
   "source": [
    "***\n",
    "### 6.2 😃 (f)\n",
    "\n",
    "For the discrete random variable with PMF\n",
    "\n",
    "$$\n",
    "p_X[k] = \\frac{1}{10}\n",
    "$$\n",
    "\n",
    "for $k=0,1,2,\\dots,9$, find the expected value of $X$."
   ]
  },
  {
   "cell_type": "markdown",
   "metadata": {},
   "source": [
    "#### Answer:\n",
    "\n"
   ]
  },
  {
   "cell_type": "markdown",
   "metadata": {},
   "source": [
    "***\n",
    "### 6.3 (w)\n",
    "\n",
    "A die is tossed. The probability of obtaining a $1,2,$ or $3$ is the same. Also, the probability of obtaining a $4,5,$ or $6$ is the same. However, a $5$ is twice as likely to be observed as a $1$. For a large number of tosses, what is the average value observed?"
   ]
  },
  {
   "cell_type": "markdown",
   "metadata": {},
   "source": [
    "#### Answer:\n",
    "\n"
   ]
  },
  {
   "cell_type": "markdown",
   "metadata": {},
   "source": [
    "***\n",
    "### 6.4 😃 (f)\n",
    "\n",
    "A coin is tossed with the probability of heads being $\\frac{2}{3}$. A head is mapped into $X=1$ and a tail into $X=0$. What is the expected outcome of this experiment?"
   ]
  },
  {
   "cell_type": "markdown",
   "metadata": {},
   "source": [
    "#### Answer:\n",
    "\n"
   ]
  },
  {
   "cell_type": "markdown",
   "metadata": {},
   "source": [
    "***\n",
    "### 6.5 (f)\n",
    "\n",
    "Determine the expected value of a Poisson random variable. Hint: Differentiate $\\sum_{k=0}^{\\infty}{\\frac{\\lambda^k}{k!}e^{-\\lambda}}$ with respect to $\\lambda$."
   ]
  },
  {
   "cell_type": "markdown",
   "metadata": {},
   "source": [
    "#### Answer:\n",
    "\n"
   ]
  },
  {
   "cell_type": "markdown",
   "metadata": {},
   "source": [
    "***\n",
    "### 6.6 (t)\n",
    "\n",
    "Consider the PMF $p_X[k] = \\frac{2}{\\pi}\\frac{1}{k^2}$ for $k=\\dots,-1,0,1\\dots$. The expected value is defined as:\n",
    "\n",
    "$$\n",
    "\\mathbb{E}[X] = \\sum_{k=-\\infty}^{\\infty}{kp_X[k]}\n",
    "$$\n",
    "\n",
    "which is actually shorthand for \n",
    "\n",
    "$$\n",
    "\\mathbb{E}[X] = \\lim_\\limits{N_L\\to -\\infty, N_U\\to \\infty} \\sum_{k=N_L}^{N_U}{kp_X[k]}\n",
    "$$\n",
    "\n",
    "where the $L$ and $U$ represent \"lower\" and \"upper\", respectively. This may be written as \n",
    "\n",
    "$$\n",
    "\\mathbb{E}[X] = \\lim_\\limits{N_L\\to -\\infty} \\sum_{k=N_L}^{-1}{kp_X[k]} + \\lim_\\limits{N_U\\to \\infty} \\sum_{k=1}^{N_U}{kp_X[k]}\n",
    "$$\n",
    "\n",
    "where the limits are taken _independently_ of each other. For $\\mathbb{E}[X]$ to be unambiguous and finite both limits must be finite. **If, however, we were to constrain $N_L=N_U$, show that the expected value is zero.** Note that if $N_L=N_U$, we are reordering the terms before performing the sum since the partial sums become $\\sum_{k=-1}^{1}{kp_X[k]}$, $\\sum_{k=-2}^{2}{kp_X[k]}$, etc. But for the expected value to be unambiguous, the value should not depend on the ordering. If a sum is [_absolutely_ summable](https://encyclopediaofmath.org/wiki/Absolute_summability), any ordering will produce the same result [Gaughan 1975], hence our requirement for the existence of the expected value."
   ]
  },
  {
   "cell_type": "markdown",
   "metadata": {},
   "source": [
    "#### Answer:\n",
    "\n"
   ]
  },
  {
   "cell_type": "markdown",
   "metadata": {},
   "source": [
    "***\n",
    "### 6.7 (t)\n",
    "\n",
    "Assume that a discrete random variable takes on the values $k=\\dots,-1,0,1,\\dots$ and that it's PMF satisfies $p_X[m+i] = p_X[m-i]$, where $m$ is a fixed integer and $i=1,2,\\dots$. This says that the PMF is symmetric about the point $x=m.$ Prove that the expected value of the random variable is $\\mathbb{E}[X] = m$."
   ]
  },
  {
   "cell_type": "markdown",
   "metadata": {},
   "source": [
    "#### Answer:\n",
    "\n"
   ]
  },
  {
   "cell_type": "markdown",
   "metadata": {},
   "source": [
    "***\n",
    "### 6.8 😃 (t)\n",
    "\n",
    "Give an example where the expected value of a random variable is _not_ its most probable value."
   ]
  },
  {
   "cell_type": "markdown",
   "metadata": {},
   "source": [
    "#### Answer:\n",
    "\n"
   ]
  },
  {
   "cell_type": "markdown",
   "metadata": {},
   "source": [
    "***\n",
    "### 6.9 (t)\n",
    "\n",
    "Give an example of two PMFs that have the same expected value."
   ]
  },
  {
   "cell_type": "markdown",
   "metadata": {},
   "source": [
    "#### Answer:\n",
    "\n"
   ]
  },
  {
   "cell_type": "markdown",
   "metadata": {},
   "source": [
    "***\n",
    "### 6.10 (f)\n",
    "\n",
    "A discrete random variable $X$ has the PMF $p_X[k]$ for $k=0,1,2,3,4$. If $Y = \\sin{(\\frac{\\pi}{2}X)}$, find $\\mathbb{E}[Y]$ using (6.4) and (6.5). Which way is easier?"
   ]
  },
  {
   "cell_type": "markdown",
   "metadata": {},
   "source": [
    "#### Answer:\n",
    "\n"
   ]
  },
  {
   "cell_type": "markdown",
   "metadata": {},
   "source": [
    "***\n",
    "### 6.11 (t)\n",
    "\n",
    "Prove the linearity property of the expectation operator\n",
    "\n",
    "$$\n",
    "\\mathbb{E}[a_1g_1(X) + a_2g_2(X)] = a_1\\mathbb{E}[g_1(X)] + a_2\\mathbb{E}[g_2(X)]\n",
    "$$\n",
    "\n",
    "wherre $a_1$ and $a_2$ are constants."
   ]
  },
  {
   "cell_type": "markdown",
   "metadata": {},
   "source": [
    "#### Answer:\n",
    "\n"
   ]
  },
  {
   "cell_type": "markdown",
   "metadata": {},
   "source": [
    "***\n",
    "### 6.12 (f)\n",
    "\n",
    "Determine $\\mathbb{E}[X^2]$ for a $geom(p)$ random variable using (6.5). Hint: You'll need to differentiate twice."
   ]
  },
  {
   "cell_type": "markdown",
   "metadata": {},
   "source": [
    "#### Answer:\n",
    "\n"
   ]
  },
  {
   "cell_type": "markdown",
   "metadata": {},
   "source": [
    "***\n",
    "### 6.13 (t)\n",
    "\n",
    "Can $\\mathbb{E}[X^2]$ ever be equal to $\\mathbb{E}^2[X]$? If so, when?"
   ]
  },
  {
   "cell_type": "markdown",
   "metadata": {},
   "source": [
    "#### Answer:\n",
    "\n"
   ]
  },
  {
   "cell_type": "markdown",
   "metadata": {},
   "source": [
    "***\n",
    "### 6.14 (w)\n",
    "\n",
    "A discrete random variable $X$ has the PMF\n",
    "\n",
    "$$\n",
    "\\begin{equation}\n",
    "    p_X[k] = \n",
    "    \\begin{cases}\n",
    "        \\frac{1}{8}, k=1 \\\\\n",
    "        \\frac{2}{8}, k=2 \\\\\n",
    "        \\frac{4}{8}, k=3 \\\\\n",
    "        \\frac{1}{8}, k=4\n",
    "    \\end{cases}\n",
    "\\end{equation}\n",
    "$$\n",
    "\n",
    "If the experiment that produces a value of $X$ is conducted, find the minimum mean square error predictor of the outcome? What is the minimum mean square error of the predictor?"
   ]
  },
  {
   "cell_type": "markdown",
   "metadata": {},
   "source": [
    "#### Answer:\n",
    "\n"
   ]
  },
  {
   "cell_type": "markdown",
   "metadata": {},
   "source": [
    "***\n",
    "### 6.15 (c)\n",
    "\n",
    "For Problem 6.14 use a computer to simulate the experiment for many trials. Compare the estimate to the actual outcomes of the computer experiment. Also, compute the minimum mean square error and compare it to the theoretical value obtained in Problem 6.14."
   ]
  },
  {
   "cell_type": "markdown",
   "metadata": {},
   "source": [
    "#### Answer:\n",
    "\n"
   ]
  },
  {
   "cell_type": "code",
   "execution_count": null,
   "metadata": {},
   "outputs": [],
   "source": []
  },
  {
   "attachments": {
    "fig_6_9.PNG": {
     "image/png": "[encoded data removed]"
    }
   },
   "cell_type": "markdown",
   "metadata": {},
   "source": [
    "***\n",
    "### 6.16 (w)\n",
    "\n",
    "Of the three PMFs shown in Figure 6.9, which one has the smallest variance? Hint: You do not need to actually calculate the variances.\n",
    "\n",
    "![fig_6_9.PNG](attachment:fig_6_9.PNG)"
   ]
  },
  {
   "cell_type": "markdown",
   "metadata": {},
   "source": [
    "#### Answer:\n",
    "\n"
   ]
  },
  {
   "cell_type": "markdown",
   "metadata": {},
   "source": [
    "***\n",
    "### 6.17 (w)\n",
    "\n",
    "If $Y = aX + b$, what is the variance of $Y$ in terms of the variance of $X$?"
   ]
  },
  {
   "cell_type": "markdown",
   "metadata": {},
   "source": [
    "#### Answer:\n",
    "\n"
   ]
  },
  {
   "cell_type": "markdown",
   "metadata": {},
   "source": [
    "***\n",
    "### 6.18 (f)\n",
    "\n",
    "Find the variance of a Poisson random variable. See the hint for Problem 6.12."
   ]
  },
  {
   "cell_type": "markdown",
   "metadata": {},
   "source": [
    "#### Answer:\n",
    "\n"
   ]
  },
  {
   "cell_type": "markdown",
   "metadata": {},
   "source": [
    "***\n",
    "### 6.19 (f)\n",
    "\n",
    "For the PMF given in Problem 6.2 find the variance."
   ]
  },
  {
   "cell_type": "markdown",
   "metadata": {},
   "source": [
    "#### Answer:\n",
    "\n"
   ]
  },
  {
   "attachments": {
    "table_6_1.PNG": {
     "image/png": "[encoded data removed]"
    }
   },
   "cell_type": "markdown",
   "metadata": {},
   "source": [
    "***\n",
    "### 6.20 (f)\n",
    "\n",
    "Find the second moment for a Poisson random variable by using the characteristic function results shown in Table 6.1\n",
    "\n",
    "![table_6_1.PNG](attachment:table_6_1.PNG)"
   ]
  },
  {
   "cell_type": "markdown",
   "metadata": {},
   "source": [
    "#### Answer:\n",
    "\n"
   ]
  },
  {
   "cell_type": "markdown",
   "metadata": {},
   "source": [
    "***\n",
    "### 6.21 (t)\n",
    "\n",
    "If $X$ is a discrete random variable and $c$ is a constant, prove the following properties of the variance:\n",
    "\n",
    "$$\n",
    "\\begin{equation}\n",
    "    \\begin{split}\n",
    "        var(c) &= 0 \\\\\n",
    "        var(X + c) &= var(X) \\\\\n",
    "        var(cX) &= c^2var(X) \n",
    "    \\end{split}\n",
    "\\end{equation}\n",
    "$$"
   ]
  },
  {
   "cell_type": "markdown",
   "metadata": {},
   "source": [
    "#### Answer:\n",
    "\n"
   ]
  },
  {
   "cell_type": "markdown",
   "metadata": {},
   "source": [
    "***\n",
    "### 6.22 (t)\n",
    "\n",
    "If a discrete random variable $X$ has $var(X) = 0$, prove that $X$ must be a constant $c$. This provides a converse to the property that if $X=c$, then $var(X) = 0$."
   ]
  },
  {
   "cell_type": "markdown",
   "metadata": {},
   "source": [
    "#### Answer:\n",
    "\n"
   ]
  },
  {
   "cell_type": "markdown",
   "metadata": {},
   "source": [
    "***\n",
    "### 6.23 (t)\n",
    "\n",
    "In this problem we prove that if $\\mathbb{E}[X^s]$ exists, meaning that $\\mathbb{E}[|X|^s] < \\infty$ then $\\mathbb{E}[X^r]$ also exists for $0 < r < s$. Provide the explanations for the following steps:\n",
    "\n",
    "- For $|x| \\leq 1$, $|x|^r \\leq 1$\n",
    "\n",
    "\n",
    "- For $|x| > 1$, $|x|^r \\leq |x|^s$\n",
    "\n",
    "\n",
    "- For all $|x|$, $|x|^r \\leq |x|^s + 1$\n",
    "\n",
    "\n",
    "- $\\mathbb{E}[|X|^r] = \\sum_i{|x_i|^r p_X[x_i]} \\leq  \\sum_i{(|x_i|^s + 1) p_X[x_i]} = \\mathbb{E}[|X|^s] + 1 < \\infty$"
   ]
  },
  {
   "cell_type": "markdown",
   "metadata": {},
   "source": [
    "#### Answer:\n",
    "\n"
   ]
  },
  {
   "cell_type": "markdown",
   "metadata": {},
   "source": [
    "***\n",
    "### 6.24 (f)\n",
    "\n",
    "If a discrete random variable has the PMF $p_X[k] = \\frac{1}{4}$ for $k=-1$ and $p_X[k] = \\frac{1}{4}$ for $k=1$, find the mean and variance."
   ]
  },
  {
   "cell_type": "markdown",
   "metadata": {},
   "source": [
    "#### Answer:\n",
    "\n"
   ]
  },
  {
   "cell_type": "markdown",
   "metadata": {},
   "source": [
    "***\n",
    "### 6.25 (f)\n",
    "\n",
    "A symmetric PMF satisfies the relationship $p_X[-k] = p_X[k]$ for $k=\\dots,-1,0,1,\\dots$. Prove that all the odd order moments, $\\mathbb{E}[X^n]$ for $n$ odd, are zero."
   ]
  },
  {
   "cell_type": "markdown",
   "metadata": {},
   "source": [
    "#### Answer:\n",
    "\n"
   ]
  },
  {
   "cell_type": "markdown",
   "metadata": {},
   "source": [
    "***\n",
    "### 6.26 (t)\n",
    "\n",
    "A central moment of a discrete random variable is defined as $\\mathbb{E}[(X - \\mathbb{E}[X])^n]$ for $n$ a positive integer. Derive a formula that relates the central moment to the usual moments. Hint: You will need the binomial formula."
   ]
  },
  {
   "cell_type": "markdown",
   "metadata": {},
   "source": [
    "#### Answer:\n",
    "\n"
   ]
  },
  {
   "cell_type": "markdown",
   "metadata": {},
   "source": [
    "***\n",
    "### 6.27 (t)\n",
    "\n",
    "If $Y = aX + b$ find the characteristic function of $Y$ in terms of that for $X$. Next use your result to prove that $\\mathbb{E}[Y] = a\\mathbb{E}[X] + b$."
   ]
  },
  {
   "cell_type": "markdown",
   "metadata": {},
   "source": [
    "#### Answer:\n",
    "\n"
   ]
  },
  {
   "cell_type": "markdown",
   "metadata": {},
   "source": [
    "***\n",
    "### 6.28 (f)\n",
    "\n",
    "Find the characteristic function for the PMF $p_x[k] = \\frac{1}{5}$ for $-2,-1,0,1,2$."
   ]
  },
  {
   "cell_type": "markdown",
   "metadata": {},
   "source": [
    "#### Answer:\n",
    "\n"
   ]
  },
  {
   "cell_type": "markdown",
   "metadata": {},
   "source": [
    "***\n",
    "### 6.29 (f)\n",
    "\n",
    "Determine the variance of a binomial random variable by using the properties of the characteristic function. You can assume knowledge of the characteristic function for a binomial random variable."
   ]
  },
  {
   "cell_type": "markdown",
   "metadata": {},
   "source": [
    "#### Answer:\n",
    "\n"
   ]
  },
  {
   "cell_type": "markdown",
   "metadata": {},
   "source": [
    "***\n",
    "### 6.30 (f)\n",
    "\n",
    "Determine the mean and variance of a Poisson random variable by using the properties of the characteristic function. You can assume knowledge of the characteristic function for a Poisson random variable."
   ]
  },
  {
   "cell_type": "markdown",
   "metadata": {},
   "source": [
    "#### Answer:\n",
    "\n"
   ]
  },
  {
   "cell_type": "markdown",
   "metadata": {},
   "source": [
    "***\n",
    "### 6.31 (f)\n",
    "\n",
    "Which PMF $p_X[k]$ for $k = \\dots, -1,0,1,\\dots$ has the characteristic function $\\phi_X(\\omega) = \\cos{(\\omega)}$?"
   ]
  },
  {
   "cell_type": "markdown",
   "metadata": {},
   "source": [
    "#### Answer:\n",
    "\n"
   ]
  },
  {
   "cell_type": "markdown",
   "metadata": {},
   "source": [
    "***\n",
    "### 6.32 (c)\n",
    "\n",
    "For the random variable described in Problem 6.24 perform a computer simulation and estimate its mean and variance. How does it compare to the true mean and variance?"
   ]
  },
  {
   "cell_type": "markdown",
   "metadata": {},
   "source": [
    "#### Answer:\n",
    "\n"
   ]
  },
  {
   "cell_type": "code",
   "execution_count": null,
   "metadata": {},
   "outputs": [],
   "source": []
  }
 ],
 "metadata": {
  "kernelspec": {
   "display_name": "Python 3",
   "language": "python",
   "name": "python3"
  },
  "language_info": {
   "codemirror_mode": {
    "name": "ipython",
    "version": 3
   },
   "file_extension": ".py",
   "mimetype": "text/x-python",
   "name": "python",
   "nbconvert_exporter": "python",
   "pygments_lexer": "ipython3",
   "version": "3.7.6"
  }
 },
 "nbformat": 4,
 "nbformat_minor": 4
}
