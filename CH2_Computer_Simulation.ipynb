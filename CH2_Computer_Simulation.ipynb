{
 "cells": [
  {
   "cell_type": "markdown",
   "metadata": {},
   "source": [
    "## Problems\n",
    "\n",
    "### Key:\n",
    "\n",
    "- __(w)__ indicates a __word__ problem\n",
    "- __(f)__ indicates a __formula__ problem\n",
    "- __(c)__ indicates a __computer__ problem\n",
    "- __(t)__ indicates a __theoretical__ problem\n",
    "- 😃 indicates the answer is available in the back"
   ]
  },
  {
   "cell_type": "markdown",
   "metadata": {},
   "source": [
    "## Imports"
   ]
  },
  {
   "cell_type": "code",
   "execution_count": 1,
   "metadata": {},
   "outputs": [
    {
     "data": {
      "text/html": [
       "\n",
       "<style>\n",
       ".output_png {\n",
       "    display: table-cell;\n",
       "    text-align: center;\n",
       "    vertical-align: middle;\n",
       "}\n",
       "</style>\n"
      ],
      "text/plain": [
       "<IPython.core.display.HTML object>"
      ]
     },
     "execution_count": 1,
     "metadata": {},
     "output_type": "execute_result"
    }
   ],
   "source": [
    "import numpy as np\n",
    "import matplotlib.pyplot as plt\n",
    "import sympy as sm\n",
    "sm.init_printing(use_latex='mathjax')\n",
    "\n",
    "%matplotlib inline\n",
    "# %matplotlib notebook is another option for interactive graphs\n",
    "\n",
    "from IPython.core.display import HTML # Code to center plots on the screen\n",
    "HTML(\"\"\"\n",
    "<style>\n",
    ".output_png {\n",
    "    display: table-cell;\n",
    "    text-align: center;\n",
    "    vertical-align: middle;\n",
    "}\n",
    "</style>\n",
    "\"\"\")"
   ]
  },
  {
   "cell_type": "markdown",
   "metadata": {},
   "source": [
    "### Ideas for improvements:\n",
    "\n",
    "- Replace dictionaries with [Counter dictionaries](https://docs.python.org/3.8/library/collections.html#collections.Counter)\n",
    "    - 2.2, 2.7\n",
    "- Replace for loop expressions (in estimating pdfs) with list comprehensions\n",
    "    - 2.4-2.6"
   ]
  },
  {
   "cell_type": "markdown",
   "metadata": {},
   "source": [
    "***\n",
    "## Notes"
   ]
  },
  {
   "cell_type": "markdown",
   "metadata": {},
   "source": [
    "- Code to simulate a __discrete__ random variable, $X$. Assume in general that the possible values of $X$ are $\\{x_1, x_2,\\dots, x_N\\}$ with probabilities $\\{p_1, p_2p\\dots, x_N\\}$, respectively. Let's assume $N=3$ and generate $M$ values of $X$, where $M$ denotes the number of __trials__. Original MATLAB code:\n",
    "\n",
    "```MATLAB\n",
    "for i=1:M\n",
    "    u=rand(1,1);\n",
    "    if u<=p1\n",
    "        x(i,1)=x1;\n",
    "    elseif u>p1 & u<=p1+p2\n",
    "        x(i,1)=x2;\n",
    "    elseif u>p1+p2\n",
    "        x(i,1)=x3;\n",
    "    end\n",
    "end\n",
    "```\n",
    "- The __values__ of $X$ are termed the __outcomes__ or __realizations__ of $X$.\n",
    "\n",
    "\n",
    "- To generate $M$ values from a [Gaussian distribution](https://numpy.org/doc/stable/reference/random/generated/numpy.random.randn.html), a __continuous__ random variable, we can use the MATLAB code:\n",
    "```MATLAB\n",
    "x=randn(M,1);\n",
    "```\n",
    "\n",
    "- A __PDF__, $p_X(x)$, may be estimated by first finding the [histogram](https://matplotlib.org/3.2.2/api/_as_gen/matplotlib.pyplot.hist.html) and then dividing the number of outcomes in each bin by $M$, the total number of realizations, to obtain the probability. Moreover\n",
    "$$\n",
    "P[a \\leq X \\leq b] = \\int_{a}^{b}{p_X(x)dx}\n",
    "$$\n",
    "\n",
    "\n",
    "- To determine $P[a \\leq X \\leq b]$ we generate $M$ realizations of $X$, then count the number of outcomes that fall into the $[a,b]$ interval and divide by $M$. Note that a large number of  realizations are needed to obtain accurate results.\n",
    "\n",
    "\n",
    "- To obtain the __average__ (aka __mean__ or __expected value)__ of a random variable $X$ we'll use the **sample mean** estimate:\n",
    "\n",
    "$$\n",
    "\\frac{1}{M}\\sum_{i=1}^{M}{x_i}\n",
    "$$"
   ]
  },
  {
   "cell_type": "markdown",
   "metadata": {},
   "source": [
    "***\n",
    "### 2.1😃  (c)\n",
    "An experiment consists of tossing a fair coin twice. If a head occurs on the first toss, we let $x_1=1$ and if a tail occurs we let $x_1=0$. The same assignment is used for the outcome of $x_2$ of the second toss. Defining the random variable as $Y=X_1X_2$, estimate the probabilities for the different possible values of $Y$. Explain your results."
   ]
  },
  {
   "cell_type": "code",
   "execution_count": null,
   "metadata": {},
   "outputs": [],
   "source": []
  },
  {
   "cell_type": "code",
   "execution_count": null,
   "metadata": {},
   "outputs": [],
   "source": []
  },
  {
   "cell_type": "code",
   "execution_count": null,
   "metadata": {},
   "outputs": [],
   "source": []
  },
  {
   "cell_type": "code",
   "execution_count": null,
   "metadata": {},
   "outputs": [],
   "source": []
  },
  {
   "cell_type": "markdown",
   "metadata": {},
   "source": [
    "***\n",
    "### 2.2 (c)\n",
    "A pair of fair dice is tossed. Estimate the probability of \"snake eyes\" or a one for each die."
   ]
  },
  {
   "cell_type": "markdown",
   "metadata": {},
   "source": [
    "#### Answer:\n",
    "\n",
    "The __relative frequency__ interpretation of the probability of observing \"snake eyes\" given $M$ repetitions of the experiment is given by\n",
    "\n",
    "$$\n",
    "P[D_1 + D_2 = 2] = \\frac{\\text{Number of times \"snake eyes\" observed}}{M}\n",
    "$$\n",
    "\n",
    "where $D_i$ is the result of rolling die $i$."
   ]
  },
  {
   "cell_type": "code",
   "execution_count": 2,
   "metadata": {},
   "outputs": [
    {
     "name": "stdout",
     "output_type": "stream",
     "text": [
      "{2: 22, 3: 48, 4: 76, 5: 91, 6: 145, 7: 164, 8: 164, 9: 110, 10: 88, 11: 52, 12: 40}\n",
      "The probability of getting snake eyes is about 2.1999999999999997%\n"
     ]
    }
   ],
   "source": [
    "M = 1000\n",
    "D1, D2, Y = np.zeros(M), np.zeros(M), np.zeros(M) \n",
    "\n",
    "# Initialize the set of outcomes and let the count start at 0\n",
    "outcomes = {face:0 for face in range(2, 13)}\n",
    "\n",
    "# Repeat M trials of the experiment\n",
    "for i in range(M):\n",
    "    D1[i] = np.random.randint(1,7) # Roll first die\n",
    "    D2[i] = np.random.randint(1,7) # Roll second die\n",
    "    Y[i] = D1[i] + D2[i]           # The sum of the dice for toss i \n",
    "    outcomes[Y[i]] += 1            # Increment the frequency counters\n",
    "    \n",
    "print(outcomes)\n",
    "\n",
    "frequencies = outcomes.values()\n",
    "probs = np.asarray([*frequencies]) / M\n",
    "print('The probability of getting snake eyes is about {}%'.format(probs[0]*100))"
   ]
  },
  {
   "cell_type": "markdown",
   "metadata": {},
   "source": [
    "***\n",
    "### 😃 2.3 (c) \n",
    "\n",
    "Estimate $P[-1\\leq X\\leq 1]$ if $X$ is a Gaussian random variable. Verify the results of your computer simulation by numerically evaluating the integral \n",
    "\n",
    "$$\n",
    "\\int_{-1}^{1}\\frac{1}{\\sqrt{2\\pi}}e^{-\\frac{1}{2}x^2} dx\n",
    "$$\n",
    "\n",
    "Hint: See Problem 1.14"
   ]
  },
  {
   "cell_type": "markdown",
   "metadata": {},
   "source": [
    "#### Answer:\n",
    "\n",
    "Remember: To determine $P[a \\leq X \\leq b]$ we generate $M$ realizations of $X$, then count the number of outcomes that fall into the $[a,b]$ interval and divide by $M$. Luckily, generating Gaussian random samples is easy."
   ]
  },
  {
   "cell_type": "code",
   "execution_count": 3,
   "metadata": {},
   "outputs": [
    {
     "data": {
      "text/latex": [
       "$\\displaystyle 0.6802$"
      ],
      "text/plain": [
       "0.6802"
      ]
     },
     "execution_count": 3,
     "metadata": {},
     "output_type": "execute_result"
    }
   ],
   "source": [
    "# Number of trials\n",
    "M = 10000\n",
    "\n",
    "# Generate M values from the standard normal distribution\n",
    "gvals = np.random.randn(M)\n",
    "\n",
    "# Create a boolean mask of True=1 and False=0 values\n",
    "interval_outcomes = (gvals >= -1) & (gvals <= 1)\n",
    "\n",
    "# Sum the values (same as getting sum of just Trues) and divide by total\n",
    "prob = np.sum(interval_outcomes) / M\n",
    "prob"
   ]
  },
  {
   "cell_type": "markdown",
   "metadata": {},
   "source": [
    "Now let's verify our results through numerical integration rather than simulation (basically copy and pasting what we did in 1.14)."
   ]
  },
  {
   "cell_type": "code",
   "execution_count": 4,
   "metadata": {},
   "outputs": [],
   "source": [
    "def g(n, dx):\n",
    "    ''' Gaussian function for numerical integration \n",
    "    \n",
    "    Args:\n",
    "        n (int): integer along x-axis in [-3,3]\n",
    "        dx (int): partition size\n",
    "        \n",
    "    Returns:\n",
    "        (float): Value of Gaussian curve with given parameters\n",
    "    '''\n",
    "    return np.exp(-0.5*(n*dx)**2) / np.sqrt(2*np.pi)"
   ]
  },
  {
   "cell_type": "code",
   "execution_count": 5,
   "metadata": {},
   "outputs": [
    {
     "data": {
      "text/latex": [
       "$\\displaystyle 0.6851051665234256$"
      ],
      "text/plain": [
       "0.6851051665234256"
      ]
     },
     "execution_count": 5,
     "metadata": {},
     "output_type": "execute_result"
    }
   ],
   "source": [
    "dx = 0.01                  # partition size\n",
    "L = int(np.round(1 / dx))  # Bounds of the sum\n",
    "ns = np.arange(-L, L+1)    # integers along x-axis in [-L,L]\n",
    "\n",
    "result = []\n",
    "for n in ns:            # Loop over all integers in [-L,L]\n",
    "    calc = g(n, dx)*dx  # Calculations for a particular n\n",
    "    result.append(calc) # Store the value\n",
    "\n",
    "sum(result)"
   ]
  },
  {
   "cell_type": "markdown",
   "metadata": {},
   "source": [
    "***\n",
    "### 2.4 (c)\n",
    "\n",
    "Estimate the PDF of the random variable\n",
    "\n",
    "$$\n",
    "X = \\sum_{i=1}^{12}{\\big(U_i - \\frac{1}{2} \\big)}\n",
    "$$\n",
    "\n",
    "where $U_i$ is a [uniform random variable](https://numpy.org/doc/stable/reference/random/generated/numpy.random.rand.html). Then, compare this PDF to the Gaussian PDF or \n",
    "\n",
    "$$\n",
    "p_X(x) = \\frac{1}{\\sqrt{2\\pi}}e^{-\\frac{1}{2}x^2}\n",
    "$$"
   ]
  },
  {
   "cell_type": "markdown",
   "metadata": {},
   "source": [
    "#### Answer\n",
    "\n",
    "Remember that a __PDF__, $p_X(x)$, may be estimated by first finding the [histogram](https://matplotlib.org/3.2.2/api/_as_gen/matplotlib.pyplot.hist.html) and then dividing the number of outcomes in each bin by $M$, the total number of realizations, to obtain the probability."
   ]
  },
  {
   "cell_type": "code",
   "execution_count": 6,
   "metadata": {},
   "outputs": [],
   "source": [
    "# Number of trials\n",
    "M = 10000\n",
    "X = np.zeros(M)\n",
    "\n",
    "# Generate M realizations of X\n",
    "for trial in range(M):\n",
    "    # Generate one realization of X\n",
    "    vals = []\n",
    "    for i in range(1,13):\n",
    "        # Generate a sample from the uniform distribution\n",
    "        Ui = np.random.rand()\n",
    "        vals.append(Ui - 0.5)\n",
    "    X[trial] = sum(vals)"
   ]
  },
  {
   "cell_type": "code",
   "execution_count": 7,
   "metadata": {},
   "outputs": [],
   "source": [
    "# Generate M values from the standard Gaussian distribution\n",
    "G = np.random.randn(M)"
   ]
  },
  {
   "cell_type": "code",
   "execution_count": 8,
   "metadata": {},
   "outputs": [
    {
     "data": {
      "image/png": "[encoded data removed]",
      "text/plain": [
       "<Figure size 864x360 with 1 Axes>"
      ]
     },
     "metadata": {
      "needs_background": "light"
     },
     "output_type": "display_data"
    }
   ],
   "source": [
    "fig, ax = plt.subplots(figsize=(12,5))\n",
    "\n",
    "# Returns the values of the histogram bins, the edges of the bins, and patches\n",
    "nx, bins_x, px = plt.hist(X, label=r'$X = \\sum_{i=1}^{12}{(U_i - \\frac{1}{2})}$', alpha=0.7)\n",
    "ng, bins_g, pg = plt.hist(G, bins=bins_x, label=r'$N(0,1)$', alpha=0.5)\n",
    "\n",
    "# Tidy up the graph\n",
    "plt.title(r'$X$ vs Standard Gaussian', fontsize=18)\n",
    "plt.ylabel('Frequency', fontsize=18)\n",
    "plt.grid(True)\n",
    "plt.legend()\n",
    "plt.show()"
   ]
  },
  {
   "cell_type": "code",
   "execution_count": 9,
   "metadata": {},
   "outputs": [
    {
     "name": "stdout",
     "output_type": "stream",
     "text": [
      "Estimated PDF of X:      [0.0012, 0.0096, 0.0482, 0.1432, 0.2427, 0.2723, 0.1804, 0.0804, 0.0198, 0.0022]\n",
      "Estimated PDF of N(0,1): [0.0012, 0.0096, 0.0441, 0.1309, 0.2553, 0.2744, 0.1838, 0.0775, 0.0187, 0.0038]\n"
     ]
    }
   ],
   "source": [
    "# Sum the values of the histogram bins and divide by total\n",
    "probs_X = nx / M\n",
    "probs_G = ng / M\n",
    "\n",
    "print('Estimated PDF of X:      {}'.format([*probs_X]))\n",
    "print('Estimated PDF of N(0,1): {}'.format([*probs_G]))"
   ]
  },
  {
   "cell_type": "markdown",
   "metadata": {},
   "source": [
    "**Conclusion:** The standard normal (Gaussian) distribution is very well approximated by the random variable $X$."
   ]
  },
  {
   "cell_type": "markdown",
   "metadata": {},
   "source": [
    "***\n",
    "### 2.5 (c)\n",
    "\n",
    "Estimate the PDF of $X=U_1 - U_2$, where $U_1$ and $U_2$ are uniform random variables. What is the most proable range of values?"
   ]
  },
  {
   "cell_type": "code",
   "execution_count": 10,
   "metadata": {},
   "outputs": [],
   "source": [
    "# Number of trials\n",
    "M = 10000\n",
    "X = np.zeros(M)\n",
    "\n",
    "# Generate M realizations of X\n",
    "for trial in range(M):\n",
    "    # Generate two uniform random variables\n",
    "    U1, U2 = np.random.rand(), np.random.rand()\n",
    "    X[trial] = U1 - U2 # Generate one realization of X"
   ]
  },
  {
   "cell_type": "code",
   "execution_count": 11,
   "metadata": {},
   "outputs": [
    {
     "data": {
      "image/png": "[encoded data removed]",
      "text/plain": [
       "<Figure size 864x360 with 1 Axes>"
      ]
     },
     "metadata": {
      "needs_background": "light"
     },
     "output_type": "display_data"
    }
   ],
   "source": [
    "fig, ax = plt.subplots(figsize=(12,5))\n",
    "\n",
    "# Returns the values of the histogram bins, the edges of the bins, and patches\n",
    "nx, bins_x, px = plt.hist(X, label=r'$X = U_1 - U_2$', alpha=0.7)\n",
    "plt.ylabel('Frequency', fontsize=18)\n",
    "plt.grid(True)\n",
    "plt.legend()\n",
    "plt.show()"
   ]
  },
  {
   "cell_type": "code",
   "execution_count": 12,
   "metadata": {},
   "outputs": [
    {
     "name": "stdout",
     "output_type": "stream",
     "text": [
      "Estimated PDF of X: [0.0221, 0.0638, 0.1001, 0.1354, 0.1817, 0.1756, 0.14, 0.1018, 0.0585, 0.021]\n"
     ]
    }
   ],
   "source": [
    "# Sum the values of the histogram bins and divide by total\n",
    "probs_X = nx / M\n",
    "\n",
    "print('Estimated PDF of X: {}'.format([*probs_X]))"
   ]
  },
  {
   "cell_type": "markdown",
   "metadata": {},
   "source": [
    "__Conclusion__: We see from the histogram that the range of approximately $[-\\frac{1}{4},\\frac{1}{4}]$ is the most probable range of values."
   ]
  },
  {
   "cell_type": "markdown",
   "metadata": {},
   "source": [
    "***\n",
    "### 😃 2.6 (c)\n",
    "\n",
    "Estimate the PDF of $X=U_1U_2$, where $U_1$ and $U_2$ are uniform random variables. What is the most proable range of values?"
   ]
  },
  {
   "cell_type": "code",
   "execution_count": 13,
   "metadata": {},
   "outputs": [],
   "source": [
    "# Number of trials\n",
    "M = 10000\n",
    "X = np.zeros(M)\n",
    "\n",
    "# Generate M realizations of X\n",
    "for trial in range(M):\n",
    "    # Generate two uniform random variables\n",
    "    U1, U2 = np.random.rand(), np.random.rand()\n",
    "    X[trial] = U1*U2 # Generate one realization of X"
   ]
  },
  {
   "cell_type": "code",
   "execution_count": 14,
   "metadata": {},
   "outputs": [
    {
     "data": {
      "image/png": "[encoded data removed]",
      "text/plain": [
       "<Figure size 864x360 with 1 Axes>"
      ]
     },
     "metadata": {
      "needs_background": "light"
     },
     "output_type": "display_data"
    }
   ],
   "source": [
    "fig, ax = plt.subplots(figsize=(12,5))\n",
    "\n",
    "# Returns the values of the histogram bins, the edges of the bins, and patches\n",
    "nx, bins_x, px = plt.hist(X, label=r'$X = U_1U_2$', alpha=0.7)\n",
    "\n",
    "plt.ylabel('Frequency', fontsize=18)\n",
    "plt.grid(True)\n",
    "plt.legend()\n",
    "plt.show()"
   ]
  },
  {
   "cell_type": "code",
   "execution_count": 15,
   "metadata": {},
   "outputs": [
    {
     "name": "stdout",
     "output_type": "stream",
     "text": [
      "Estimated PDF of X:      [0.322, 0.1963, 0.1381, 0.1082, 0.0789, 0.0607, 0.0417, 0.0303, 0.0185, 0.0053]\n"
     ]
    }
   ],
   "source": [
    "# Sum the values of the histogram bins and divide by total\n",
    "probs_X = nx / M\n",
    "\n",
    "print('Estimated PDF of X:      {}'.format([*probs_X]))"
   ]
  },
  {
   "cell_type": "markdown",
   "metadata": {},
   "source": [
    "**Conclusion:** We see from the histogram that the range of approximately $[0,0.1]$ is the most probable range of values."
   ]
  },
  {
   "cell_type": "markdown",
   "metadata": {},
   "source": [
    "***\n",
    "### 2.7 (c)\n",
    "\n",
    "Generate realizations of a discrete random variable $X$, which takes on values $1$, $2$, and $3$ with probabilities $p_1=0.1$, $p_2=0.2$, $p_3=0.7$, respectively. Next, based on the generated realizations, estimate the probabilities of obtaining the various values of $X$. \n",
    "\n",
    "#### Answer:\n",
    "\n",
    "This problem seems well suited to using [`np.choice()`](https://numpy.org/doc/stable/reference/random/generated/numpy.random.choice.html)"
   ]
  },
  {
   "cell_type": "code",
   "execution_count": 16,
   "metadata": {},
   "outputs": [
    {
     "name": "stdout",
     "output_type": "stream",
     "text": [
      "{1: 107, 2: 198, 3: 695}\n"
     ]
    },
    {
     "data": {
      "text/plain": [
       "array([0.107, 0.198, 0.695])"
      ]
     },
     "execution_count": 16,
     "metadata": {},
     "output_type": "execute_result"
    }
   ],
   "source": [
    "trials = 1000\n",
    "values = [1, 2, 3] \n",
    "\n",
    "# Initialize outcome counter\n",
    "outcomes = {k:0 for k in range(1, 4)}\n",
    "\n",
    "for i in range(trials):\n",
    "    # Generate one realization \n",
    "    xi = np.random.choice(values, replace=True, p=[0.1, 0.2, 0.7])\n",
    "    # Record the outcome in the frequency counter\n",
    "    outcomes[xi] += 1 \n",
    "\n",
    "print(outcomes)\n",
    "    \n",
    "frequencies = outcomes.values()\n",
    "probs = np.asarray([*frequencies]) / trials\n",
    "probs"
   ]
  },
  {
   "cell_type": "markdown",
   "metadata": {},
   "source": [
    "***\n",
    "### 😃 2.8 (c)\n",
    "\n",
    "Estimate the mean of $U$, where $U$ is a uniform random variable. What is the true value?"
   ]
  },
  {
   "cell_type": "markdown",
   "metadata": {},
   "source": [
    "#### Answer:\n",
    "\n",
    "The uniform distribution exists within the interval $[0,1]$ such that every point is equiprobable. Thus, the mean is simply the average of the endpoints: $0.5$."
   ]
  },
  {
   "cell_type": "code",
   "execution_count": 17,
   "metadata": {},
   "outputs": [
    {
     "data": {
      "text/latex": [
       "$\\displaystyle 0.5012338043474034$"
      ],
      "text/plain": [
       "0.5012338043474034"
      ]
     },
     "execution_count": 17,
     "metadata": {},
     "output_type": "execute_result"
    }
   ],
   "source": [
    "M = 1000\n",
    "U = np.random.rand(M)\n",
    "\n",
    "meanest = sum(U) / M\n",
    "meanest"
   ]
  },
  {
   "cell_type": "markdown",
   "metadata": {},
   "source": [
    "***\n",
    "### 2.9 (c)\n",
    "\n",
    "Estimate the mean of $X+1$, where $X$ is a Gaussian random variable. What is the true value?"
   ]
  },
  {
   "cell_type": "markdown",
   "metadata": {},
   "source": [
    "#### Answer:\n",
    "\n",
    "(Linear Transformation) The mean of a standard Gaussian random variable is $0$, so if $Y=X+1$, then the mean of $Y$ should be $1$."
   ]
  },
  {
   "cell_type": "code",
   "execution_count": 18,
   "metadata": {},
   "outputs": [
    {
     "data": {
      "text/latex": [
       "$\\displaystyle 0.978831245485538$"
      ],
      "text/plain": [
       "0.978831245485538"
      ]
     },
     "execution_count": 18,
     "metadata": {},
     "output_type": "execute_result"
    }
   ],
   "source": [
    "X = np.random.randn(M)\n",
    "Y = X + 1\n",
    "\n",
    "meanest = sum(Y) / M\n",
    "meanest"
   ]
  },
  {
   "cell_type": "markdown",
   "metadata": {},
   "source": [
    "***\n",
    "### 2.10 (c)\n",
    "\n",
    "Estimate the mean of $X^2$, where $X$ is a Gaussian random variable. "
   ]
  },
  {
   "cell_type": "markdown",
   "metadata": {},
   "source": [
    "#### Answer:\n",
    "\n",
    "(Nonlinear Transformation)"
   ]
  },
  {
   "cell_type": "code",
   "execution_count": 19,
   "metadata": {},
   "outputs": [
    {
     "data": {
      "text/latex": [
       "$\\displaystyle 1.045415333605119$"
      ],
      "text/plain": [
       "1.045415333605119"
      ]
     },
     "execution_count": 19,
     "metadata": {},
     "output_type": "execute_result"
    }
   ],
   "source": [
    "X = np.random.randn(M)\n",
    "Y = X**2\n",
    "\n",
    "meanest = sum(Y) / M\n",
    "meanest"
   ]
  },
  {
   "cell_type": "markdown",
   "metadata": {},
   "source": [
    "***\n",
    "### 😃 2.11 (c)\n",
    "\n",
    "Estimate the mean of $2U$, where $U$ is a uniform random variable. What is the true value?"
   ]
  },
  {
   "cell_type": "markdown",
   "metadata": {},
   "source": [
    "#### Answer:\n",
    "\n",
    "(Linear Transformation) The mean of a Uniform random variable is $\\frac{1}{2}$, so if $Y=2U$, then the mean of $Y$ should be $1$. "
   ]
  },
  {
   "cell_type": "code",
   "execution_count": 20,
   "metadata": {},
   "outputs": [
    {
     "data": {
      "text/latex": [
       "$\\displaystyle 0.9928288035216891$"
      ],
      "text/plain": [
       "0.9928288035216891"
      ]
     },
     "execution_count": 20,
     "metadata": {},
     "output_type": "execute_result"
    }
   ],
   "source": [
    "U = np.random.rand(M)\n",
    "Y = 2*U\n",
    "\n",
    "meanest = sum(Y) / M\n",
    "meanest"
   ]
  },
  {
   "cell_type": "markdown",
   "metadata": {},
   "source": [
    "***\n",
    "### 2.12 (c)\n",
    "\n",
    "It is conjectured that if $X_1$ and $X_2$ are Gaussian random variables, then by subtracting them (let $Y=X_1 - X_2$), the probable range of values should be smaller. Is this true?"
   ]
  },
  {
   "cell_type": "code",
   "execution_count": 21,
   "metadata": {},
   "outputs": [
    {
     "data": {
      "image/png": "[encoded data removed]",
      "text/plain": [
       "<Figure size 864x432 with 1 Axes>"
      ]
     },
     "metadata": {
      "needs_background": "light"
     },
     "output_type": "display_data"
    }
   ],
   "source": [
    "# Generate M trials of the random variables\n",
    "X1, X2 = np.random.randn(M), np.random.randn(M)\n",
    "Y = X1 - X2\n",
    "\n",
    "fig, ax = plt.subplots(figsize=(12,6))\n",
    "\n",
    "ny, binsy, py = plt.hist(Y, label=r'$Y=X_1-X_2$')\n",
    "plt.hist(np.random.randn(M), bins=binsy, label=r'$N(0,1)$',alpha=0.6)\n",
    "\n",
    "plt.ylabel('Frequency', fontsize=18)\n",
    "plt.legend()\n",
    "plt.grid(True)\n",
    "plt.show()"
   ]
  },
  {
   "cell_type": "markdown",
   "metadata": {},
   "source": [
    "__Conclusion:__\n",
    "\n",
    "This doesn't appear to be true. The range of probable values of $Y$ seems to have increased because the curve has flattened. The frequency of occurances near the mean has dropped by about $\\frac{1}{3}$ from the original standard Gaussian."
   ]
  },
  {
   "cell_type": "markdown",
   "metadata": {},
   "source": [
    "***\n",
    "### 😃 2.13 (c)\n",
    "\n",
    "A large circular dartboard is set up with a \"bullseye\" at the center of the circle, which is at the coordinate $(0,0)$. A dart is thrown at the center but lands at $(X,Y)$, where $X$ and $Y$ are two different Gaussian random variables. What is the average distance of the dart from the bullseye?"
   ]
  },
  {
   "cell_type": "code",
   "execution_count": null,
   "metadata": {},
   "outputs": [],
   "source": []
  },
  {
   "cell_type": "markdown",
   "metadata": {},
   "source": [
    "***\n",
    "### 😃 2.14 (c)\n",
    "\n",
    "It is conjectured that the mean of $\\sqrt{U}$, where $U$ is a uniform random variable, is $\\sqrt{ \\text{mean of } U}$. Is this true?"
   ]
  },
  {
   "cell_type": "markdown",
   "metadata": {},
   "source": [
    "#### Answer:\n",
    "\n",
    "The mean of $U=\\frac{1}{2}$ so the conjecture claims that the mean of $Y=\\sqrt{U} = \\sqrt{\\frac{1}{2}} = \\frac{\\sqrt{2}}{2}\\approx 0.707$. Based on the simulation and plot below, this conjecture seems false. The histogram of realizations of the means don't even come close to $0.707$."
   ]
  },
  {
   "cell_type": "code",
   "execution_count": 41,
   "metadata": {},
   "outputs": [
    {
     "data": {
      "image/png": "[encoded data removed]",
      "text/plain": [
       "<Figure size 864x432 with 1 Axes>"
      ]
     },
     "metadata": {
      "needs_background": "light"
     },
     "output_type": "display_data"
    }
   ],
   "source": [
    "# The vector of means\n",
    "meanest_y = np.zeros(M)\n",
    "\n",
    "# Simulate M trials to see the distribution of means \n",
    "# (i.e. can we really trust that that wasn't an outlier before?)\n",
    "for i in range(M):\n",
    "    U = np.random.rand(M)\n",
    "    Y = np.sqrt(U)\n",
    "    meanest_y[i] = sum(Y) / M\n",
    "\n",
    "# Get the mean of the mean distribution\n",
    "meanest_mean = np.mean(meanest_y)\n",
    "    \n",
    "fig, ax = plt.subplots(figsize=(12,6))\n",
    "\n",
    "plt.hist(meanest_y, \n",
    "         label=r'Mean Distribution of $Y=\\sqrt{U}$')\n",
    "\n",
    "plt.axvline(x=np.mean(meanest_y), \n",
    "            c='red', \n",
    "            label=r\"Mean of Mean$(\\sqrt{U})\\approx$\"+ str(np.round(meanest_mean,3)))\n",
    "\n",
    "plt.axvline(x=np.sqrt(1/2), \n",
    "            c='k', \n",
    "            label=r'$\\sqrt{Mean(U)} \\approx 0.707$')\n",
    "\n",
    "plt.grid(True)\n",
    "plt.legend()\n",
    "plt.show()"
   ]
  },
  {
   "cell_type": "markdown",
   "metadata": {},
   "source": [
    "***\n",
    "### 2.15 (c)\n",
    "\n",
    "The Gaussian random variables $X_1$ and $X_2$ are linearly transformed to the new random variables\n",
    "\n",
    "$$\n",
    "\\begin{equation}\n",
    "    \\begin{split}\n",
    "        Y_1 &= X_1 + 0.1X_2 \\\\\n",
    "        Y_2 &= X_1 + 0.2X_2\n",
    "    \\end{split}\n",
    "\\end{equation}\n",
    "$$\n",
    "\n",
    "Plot a scatter diagram for $Y_1$ and $Y_2$. Could you approximately determine the value of $Y_2$ if you knew that $Y_1=1$?"
   ]
  },
  {
   "cell_type": "code",
   "execution_count": null,
   "metadata": {},
   "outputs": [],
   "source": []
  },
  {
   "cell_type": "markdown",
   "metadata": {},
   "source": [
    "***\n",
    "### 2.16 (c,w)\n",
    "\n",
    "Generate a scatter diagram for the linearly transformed random variables\n",
    "\n",
    "$$\n",
    "\\begin{equation}\n",
    "    \\begin{split}\n",
    "        X_1 &= U_1 \\\\\n",
    "        X_2 &= U_1 + U_2\n",
    "    \\end{split}\n",
    "\\end{equation}\n",
    "$$\n",
    "\n",
    "where $U_1$ and $U_2$ are uniform random variables. Can you explain why the scatter diagram looks like a parallelogram? Hint: Define the vectors\n",
    "\n",
    "$$\n",
    "\\begin{equation}\n",
    "    \\begin{split}\n",
    "        X &= \\begin{bmatrix} X_1 \\\\ X_2 \\end{bmatrix} \\\\\n",
    "        e_1 &= \\begin{bmatrix} 1 \\\\ 0 \\end{bmatrix} \\\\\n",
    "        e_2 &= \\begin{bmatrix} 0 \\\\ 1 \\end{bmatrix}\n",
    "    \\end{split}\n",
    "\\end{equation}\n",
    "$$\n",
    "\n",
    "and express $X$ as a linear combination of $e_1$ and $e_2$."
   ]
  },
  {
   "cell_type": "code",
   "execution_count": null,
   "metadata": {},
   "outputs": [],
   "source": []
  }
 ],
 "metadata": {
  "kernelspec": {
   "display_name": "Python 3",
   "language": "python",
   "name": "python3"
  },
  "language_info": {
   "codemirror_mode": {
    "name": "ipython",
    "version": 3
   },
   "file_extension": ".py",
   "mimetype": "text/x-python",
   "name": "python",
   "nbconvert_exporter": "python",
   "pygments_lexer": "ipython3",
   "version": "3.7.6"
  }
 },
 "nbformat": 4,
 "nbformat_minor": 4
}
