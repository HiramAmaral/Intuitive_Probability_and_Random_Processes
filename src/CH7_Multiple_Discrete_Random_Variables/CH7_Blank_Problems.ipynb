{
 "cells": [
  {
   "cell_type": "markdown",
   "metadata": {},
   "source": [
    "## Imports"
   ]
  },
  {
   "cell_type": "code",
   "execution_count": 11,
   "metadata": {},
   "outputs": [],
   "source": [
    "import numpy as np\n",
    "from scipy.special import comb\n",
    "from scipy.special import factorial\n",
    "from collections import Counter\n",
    "\n",
    "import matplotlib.pyplot as plt\n",
    "from mpl_toolkits.mplot3d import Axes3D\n",
    "%matplotlib inline \n",
    "plt.style.use('ggplot')\n",
    "\n",
    "import seaborn as sns\n",
    "sns.set(font_scale=1.5)"
   ]
  },
  {
   "cell_type": "markdown",
   "metadata": {},
   "source": [
    "## Notes:\n",
    "\n",
    "### Jointly Distributed Random Variables:\n",
    "Let $X$ and $Y$ be two discrete random variables that map an outcome of an experiment $s_i$ to a value in the plane. Hence we have the mapping (i.e. the **random vector**):\n",
    "\n",
    "$$\n",
    "\\begin{bmatrix}\n",
    "X(s_i) \\\\\n",
    "Y(s_i)\n",
    "\\end{bmatrix}\n",
    "=\n",
    "\\begin{bmatrix}\n",
    "x_i \\\\\n",
    "y_i\n",
    "\\end{bmatrix}\n",
    "$$\n",
    "\n",
    "for all $s_i\\in S$. If $X$ takes on values in $S_X = \\{x_1,\\dots,x_{N_X}\\}$ and $Y$ takes on values in $S_Y = \\{y_1,\\dots,y_{N_Y}\\}$ then the random vector can take on values in \n",
    "\n",
    "$$\n",
    "S_{X,Y} = S_X \\times S_Y = \\{(x_i,y_j):i=1,\\dots,N_X; j=1,\\dots,N_Y \\}\n",
    "$$\n",
    "\n",
    "for a total of $N_{X,Y} = N_X N_Y$ values.\n",
    "\n",
    "#### Standardization:\n",
    "A standardized random variable is one for which the mean is zero and the variance is one. Any random variable can be standarized by the following:\n",
    "\n",
    "$$\n",
    "X_s = \\frac{X - \\mathbb{E}_{X}[X]}{\\sqrt{var(X)}}\n",
    "$$"
   ]
  },
  {
   "cell_type": "markdown",
   "metadata": {},
   "source": [
    "***\n",
    "### Joint (Bivariate) PMF:\n",
    "For a *one-to-one* mapping from $S$ to $S_{X,Y}$ we have\n",
    "\n",
    "$$\n",
    "\\begin{equation}\n",
    "    \\begin{split}\n",
    "        p_{X,Y}[x_i,y_j] &= P[X(s)=x_i, Y(s)=y_j]\\\\\n",
    "                     \\\\\n",
    "                     &= P[\\{s: X(s)=x_i, Y(s)=y_j\\}]\\\\\n",
    "                     \\\\\n",
    "                     &= P[\\{s_k\\}]\n",
    "    \\end{split}\n",
    "\\end{equation}\n",
    "$$\n",
    "\n",
    "where it is assumed that $s_k$ is the only solution to $X(s)=x_i$ and $Y(s)=y_j$. For a *many-to-one*  transformation the joint PMF is \n",
    "\n",
    "$$\n",
    "p_{X,Y}[x_i,y_j] = \\sum_{\\{k: X(x_k)=x_i, Y(s_k)=y_j\\}} P[\\{s_k\\}].\n",
    "$$\n",
    "\n",
    "Note: Be careful of a simplified notation! $p_{X,Y}[x_i,y_j]$ and $p_{X,Y}[i,j]$ are **different**. The former is in terms of the elements of the random vector's support so in it's PMF $i$ and $j$ will index the elements and range from $1$ to $N_X$ or $N_Y$, respectively. However, the latter is treating $i$ and $j$ as the actual values of the mapped outcomes, so the sum in the PMF will look different (even though the information overall is the same)."
   ]
  },
  {
   "cell_type": "markdown",
   "metadata": {},
   "source": [
    "#### Marginal PMFs:\n",
    "Can be recovered from the joint PMF\n",
    "\n",
    "$$\n",
    "\\begin{equation}\n",
    "    \\begin{split}\n",
    "        p_X[x_k] &= \\sum_{j=1}^{\\infty}{ p_{X,Y}[x_k, y_j] } \\\\\n",
    "                 \\\\\n",
    "        p_Y[y_k] &= \\sum_{i=1}^{\\infty}{ p_{X,Y}[x_i, y_k] }\n",
    "    \\end{split}\n",
    "\\end{equation}\n",
    "$$\n",
    "\n",
    "however *the joint PMF cannot be recovered from the marginals.* There are an infinite number of joint PMFs that have the same marginal PMFs.\n",
    "\n",
    "##### Properties\n",
    "- $0\\leq p_{X,Y}[x_i,y_j] \\leq 1$\n",
    "\n",
    "\n",
    "- $\\sum_{i=1}^{N_X}\\sum_{j=1}^{N_Y}{p_{X,Y}[x_i,y_j]} = 1$ for $i=1,2,\\dots,N_X$ and $j=1,2,\\dots,N_Y$"
   ]
  },
  {
   "cell_type": "markdown",
   "metadata": {},
   "source": [
    "#### Probabilities of Events \n",
    "\n",
    "On $S_{X,Y}$ we have:\n",
    "\n",
    "$$\n",
    "P[(X,Y)\\in A] = \\sum_{ \\{(i,j): (x_i,y_j)\\in A\\} }p_{X,Y}[x_i,y_j]\n",
    "$$"
   ]
  },
  {
   "cell_type": "markdown",
   "metadata": {},
   "source": [
    "***\n",
    "### Joint (Bivariate) CDF:\n",
    "\n",
    "Defined for a random vector $[X,Y]^T$ as\n",
    "\n",
    "$$\n",
    "\\begin{equation}\n",
    "    \\begin{split}\n",
    "        F_{X,Y}(x,y) &= P[X\\leq x, Y\\leq y]\\\\\n",
    "                     \\\\\n",
    "                     &= {\\sum\\sum}_{\\{(i,j): x_i\\leq x, y_j\\leq y\\}} p_{X,Y}[x_i,y_j]\n",
    "    \\end{split}\n",
    "\\end{equation}\n",
    "$$"
   ]
  },
  {
   "cell_type": "markdown",
   "metadata": {},
   "source": [
    "#### Marginal CDFs:\n",
    "Can be recovered from the joint CDF\n",
    "\n",
    "$$\n",
    "F_X(x) = P[X\\leq x, Y < \\infty] = F_{X,Y}(x, \\infty)\n",
    "$$\n",
    "\n",
    "$$\n",
    "F_Y(y) =  P[X < \\infty, Y \\leq y] = F_{X,Y}(\\infty, y)\n",
    "$$\n",
    "\n",
    "however *the joint PMF cannot be recovered from the marginals.* There are an infinite number of joint PMFs that have the same marginal PMFs.\n",
    "\n",
    "#### Properties\n",
    "- $0\\leq F_{X,Y}(x,y) \\leq 1$\n",
    "\n",
    "- $F_{X,Y}(-\\infty,-\\infty) = 0$ and $F_{X,Y}(\\infty,\\infty) = 1$\n",
    "\n",
    "- $F_{X,Y}(x,y)$ is monotonically increasing \n",
    "\n",
    "- $F_{X,Y}(x,y)$ is right-continuous\n",
    "\n",
    "- To recover the PMF we can use\n",
    "\n",
    "$$\n",
    "p_{X,Y}[x_i,y_j] = F_{X,Y}(x_i^+,y_j^+) - F_{X,Y}(x_i^+,y_j^-) - F_{X,Y}(x_i^-,y_j^+) + F_{X,Y}(x_i^-,y_j^-)\n",
    "$$"
   ]
  },
  {
   "cell_type": "markdown",
   "metadata": {},
   "source": [
    "***\n",
    "### Transformations of Muliple Discrete RVs\n",
    "#### (Part I):\n",
    "\n",
    "With two discrete RVs $X,Y$ that are transformed into $W=g(X,Y)$ and $Z=h(X,Y)$ which is a mapping from $(X,Y)\\rightarrow (W,Z)$ the joint PMF will be:\n",
    "\n",
    "$$\n",
    "p_{W,Z}[w_i,z_j] = \\underset {\\bigg\\{(k,l): \\begin{split} g(x_k,y_l)&=w_i \\\\ h(x_k,y_l)&=z_j \\end{split}\\bigg\\} } {\\sum\\sum}{p_{X,Y}[x_k,y_l]}\n",
    "$$\n",
    "\n",
    "for $i=1,2,\\dots,N_W$ and $j=1,2,\\dots,N_Z$.\n"
   ]
  },
  {
   "cell_type": "markdown",
   "metadata": {},
   "source": [
    "#### (Part II):\n",
    "\n",
    "When trying to determine the PMF $Z=h(X,Y)$ only, which is a mapping from $(X,Y)\\rightarrow Z$, we can use an additional *auxiliary* random variable to help with the calculation. By adding another random variable $W$ the transformation changes to a mapping from $(X,Y)\\rightarrow (W,Z)$. Then we can determine $p_{W,Z}[w_i,z_j]$ using the methods we previously established. Finally, the PMF we were interested in the first place is just the marginal PMF:\n",
    "\n",
    "$$\n",
    "p_Z[z_j] = \\sum_{ \\{i: w_i\\in S_W \\} } {p_{W,Z}[w_i,z_j]}\n",
    "$$\n",
    "\n",
    "We typically define the auxiliary RV to be something simple like $W=X$.\n"
   ]
  },
  {
   "cell_type": "markdown",
   "metadata": {},
   "source": [
    "#### (Part III):\n",
    "\n",
    "When the sample space $S_{X,Y}$ is finite it is sometimes possible to directly calculate the PMF of $Z=g(X,Y)$. To do so:\n",
    "1. Determine the finite sample space $S_Z$\n",
    "2. Determine which sample points $(x_i, y_j)$ in $S_{X,Y}$ map into each $z_k\\in S_Z$\n",
    "3. Sum the probabilities of those $(x_i, y_j)$ sample points to yield $p_Z[z_k]$.\n",
    "\n",
    "Mathematically this translates to:\n",
    "\n",
    "$$\n",
    "p_Z[z_k] = \\underset { \\{(i,j): z_k=g(x_i,y_j)\\} }{\\sum\\sum}{p_{X,Y}[x_i,y_j]}\n",
    "$$"
   ]
  },
  {
   "cell_type": "markdown",
   "metadata": {},
   "source": [
    "***\n",
    "### Expected Values:\n",
    "If $Z=g(X,Y)$ then\n",
    "\n",
    "$$\n",
    "\\begin{equation}\n",
    "    \\begin{split}\n",
    "        \\mathbb{E}[Z] &= \\sum_{k}{z_{k} p_{Z}[z_k]} \\\\\n",
    "             \\\\\n",
    "             &= \\mathbb{E}_{X,Y}[g(X,Y)] \\\\\n",
    "             \\\\\n",
    "             &= {\\sum_i\\sum_j}{g(x_i,y_j) p_{X,Y}[x_i,y_j] }.\n",
    "    \\end{split}\n",
    "\\end{equation}\n",
    "$$\n",
    "\n",
    "#### Covariance:\n",
    "Is a measure of how the random variables covary with respect to each other. If they vary in the same direction, then the covariance will be positive; in opposite directions, then it will be negative. It is defined as: \n",
    "\n",
    "$$\n",
    "\\begin{equation}\n",
    "        \\text{cov}(X,Y) = \\mathbb{E}[(X - \\mathbb{E}_{X}[X])(Y - \\mathbb{E}_{Y}[Y])].\n",
    "\\end{equation}\n",
    "$$\n",
    "\n",
    "##### Properties:\n",
    "- $\\text{cov}(X,Y) = \\mathbb{E}_{X,Y}[XY] - \\mathbb{E}_{X}[X]\\mathbb{E}_{Y}[Y]$\n",
    "- $\\text{cov}(X,X) = var(X)$\n",
    "- $\\text{cov}(X,Y) = \\text{cov}(Y,X)$\n",
    "- $\\text{cov}(cX,Y) = c[\\text{cov}(X,Y)]$\n",
    "- $\\text{cov}(X,cY) = c[\\text{cov}(X,Y)]$\n",
    "- $\\text{cov}(X,X+Y) = \\text{cov}(X,X) + \\text{cov}(X,Y)$\n",
    "- $\\text{cov}(X+Y,X) = \\text{cov}(X,X) + \\text{cov}(Y,X)$\n",
    "- $X,Y$ independent $\\implies \\text{cov}(X,Y) = 0$"
   ]
  },
  {
   "cell_type": "markdown",
   "metadata": {},
   "source": [
    "***\n",
    "### Prediction of a RV Outcome\n",
    "\n",
    "Suppose we have information about the outcome of $X$, specificaly, that $X=x_i$ for each $x_i$. Then the optimal *predictor* of $Y$ is the affine function $\\hat Y = a^*X + b^*$. The optimal *prediction* value will be:\n",
    "\n",
    "$$\n",
    "\\begin{equation}\n",
    "    \\begin{split}\n",
    "        \\hat y_i &= a^{*}x_i + b^{*} \\\\\n",
    "               \\\\\n",
    "               &= \\mathbb{E}_{Y}[Y] + \\frac{\\text{cov}(X,Y)}{var(X)var(Y)}\\big(x_i - \\mathbb{E}_{X}[X] \\big)\n",
    "    \\end{split}\n",
    "\\end{equation}\n",
    "$$\n",
    "\n",
    "where our measure of optimality was based on minimizing the mean squared error (MSE): \n",
    "\n",
    "$$\n",
    "mse(a, b) = \\mathbb{E}_{X,Y}[(Y - \\hat Y)^2].\n",
    "$$\n",
    "\n",
    "In statistics this is referred to as **simple linear regression**. The best linear predictor of $Y$ *without* the knowledge of the outcome of $X$ is given by $\\hat Y = \\mathbb{E}_{Y}[Y]$, which implies $\\text{cov}(X,Y)=0$."
   ]
  },
  {
   "cell_type": "markdown",
   "metadata": {},
   "source": [
    "***\n",
    "### Joint Characteristic Functions"
   ]
  },
  {
   "cell_type": "markdown",
   "metadata": {},
   "source": [
    "***\n",
    "### Correlation Coefficient:\n",
    "\n",
    "#### Definition:\n",
    "Correlation is a measure of the linear association (not necessarily causal) between two random variables. The correlation coefficient is defined as:\n",
    "\n",
    "$$\n",
    "\\rho_{X,Y} = \\frac{ \\text{cov}(X,Y) }{ \\sqrt{var(X)var(Y)} }\n",
    "$$\n",
    "\n",
    "##### Properties:\n",
    "- $|\\rho_{X,Y}| \\leq 1$\n",
    "- $\\rho_{X,Y} = 0 \\implies X,Y$ are said to be uncorrelated\n",
    "- $\\rho_{X,Y} = \\pm 1 \\implies X,Y $ are said to be perfectly correlated and $Y$ can be perfectly predicted from $X$ using $Y=aX+b$.\n",
    "- Independence of $X,Y \\implies$ uncorrelation, but the reverse is not necessarily true.\n",
    "\n",
    "#### Estimation:\n",
    "\n",
    "$$\n",
    "\\hat\\rho_{X,Y} = \n",
    "\\frac{\\frac{1}{M}\\sum_{m=1}^{M}{x_my_m - \\bar{x}\\bar{y}}}\n",
    "{\\sqrt{\\big(\\frac{1}{M}\\sum_{m=1}^{M}{(x_m^2 - \\bar{x}^2)}\\big) \\big(\\frac{1}{M}\\sum_{m=1}^{M}{(y_m^2 - \\bar{y}^2)}\\big)}}\n",
    "$$\n",
    "\n",
    "where\n",
    "\n",
    "$$\n",
    "\\begin{equation}\n",
    "    \\begin{split}\n",
    "        \\bar{x} &= \\frac{1}{M}\\sum_{m=1}^{M}{x_m}\\\\\n",
    "                \\\\\n",
    "        \\bar{y} &= \\frac{1}{M}\\sum_{m=1}^{M}{y_m}\n",
    "    \\end{split}\n",
    "\\end{equation}\n",
    "$$\n",
    "\n",
    "and $(x_m,y_m)$ is the $m^{th}$ realization."
   ]
  },
  {
   "cell_type": "markdown",
   "metadata": {},
   "source": [
    "***\n",
    "Anywhere this picture occurs indicates a problem I need to check or finish:\n",
    "\n",
    "\n",
    "![finish-me.jpg](https://i.pinimg.com/564x/a4/b6/38/a4b638b7d6926e4f494b1d94459052ff.jpg)"
   ]
  },
  {
   "cell_type": "markdown",
   "metadata": {},
   "source": [
    "***\n",
    "## Problems\n",
    "\n",
    "### Key:\n",
    "\n",
    "- __(w)__ indicates a __word__ problem\n",
    "- __(f)__ indicates a __formula__ problem\n",
    "- __(c)__ indicates a __computer__ problem\n",
    "- __(t)__ indicates a __theoretical__ problem\n",
    "- 😃 indicates the answer is available in the back"
   ]
  },
  {
   "cell_type": "markdown",
   "metadata": {},
   "source": [
    "### 7.1 (w)\n",
    "\n",
    "A chess piece is placed on a chessboard, which consists of an 8x8 array of 64 squares. Specify a numerical sample space $S_{X,Y}$ for the location of the chess piece."
   ]
  },
  {
   "cell_type": "markdown",
   "metadata": {},
   "source": [
    "#### Answer:\n",
    "\n",
    "$S_{X,Y}= \\{(x_i, y_j): i=1,2,\\dots,8; j=1,2,\\dots,8\\}$"
   ]
  },
  {
   "cell_type": "markdown",
   "metadata": {},
   "source": [
    "***\n",
    "### 7.2 (w)\n",
    "\n",
    "Two coins are tossed in succession with a head being mapped into a $+1$ and a tail being mapped into a $-1$. If a random vector is defined as $(X,Y)$ with $X$ representing the mapping of the first toss and $Y$ representing the mapping of the second toss, draw the mapping. Also, what is $S_{X,Y}$?"
   ]
  },
  {
   "attachments": {},
   "cell_type": "markdown",
   "metadata": {},
   "source": [
    "#### Answer:\n",
    "\n",
    "[place answer here]"
   ]
  },
  {
   "cell_type": "markdown",
   "metadata": {},
   "source": [
    "***\n",
    "### 7.3 😃(w)\n",
    "\n",
    "A woman has a penny, a nickel, and a dime in her pocket. If she chooses two coins from her pocket in succession, what is the sample space $S$ of possible outcomes? If these outcomes are next mapped into the values of the coins, what is the numerical sample space $S_{X,Y}$?"
   ]
  },
  {
   "cell_type": "markdown",
   "metadata": {},
   "source": [
    "#### Answer:\n",
    "\n",
    "[place answer here]"
   ]
  },
  {
   "cell_type": "markdown",
   "metadata": {},
   "source": [
    "***\n",
    "### 7.4 (w)\n",
    "\n",
    "If $S_{X} = \\{1,2\\}$ and $S_{Y} =\\{3,4\\}$, plot the points in the place comprising $S_{X,Y} = S_X\\times S_Y$. What is the size of $S_{X,Y}$?"
   ]
  },
  {
   "cell_type": "markdown",
   "metadata": {},
   "source": [
    "#### Answer:\n",
    "\n",
    "[place answer here]"
   ]
  },
  {
   "cell_type": "markdown",
   "metadata": {},
   "source": [
    "***\n",
    "### 7.5 (w)\n",
    "\n",
    "Two dice are tossed. The number of dots observed on the dice are added together to form the random variable $X$ and also differenced to form $Y$. Determine the possible outcomes of the random vector $(X,Y)$ and plot them in the plane. How many possible outcomes are there?"
   ]
  },
  {
   "cell_type": "markdown",
   "metadata": {},
   "source": [
    "#### Answer:\n",
    "\n",
    "[place answer here]"
   ]
  },
  {
   "cell_type": "markdown",
   "metadata": {},
   "source": [
    "***\n",
    "### 7.6 (f)\n",
    "\n",
    "A two-dimensional sequence is given by \n",
    "\n",
    "$$\n",
    "p_{X,Y}[i,j] = c(1-p_1)^i(1-p_2)^j\n",
    "$$\n",
    "\n",
    "for $i=1,2,\\dots$ and $j=1,2,\\dots$ , where $p_1\\in(0,1),p_2\\in(0,1) $ and $c$ is a constant. Find $c$ to make $p_{X,Y}$ a valid joint PMF."
   ]
  },
  {
   "cell_type": "markdown",
   "metadata": {},
   "source": [
    "#### Answer:\n",
    "\n",
    "[place answer here]"
   ]
  },
  {
   "cell_type": "markdown",
   "metadata": {},
   "source": [
    "***\n",
    "### 7.7 (f)\n",
    "\n",
    "Is\n",
    "\n",
    "$$\n",
    "p_{X,Y}[i,j] = \\bigg(\\frac{1}{2}\\bigg)^{i+j} \n",
    "$$\n",
    "\n",
    "for $i=0,1,2,\\dots$ and $j=0,1,2,\\dots$ a vaild joint PMF?"
   ]
  },
  {
   "cell_type": "markdown",
   "metadata": {},
   "source": [
    "#### Answer:\n",
    "\n",
    "[place answer here]"
   ]
  },
  {
   "cell_type": "markdown",
   "metadata": {},
   "source": [
    "***\n",
    "### 7.8 😃 (w)\n",
    "\n",
    "A single coin is tossed twice. A head outcome is mapped into a $1$ and a tail outcome is mapped into a $0$ to yield a numerical outcome. Next a random vector $(X,Y)$ is defined as\n",
    "\n",
    "- $X$ = outcome of $1^{st}$ toss $+$ outcome of $2^{nd}$ toss\n",
    "\n",
    "- $Y$ = outcome of $1^{st}$ toss $-$ outcome of $2^{nd}$ toss\n",
    "\n",
    "Find the joint PMF for $(X,Y)$, assuming the outcomes $(x_i,y_i)$ are equally likely."
   ]
  },
  {
   "cell_type": "markdown",
   "metadata": {},
   "source": [
    "#### Answer:\n",
    "\n",
    "[place answer here]"
   ]
  },
  {
   "attachments": {
    "table_7_1.PNG": {
     "image/png": "[encoded data removed]"
    }
   },
   "cell_type": "markdown",
   "metadata": {},
   "source": [
    "***\n",
    "### 7.9 (f)\n",
    "\n",
    "Find the joint PMF for the experiment described in Example 7.1. Assume each outcome in $S$ is equally likely. How can you check your answer?\n",
    "\n",
    "![table_7_1.PNG](attachment:table_7_1.PNG)"
   ]
  },
  {
   "cell_type": "markdown",
   "metadata": {},
   "source": [
    "#### Answer:\n",
    "\n",
    "[place answer here]"
   ]
  },
  {
   "cell_type": "markdown",
   "metadata": {},
   "source": [
    "***\n",
    "### 7.10 (f)\n",
    "\n",
    "The sample space for a random vector is $S_{X,Y}=\\{(i,j): i=1,2,3,4,5; j=1,2,3,4\\}$. If the outcomes are equally likely, find $P[(X,Y)\\in A]$ where $A = \\{(i,j): i\\in[1,2], j\\in[3,4] \\}$."
   ]
  },
  {
   "cell_type": "markdown",
   "metadata": {},
   "source": [
    "#### Answer:\n",
    "\n",
    "[place answer here]"
   ]
  },
  {
   "cell_type": "markdown",
   "metadata": {},
   "source": [
    "***\n",
    "### 7.11 (f)\n",
    "\n",
    "A joint PMF is given as \n",
    "\n",
    "$$\n",
    "p_{X,Y}[i,j] = \\bigg(\\frac{1}{2} \\bigg)^{i+j}\n",
    "$$\n",
    "\n",
    "for $i=1,2,\\dots$ and $j=1,2,\\dots$. If $A = \\{(i,j): 1\\leq i \\leq 3, j\\geq2 \\}$ find $P[A]$."
   ]
  },
  {
   "cell_type": "markdown",
   "metadata": {},
   "source": [
    "#### Answer:\n",
    "\n",
    "[place answer here]"
   ]
  },
  {
   "attachments": {
    "table_7_9.PNG": {
     "image/png": "[encoded data removed]"
    }
   },
   "cell_type": "markdown",
   "metadata": {},
   "source": [
    "***\n",
    "### 7.12 (f)\n",
    "\n",
    "The values of a joint PMF are given in Table 7.9. Determine the marginal PMFs.\n",
    "\n",
    "![table_7_9.PNG](attachment:table_7_9.PNG)"
   ]
  },
  {
   "cell_type": "markdown",
   "metadata": {},
   "source": [
    "#### Answer:\n",
    "\n",
    "[place answer here]"
   ]
  },
  {
   "cell_type": "markdown",
   "metadata": {},
   "source": [
    "***\n",
    "### 7.13 😃 (f)\n",
    "\n",
    "If a joint PMF is given by \n",
    "\n",
    "$$\n",
    "p_{X,Y}[i,j] = p^2(1-p)^{i+j-2}\n",
    "$$\n",
    "\n",
    "for $i=1,2,\\dots$ and $j=1,2,\\dots$ find the marginal PMFs."
   ]
  },
  {
   "cell_type": "markdown",
   "metadata": {},
   "source": [
    "#### Answer:\n",
    "\n",
    "[place answer here]"
   ]
  },
  {
   "cell_type": "markdown",
   "metadata": {},
   "source": [
    "***\n",
    "### 7.14 (f)\n",
    "\n",
    "If a joint PMF is given by $p_{X,Y}[i,j] = \\frac{1}{36}$ for $i=1,2,3,4,5,6$ and $j=1,2,3,4,5,6$ find the marginal PMFs."
   ]
  },
  {
   "cell_type": "markdown",
   "metadata": {},
   "source": [
    "#### Answer:\n",
    "\n",
    "[place answer here]"
   ]
  },
  {
   "cell_type": "markdown",
   "metadata": {},
   "source": [
    "***\n",
    "### 7.15 (w)\n",
    "\n",
    "A joint PMF is given by \n",
    "\n",
    "$$\n",
    "p_{X,Y}[i,j] = c{10 \\choose j}\\bigg(\\frac{1}{2}\\bigg)^{10}\n",
    "$$\n",
    "\n",
    "for $i=0,1$ and $j=0,1,2,\\dots,10$ where $c$ is some unknown constant. Find $c$ so that the joint PMF is valid and then determine the marginal PMFs. Hint: Recall the binomial theorem:\n",
    "\n",
    "$$\n",
    "\\sum_{k=0}^{M} {M \\choose k}a^{k}b^{M-k} = (a+b)^{M}\n",
    "$$"
   ]
  },
  {
   "cell_type": "markdown",
   "metadata": {},
   "source": [
    "#### Answer:\n",
    "\n",
    "[place answer here]"
   ]
  },
  {
   "attachments": {
    "table_7_2.PNG": {
     "image/png": "[encoded data removed]"
    }
   },
   "cell_type": "markdown",
   "metadata": {},
   "source": [
    "***\n",
    "### 7.16 😃 (w)\n",
    "\n",
    "Find another set of values for the joint PMF that will yield the same marginal PMFs as given in Table 7.2.\n",
    "\n",
    "![table_7_2.PNG](attachment:table_7_2.PNG)"
   ]
  },
  {
   "cell_type": "markdown",
   "metadata": {},
   "source": [
    "#### Answer:\n",
    "\n",
    "[place answer here]"
   ]
  },
  {
   "cell_type": "markdown",
   "metadata": {},
   "source": [
    "***\n",
    "### 7.17 (t)\n",
    "\n",
    "Prove Properties 7.3 and 7.4 for the joint CDF by relying on the standard properties of probabilities of events."
   ]
  },
  {
   "cell_type": "markdown",
   "metadata": {},
   "source": [
    "#### Answer:\n",
    "\n",
    "[place answer here]"
   ]
  },
  {
   "attachments": {
    "table_7_2.PNG": {
     "image/png": "[encoded data removed]"
    }
   },
   "cell_type": "markdown",
   "metadata": {},
   "source": [
    "***\n",
    "### 7.18 (w)\n",
    "\n",
    "Sketch the joint CDF for the joint PMF given in Table 7.2. Do this by shading each region in the $x$-$y$ plane that has the same value.\n",
    "\n",
    "![table_7_2.PNG](attachment:table_7_2.PNG)"
   ]
  },
  {
   "cell_type": "markdown",
   "metadata": {},
   "source": [
    "#### Answer:\n",
    "\n",
    "[place answer here]"
   ]
  },
  {
   "cell_type": "markdown",
   "metadata": {},
   "source": [
    "***\n",
    "### 7.19 😃 (w)\n",
    "\n",
    "A joint PMF is given by\n",
    "\n",
    "$$\n",
    "\\begin{equation}\n",
    "p_{X,Y}[i,j] = \n",
    "    \\begin{cases}\n",
    "        \\frac{1}{4}, (i,j)=(0,0) \\\\\n",
    "        \\frac{1}{4}, (i,j)=(1,1) \\\\\n",
    "        \\frac{1}{4}, (i,j)=(1,0) \\\\\n",
    "        \\frac{1}{4}, (i,j)=(1,-1) \n",
    "    \\end{cases}\n",
    "\\end{equation}\n",
    "$$\n",
    "\n",
    "Are $X$ and $Y$ independent?"
   ]
  },
  {
   "cell_type": "markdown",
   "metadata": {},
   "source": [
    "#### Answer:\n",
    "\n",
    "[place answer here]"
   ]
  },
  {
   "cell_type": "markdown",
   "metadata": {},
   "source": [
    "***\n",
    "### 7.20 (t)\n",
    "\n",
    "Prove that if the random variables $X$ and $Y$ are independent, then the joint CDF factors as $F_{X,Y}(x,y) = F_X(x)F_Y(y)$."
   ]
  },
  {
   "cell_type": "markdown",
   "metadata": {},
   "source": [
    "#### Answer:\n",
    "\n",
    "[place answer here]"
   ]
  },
  {
   "attachments": {
    "table_7_5.PNG": {
     "image/png": "[encoded data removed]"
    }
   },
   "cell_type": "markdown",
   "metadata": {},
   "source": [
    "***\n",
    "### 7.21  (t)\n",
    "\n",
    "A joint PMF is given by\n",
    "\n",
    "$$\n",
    "\\begin{equation}\n",
    "p_{X,Y}[i,j] = \n",
    "    \\begin{cases}\n",
    "        a, (i,j)=(0,0) \\\\\n",
    "        b, (i,j)=(0,1) \\\\\n",
    "        c, (i,j)=(1,0) \\\\\n",
    "        d, (i,j)=(1,1) \n",
    "    \\end{cases}\n",
    "\\end{equation}\n",
    "$$\n",
    "\n",
    "where of course we must have $a+b+c+d=1$. Show that a necessary condition for the random variables to be independent is $ad=bc$. This can be used to quickly assert that the random variables are not independent as for the case shown in Table 7.5.\n",
    "\n",
    "![table_7_5.PNG](attachment:table_7_5.PNG)"
   ]
  },
  {
   "cell_type": "markdown",
   "metadata": {},
   "source": [
    "#### Answer:\n",
    "\n",
    "[place answer here]"
   ]
  },
  {
   "cell_type": "markdown",
   "metadata": {},
   "source": [
    "***\n",
    "### 7.22 (f)\n",
    "\n",
    "If $X\\sim Ber(p_X)$ and $Y\\sim Ber(p_Y)$, and $X$ and $Y$ are independent, what is the joint PMF?"
   ]
  },
  {
   "cell_type": "markdown",
   "metadata": {},
   "source": [
    "#### Answer:\n",
    "\n",
    "[place answer here]"
   ]
  },
  {
   "cell_type": "markdown",
   "metadata": {},
   "source": [
    "***\n",
    "### 7.23 😃 (w)\n",
    "\n",
    "If the joint PMF is given by\n",
    "\n",
    "$$\n",
    "p_{X,Y}[i,j] = {10 \\choose i}{11 \\choose j}\\bigg(\\frac{1}{2}\\bigg)^{21}\n",
    "$$\n",
    "\n",
    "for $i=0,1,\\dots,10$ and $j=0,1,\\dots,11$ are $X$ and $Y$ independent? What are the marginal PMFs?"
   ]
  },
  {
   "cell_type": "markdown",
   "metadata": {},
   "source": [
    "#### Answer:\n",
    "\n",
    "[place answer here]"
   ]
  },
  {
   "cell_type": "markdown",
   "metadata": {},
   "source": [
    "***\n",
    "### 7.24 (t)\n",
    "\n",
    "Assume that $X$ and $Y$ are discretef random variables that take on all integer values and are independent. Prove that the PMF of $Z=X-Y$ is given by\n",
    "\n",
    "$$\n",
    "p_Z[l] = \\sum_{k=-\\infty}^{\\infty}p_X[k]p_Y[k-l]\n",
    "$$\n",
    "\n",
    "for $l = \\dots,-1,0,1,\\dots$ by following the same procedure as was used to derive (7.22). Note that the transformation from $(X,Y)$ to $(W,Z)$ is one-to-one. Next show that if $X$ and $Y$ take on nonnegative integer values only, then \n",
    "\n",
    "$$\n",
    "p_Z[l] = \\sum_{k=\\max{\\{0,l\\}}}^{\\infty}p_X[k]p_Y[k-l]\n",
    "$$\n",
    "\n",
    "for $l = \\dots,-1,0,1,\\dots$."
   ]
  },
  {
   "cell_type": "markdown",
   "metadata": {},
   "source": [
    "#### Answer:\n",
    "\n",
    "[place answer here]"
   ]
  },
  {
   "cell_type": "markdown",
   "metadata": {},
   "source": [
    "***\n",
    "### 7.25  (f)\n",
    "\n",
    "Using the result of Problem 7.24 find the PMF for $Z=X-Y$ if $X\\sim Pois(\\lambda_X), Y\\sim Pois(\\lambda_Y),$ and $X$ and $Y$ are independent. Hint: The result will be in the form of infinite sums."
   ]
  },
  {
   "cell_type": "markdown",
   "metadata": {},
   "source": [
    "#### Answer:\n",
    "\n",
    "[place answer here]"
   ]
  },
  {
   "attachments": {
    "table_7_5.PNG": {
     "image/png": "[encoded data removed]"
    }
   },
   "cell_type": "markdown",
   "metadata": {},
   "source": [
    "***\n",
    "### 7.26 (w)\n",
    "\n",
    "Find the PMF for $Z=\\max(X,Y)$ if the joint PMF is given in Table 7.5.\n",
    "\n",
    "![table_7_5.PNG](attachment:table_7_5.PNG)"
   ]
  },
  {
   "cell_type": "markdown",
   "metadata": {},
   "source": [
    "#### Answer:\n",
    "\n",
    "[place answer here]"
   ]
  },
  {
   "cell_type": "markdown",
   "metadata": {},
   "source": [
    "***\n",
    "### 7.27 😃 (f)\n",
    "\n",
    "If $X\\sim Ber(\\frac{1}{2}), Y\\sim Ber(\\frac{1}{2}),$ and $X$ and $Y$ are independent, find the PMF for $Z=X+Y$. Why does the width of the PMF get larger? Does the variance increase?"
   ]
  },
  {
   "cell_type": "markdown",
   "metadata": {},
   "source": [
    "#### Answer:\n",
    "\n",
    "[place answer here]"
   ]
  },
  {
   "cell_type": "markdown",
   "metadata": {},
   "source": [
    "***\n",
    "### 7.28 (t)\n",
    "\n",
    "Prove that $\\mathbb{E}_{X,Y}[g(X)] = \\mathbb{E}_{X}[g(X)]$. Do $X$ and $Y$ have to be independent?"
   ]
  },
  {
   "cell_type": "markdown",
   "metadata": {},
   "source": [
    "#### Answer:\n",
    "\n",
    "[place answer here]$"
   ]
  },
  {
   "cell_type": "markdown",
   "metadata": {},
   "source": [
    "***\n",
    "### 7.29  (t)\n",
    "\n",
    "Prove that \n",
    "\n",
    "$$\n",
    "\\mathbb{E}_{X,Y}[ag(X)+bh(Y)] = a\\mathbb{E}_{X}[g(X)] + b\\mathbb{E}_{Y}[h(Y)]\n",
    "$$"
   ]
  },
  {
   "cell_type": "markdown",
   "metadata": {},
   "source": [
    "#### Answer:\n",
    "\n",
    "[place answer here]"
   ]
  },
  {
   "cell_type": "markdown",
   "metadata": {},
   "source": [
    "***\n",
    "### 7.30 (t)\n",
    "\n",
    "Prove (7.31):\n",
    "\n",
    "$$\n",
    "\\mathbb{E}_{X,Y}[g(X)h(Y)] = \\mathbb{E}_{X}[g(X)]\\mathbb{E}_{Y}[h(Y)]\n",
    "$$\n",
    "\n",
    "where $X$ and $Y$ have to be independent."
   ]
  },
  {
   "cell_type": "markdown",
   "metadata": {},
   "source": [
    "#### Answer:\n",
    "\n",
    "[place answer here]"
   ]
  },
  {
   "cell_type": "markdown",
   "metadata": {},
   "source": [
    "***\n",
    "### 7.31  (t)\n",
    "\n",
    "FInd a formula for $var(X-Y)$ similar to (7.33):\n",
    "\n",
    "$$\n",
    "var(X+Y) = var(X) + var(Y) + 2\\text{cov}(X,Y).\n",
    "$$\n",
    "\n",
    "What can you say about the relationship between $var(X+Y)$ and $var(X-Y)$ if $X$ and $Y$ are uncorrelated?"
   ]
  },
  {
   "cell_type": "markdown",
   "metadata": {},
   "source": [
    "#### Answer:\n",
    "\n",
    "[place answer here]"
   ]
  },
  {
   "attachments": {
    "table_7_4.PNG": {
     "image/png": "[encoded data removed]"
    }
   },
   "cell_type": "markdown",
   "metadata": {},
   "source": [
    "***\n",
    "### 7.32 (f)\n",
    "\n",
    "Find the covariance for the joint PMF given in Table 7.4. How do you know the value that you obtained is correct?\n",
    "\n",
    "![table_7_4.PNG](attachment:table_7_4.PNG)"
   ]
  },
  {
   "cell_type": "markdown",
   "metadata": {},
   "source": [
    "#### Answer:\n",
    "\n",
    "[place answer here]"
   ]
  },
  {
   "attachments": {
    "table_7_5.PNG": {
     "image/png": "[encoded data removed]"
    }
   },
   "cell_type": "markdown",
   "metadata": {},
   "source": [
    "***\n",
    "### 7.33 😃 (f)\n",
    "\n",
    "Find the covariance for the joint PMF given in Table 7.5.\n",
    "\n",
    "![table_7_5.PNG](attachment:table_7_5.PNG)"
   ]
  },
  {
   "cell_type": "markdown",
   "metadata": {},
   "source": [
    "#### Answer:\n",
    "\n",
    "[place answer here]"
   ]
  },
  {
   "cell_type": "markdown",
   "metadata": {},
   "source": [
    "***\n",
    "### 7.34 (t)\n",
    "\n",
    "Prove the following properties of the covariance\n",
    "\n",
    "$$\n",
    "\\begin{equation}\n",
    "    \\begin{split}\n",
    "        \\text{cov}(X,Y) &= \\mathbb{E}_{X,Y}[XY] - \\mathbb{E}_{X}[X]\\mathbb{E}_{Y}[Y]\\\\\n",
    "        \\\\\n",
    "        \\text{cov}(X,X) &= var(X) \\\\\n",
    "        \\\\\n",
    "        \\text{cov}(X,Y) &= \\text{cov}(Y,X) \\\\\n",
    "        \\\\\n",
    "        \\text{cov}(cX,Y) &= c[\\text{cov}(X,Y)] \\\\\n",
    "        \\\\\n",
    "        \\text{cov}(X,cY) &= c[\\text{cov}(X,Y)] \\\\\n",
    "        \\\\\n",
    "        \\text{cov}(X,X+Y) &= \\text{cov}(X,X) + \\text{cov}(X,Y)   \\\\\n",
    "        \\\\\n",
    "        \\text{cov}(X+Y,X) &= \\text{cov}(X,X) + \\text{cov}(Y,X) \n",
    "    \\end{split}\n",
    "\\end{equation}\n",
    "$$\n",
    "\n",
    "for $c$ a constant."
   ]
  },
  {
   "cell_type": "markdown",
   "metadata": {},
   "source": [
    "#### Answer:\n",
    "\n",
    "[place answer here]"
   ]
  },
  {
   "cell_type": "markdown",
   "metadata": {},
   "source": [
    "***\n",
    "### 7.35  (t)\n",
    "\n",
    "If $X$ and $Y$ have a covariance of $\\text{cov}(X,Y)$, we can transform them to a new pair of random variables whose covariance is zero. To do so we let\n",
    "\n",
    "$$\n",
    "\\begin{equation}\n",
    "    \\begin{split}\n",
    "       W &= X \\\\\n",
    "         \\\\\n",
    "       Z &= aX + Y\n",
    "    \\end{split}\n",
    "\\end{equation}\n",
    "$$\n",
    "\n",
    "where $a = -\\frac{\\text{cov}(X,Y)}{var(X)}.$ Show that $\\text{cov}(W,Z) = 0$. This process is called **decorrelating the random variables**."
   ]
  },
  {
   "cell_type": "markdown",
   "metadata": {},
   "source": [
    "#### Answer:\n",
    "\n",
    "[place answer here]"
   ]
  },
  {
   "cell_type": "markdown",
   "metadata": {},
   "source": [
    "***\n",
    "### 7.36 (f)\n",
    "\n",
    "Apply the results of Probelm 7.35 to the joint PMF given in Table 7.5. Verify by direct calculation that $\\text{cov}(W,Z)=0.$"
   ]
  },
  {
   "cell_type": "markdown",
   "metadata": {},
   "source": [
    "#### Answer:\n",
    "\n",
    "[place answer here]"
   ]
  },
  {
   "cell_type": "markdown",
   "metadata": {},
   "source": [
    "***\n",
    "### 7.37 😃 (f)\n",
    "\n",
    "If the joint PMF is given by\n",
    "\n",
    "$$\n",
    "p_{X,Y}[i,j] = \\bigg(\\frac{1}{2}\\bigg)^{i+j}\n",
    "$$\n",
    "\n",
    "for $i=1,2,\\dots$ and $j=1,2,\\dots$, compute the covariance."
   ]
  },
  {
   "cell_type": "markdown",
   "metadata": {},
   "source": [
    "#### Answer:\n",
    "\n",
    "[place answer here]"
   ]
  },
  {
   "attachments": {
    "fig_7_9.PNG": {
     "image/png": "[encoded data removed]"
    }
   },
   "cell_type": "markdown",
   "metadata": {},
   "source": [
    "***\n",
    "### 7.38 😃 (f)\n",
    "\n",
    "Determine the minimum mean square error for the joint PMF shown in Figure 7.9a. You must evaluate $\\mathbb{E}_{X,Y}[\\big(Y - \\big(\\frac{14}{11}X - \\frac{1}{11} \\big)\\big)^2]$.\n",
    "\n",
    "![fig_7_9.PNG](attachment:fig_7_9.PNG)"
   ]
  },
  {
   "cell_type": "markdown",
   "metadata": {},
   "source": [
    "#### Answer:\n",
    "\n",
    "[place answer here]"
   ]
  },
  {
   "cell_type": "code",
   "execution_count": null,
   "metadata": {},
   "outputs": [],
   "source": []
  },
  {
   "cell_type": "markdown",
   "metadata": {},
   "source": [
    "***\n",
    "### 7.39 (t,f)\n",
    "\n",
    "Prove that the minimum mean square error of the optimal linear predictor is given by\n",
    "\n",
    "$$\n",
    "\\begin{equation}\n",
    "\\begin{split}\n",
    "mse_{\\min} &= \\mathbb{E}_{X,Y}[(Y - (a_{opt}X + b_{opt}Y))^2] \\\\\n",
    "           \\\\\n",
    "           &= var(Y)(1-\\rho_{X,Y}^2)\n",
    "\\end{split}\n",
    "\\end{equation}\n",
    "$$\n",
    "\n",
    "Use this formula to check your result for Problem 7.38."
   ]
  },
  {
   "cell_type": "markdown",
   "metadata": {},
   "source": [
    "#### Answer:\n",
    "\n",
    "[place answer here]"
   ]
  },
  {
   "attachments": {
    "table_7_10.PNG": {
     "image/png": "[encoded data removed]"
    }
   },
   "cell_type": "markdown",
   "metadata": {},
   "source": [
    "***\n",
    "### 7.40 😃 (w)\n",
    "\n",
    "In this problem we compare the prediction of a random variable with and without the knowledge of a second random variable outcome. Consider the join PMF shown below. First determine the optimal linear prediction of $Y$\n",
    "\n",
    "![table_7_10.PNG](attachment:table_7_10.PNG)\n",
    "\n",
    "without any knowledge of the outcome of $X$ (see Section 6.6). Also, compute the minimum mean square error. Next, determine the optimal linear prediction of $Y$ based on the knowledge that $X=x$ and compute the minimum mean square error. Plot the predictions versus $x$ in the plane. How do the minimum mean square errors compare?"
   ]
  },
  {
   "cell_type": "markdown",
   "metadata": {},
   "source": [
    "#### Answer:\n",
    "\n"
   ]
  },
  {
   "cell_type": "code",
   "execution_count": null,
   "metadata": {},
   "outputs": [],
   "source": []
  },
  {
   "attachments": {
    "fig_7_1.PNG": {
     "image/png": "[encoded data removed]"
    }
   },
   "cell_type": "markdown",
   "metadata": {},
   "source": [
    "***\n",
    "### 7.41 😃 (w,c)\n",
    "\n",
    "For the joint PMF of height and weight shown in Figure 7.1 determine the best linear prediction of weight based on a knowledge of height. \n",
    "\n",
    "![fig_7_1.PNG](attachment:fig_7_1.PNG)"
   ]
  },
  {
   "attachments": {
    "table_4_1.PNG": {
     "image/png": "[encoded data removed]"
    }
   },
   "cell_type": "markdown",
   "metadata": {},
   "source": [
    "You will need to use Table 4.1 as well as a compute to carry out this problem. Does your answer seem reasonable? Is the prediction of a person's weight if the height is 70 inches reasonable? How about if the height is 78 inches? Can you explain the difference?\n",
    "\n",
    "![table_4_1.PNG](attachment:table_4_1.PNG)"
   ]
  },
  {
   "cell_type": "markdown",
   "metadata": {},
   "source": [
    "#### Answer:\n",
    "\n",
    "[place answer here]"
   ]
  },
  {
   "cell_type": "code",
   "execution_count": null,
   "metadata": {},
   "outputs": [],
   "source": []
  },
  {
   "cell_type": "markdown",
   "metadata": {},
   "source": [
    "***\n",
    "### 7.42 (f)\n",
    "\n",
    "Prove that the transformed random variable \n",
    "\n",
    "$$\n",
    "\\frac{X - \\mathbb{E}_X[X]}{\\sqrt{var(x)}}\n",
    "$$\n",
    "\n",
    "has an expected value of $0$ and a variance of $1$."
   ]
  },
  {
   "cell_type": "markdown",
   "metadata": {},
   "source": [
    "#### Answer:\n",
    "\n",
    "[place answer here]"
   ]
  },
  {
   "cell_type": "markdown",
   "metadata": {},
   "source": [
    "***\n",
    "### 7.43 😃 (w)\n",
    "\n",
    "The linear prediction of one random variable based on the outcome of another becomes more difficult if noise is present. We model noise as the addition of an uncorrelated random variable. Specifically, assume that we wish to predict $X$ based on observing $X+N$, where $N$ represents the noise. If $X$ and $N$ are both zero mean random variables that are uncorrelated with each other, determine the correlation coefficient between $W=X$ and $Z=X+N$. How does it depend on the power in $X$, which is defined as $\\mathbb{E}_X[X^2]$, and the power in $N$, also defined as $\\mathbb{E}_N[N^2]$?"
   ]
  },
  {
   "cell_type": "markdown",
   "metadata": {},
   "source": [
    "#### Answer:\n",
    "\n",
    "[place answer here]"
   ]
  },
  {
   "cell_type": "markdown",
   "metadata": {},
   "source": [
    "***\n",
    "### 7.44 (w)\n",
    "\n",
    "Consider $var(X+Y)$, where $X$ and $Y$ are correlated random variables. How is the variance of a sum of random variables affected by the correlation between the random variables? Hint: Express the variance of the sum of the random variables using the correlation coefficient:\n",
    "\n",
    "$$\n",
    "\\rho_{X,Y} = \\frac{ \\text{cov}(X,Y) }{ \\sqrt{var(X)var(Y)} }.\n",
    "$$"
   ]
  },
  {
   "cell_type": "markdown",
   "metadata": {},
   "source": [
    "#### Answer:\n",
    "\n",
    "[place answer here]"
   ]
  },
  {
   "cell_type": "markdown",
   "metadata": {},
   "source": [
    "***\n",
    "### 7.45  (f)\n",
    "\n",
    "Prove that if $Y=aX+b$, where $a,b$ are constants, then $\\rho_{X,Y} = 1$ if $a>0$ and $\\rho_{X,Y} = -1$ if $a<0$."
   ]
  },
  {
   "cell_type": "markdown",
   "metadata": {},
   "source": [
    "#### Answer:\n",
    "\n",
    "[place answer here]"
   ]
  },
  {
   "cell_type": "markdown",
   "metadata": {},
   "source": [
    "***\n",
    "### 7.46 😃 (w)\n",
    "\n",
    "If $X\\sim Ber(\\frac{1}{2}), Y\\sim Ber(\\frac{1}{2}),$ and $X$ and $Y$ are independent, find the PMF for $Z=X+Y$. Use the characteristic function approach to do so. Compare your results to that of Problem 7.27."
   ]
  },
  {
   "cell_type": "markdown",
   "metadata": {},
   "source": [
    "#### Answer:\n",
    "\n",
    "[place answer here]"
   ]
  },
  {
   "cell_type": "code",
   "execution_count": null,
   "metadata": {},
   "outputs": [],
   "source": []
  },
  {
   "cell_type": "markdown",
   "metadata": {},
   "source": [
    "***\n",
    "### 7.47 (w)\n",
    "\n",
    "Using characteristic functions prove that the binomial PMF has the reproducing property. That is to say, if $X\\sim bin(M_X,p), Y\\sim bin(M_Y,p),$ and $X$ and $Y$ are independent, then $Z=(X+Y)\\sim bin(M_X+M_Y, p)$. Why does this make sense in light of the fact that a sequence of independent Bernoulli trials can be used to derive the binomial PMF?"
   ]
  },
  {
   "cell_type": "markdown",
   "metadata": {},
   "source": [
    "#### Answer:\n",
    "\n",
    "[place answer here]"
   ]
  },
  {
   "attachments": {
    "table_7_7.PNG": {
     "image/png": "[encoded data removed]"
    }
   },
   "cell_type": "markdown",
   "metadata": {},
   "source": [
    "***\n",
    "### 7.48 😃 (c)\n",
    "\n",
    "Using the joint PMF shown in Table 7.7 generate realizations of the random vector $(X,Y)$ and estimate its joint and marginal PMFs. Compare your estimated results to the true values.\n",
    "\n",
    "![table_7_7.PNG](attachment:table_7_7.PNG)"
   ]
  },
  {
   "cell_type": "markdown",
   "metadata": {},
   "source": [
    "#### Answer:\n",
    "\n",
    "[place answer here]"
   ]
  },
  {
   "cell_type": "code",
   "execution_count": null,
   "metadata": {},
   "outputs": [],
   "source": []
  },
  {
   "attachments": {
    "table_7_7.PNG": {
     "image/png": "[encoded data removed]"
    }
   },
   "cell_type": "markdown",
   "metadata": {},
   "source": [
    "***\n",
    "### 7.49 😃 (c)\n",
    "\n",
    "For the joint PMF shown in Table 7.7 determine the correlation coefficient. \n",
    "\n",
    "![table_7_7.PNG](attachment:table_7_7.PNG)\n",
    "\n",
    "Next use a computer simulation to generate realizations of the random vector $(X,Y)$ and estimate the correlation coefficient as \n",
    "\n",
    "$$\n",
    "\\hat\\rho_{X,Y} = \n",
    "\\frac{\\frac{1}{M}\\sum_{m=1}^{M}{x_my_m - \\bar{x}\\bar{y}}}\n",
    "{\\sqrt{\\big(\\frac{1}{M}\\sum_{m=1}^{M}{x_m^2 - \\bar{x}^2}\\big) \\big(\\frac{1}{M}\\sum_{m=1}^{M}{y_m^2 - \\bar{y}^2}\\big)}}\n",
    "$$\n",
    "\n",
    "where\n",
    "\n",
    "$$\n",
    "\\begin{equation}\n",
    "    \\begin{split}\n",
    "        \\bar{x} &= \\frac{1}{M}\\sum_{m=1}^{M}{x_m}\\\\\n",
    "                \\\\\n",
    "        \\bar{y} &= \\frac{1}{M}\\sum_{m=1}^{M}{y_m}\n",
    "    \\end{split}\n",
    "\\end{equation}\n",
    "$$\n",
    "\n",
    "and $(x_m,y_m)$ is the $m^{th}$ realization."
   ]
  },
  {
   "cell_type": "markdown",
   "metadata": {},
   "source": [
    "#### Answer:\n",
    "\n",
    "[place answer here]"
   ]
  },
  {
   "cell_type": "markdown",
   "metadata": {},
   "source": [
    "***\n",
    "### 7.50 (w,c)\n",
    "\n",
    "If $X\\sim geom(p),$ and $X$ and $Y$ are independent, show that the PMF of $Z=X+Y$ is given by \n",
    "\n",
    "$$\n",
    "p_Z[k] = p^2(k-1)(1-p)^{k-2}\n",
    "$$\n",
    "\n",
    "for $k=2,3,\\dots$. To avoid errors use the discrete unit step function. Next, for $p=\\frac{1}{2}$ generate realizations for $Z$ by first generating realizations of $X$, then generate realizations of $Y$ and adding each pair of realizations together. Estimate the PMF of $Z$ and compare it to the true PMF."
   ]
  },
  {
   "cell_type": "markdown",
   "metadata": {},
   "source": [
    "#### Answer:\n",
    "\n",
    "[place answer here]"
   ]
  },
  {
   "cell_type": "code",
   "execution_count": null,
   "metadata": {},
   "outputs": [],
   "source": []
  },
  {
   "cell_type": "markdown",
   "metadata": {},
   "source": [
    "***\n",
    "### 7.51 (w,c)\n",
    "\n",
    "Using the joint PMF given in Table 7.5 determine the covariance to show that it is nonzero and hence $X$ and $Y$ are correlated. Next, use the procedure of Problem 7.35 to determine the transformed random variables $W$ and $Z$ that are uncorrelated. Verify that $W$ and $Z$ are uncorrelated by estimating the covariance as\n",
    "\n",
    "$$\n",
    "\\widehat {cov(W,Z)} = \\frac{1}{M}\\sum_{m=1}^{M}{w_mz_m - \\bar{w}\\bar{z}}\n",
    "$$\n",
    "\n",
    "where\n",
    "\n",
    "$$\n",
    "\\begin{equation}\n",
    "    \\begin{split}\n",
    "        \\bar{w} &= \\frac{1}{M}\\sum_{m=1}^{M}{w_m}\\\\\n",
    "                \\\\\n",
    "        \\bar{z} &= \\frac{1}{M}\\sum_{m=1}^{M}{z_m}\n",
    "    \\end{split}\n",
    "\\end{equation}\n",
    "$$\n",
    "\n",
    "and $(w_m,z_m)$ is the $m^{th}$ realization. Be sure to generate the realizations of $W$ and $Z$ as $w_m = x_m$ and $z_m = ax_m + y_m$, where $(x_m,y_m)$ is the $m^{th}$ realization of $(X,Y)$."
   ]
  },
  {
   "cell_type": "markdown",
   "metadata": {},
   "source": [
    "#### Answer:\n",
    "\n",
    "[place answer here]"
   ]
  },
  {
   "cell_type": "code",
   "execution_count": null,
   "metadata": {},
   "outputs": [],
   "source": []
  }
 ],
 "metadata": {
  "kernelspec": {
   "display_name": "Python 3",
   "language": "python",
   "name": "python3"
  },
  "language_info": {
   "codemirror_mode": {
    "name": "ipython",
    "version": 3
   },
   "file_extension": ".py",
   "mimetype": "text/x-python",
   "name": "python",
   "nbconvert_exporter": "python",
   "pygments_lexer": "ipython3",
   "version": "3.8.8"
  }
 },
 "nbformat": 4,
 "nbformat_minor": 4
}
