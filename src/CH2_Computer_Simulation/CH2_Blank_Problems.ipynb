{
 "cells": [
  {
   "cell_type": "markdown",
   "metadata": {},
   "source": [
    "## Imports"
   ]
  },
  {
   "cell_type": "code",
   "execution_count": 1,
   "metadata": {},
   "outputs": [
    {
     "data": {
      "text/html": [
       "\n",
       "<style>\n",
       ".output_png {\n",
       "    display: table-cell;\n",
       "    text-align: center;\n",
       "    vertical-align: middle;\n",
       "}\n",
       "</style>\n"
      ],
      "text/plain": [
       "<IPython.core.display.HTML object>"
      ]
     },
     "execution_count": 1,
     "metadata": {},
     "output_type": "execute_result"
    }
   ],
   "source": [
    "import numpy as np\n",
    "from collections import Counter\n",
    "\n",
    "import matplotlib.pyplot as plt\n",
    "%matplotlib inline \n",
    "plt.style.use('ggplot')\n",
    "\n",
    "import seaborn as sns\n",
    "sns.set(font_scale=1.5)\n",
    "\n",
    "from IPython.core.display import HTML # Code to center plots on the screen\n",
    "HTML(\"\"\"\n",
    "<style>\n",
    ".output_png {\n",
    "    display: table-cell;\n",
    "    text-align: center;\n",
    "    vertical-align: middle;\n",
    "}\n",
    "</style>\n",
    "\"\"\")"
   ]
  },
  {
   "cell_type": "markdown",
   "metadata": {},
   "source": [
    "***\n",
    "## Notes"
   ]
  },
  {
   "cell_type": "markdown",
   "metadata": {},
   "source": [
    "Code to simulate a __discrete__ random variable, $X$. Assume in general that the possible values of $X$ are $\\{x_1, x_2,\\dots, x_N\\}$ with probabilities $\\{p_1, p_2,\\dots, x_N\\}$, respectively. Let's assume $N=3$ and generate $M$ values of $X$, where $M$ denotes the number of __trials__. Original MATLAB code:\n",
    "\n",
    "```MATLAB\n",
    "for i=1:M\n",
    "    u=rand(1,1);\n",
    "    if u<=p1\n",
    "        x(i,1)=x1;\n",
    "    elseif u>p1 & u<=p1+p2\n",
    "        x(i,1)=x2;\n",
    "    elseif u>p1+p2\n",
    "        x(i,1)=x3;\n",
    "    end\n",
    "end\n",
    "```\n",
    "\n",
    "***\n",
    "The __values__ of $X$ are termed the __outcomes__ or __realizations__ of $X$.\n",
    "\n",
    "***\n",
    "To generate $M$ values from a [Gaussian distribution](https://numpy.org/doc/stable/reference/random/generated/numpy.random.randn.html), a __continuous__ random variable, we can use the MATLAB code:\n",
    "```MATLAB\n",
    "x=randn(M,1);\n",
    "```\n",
    "\n",
    "***\n",
    "A __PDF__, $p_X(x)$, may be estimated by first finding the [histogram](https://matplotlib.org/3.2.2/api/_as_gen/matplotlib.pyplot.hist.html) and then dividing the number of outcomes in each bin by $M$, the total number of realizations, to obtain the probability. Moreover\n",
    "$$\n",
    "P[a \\leq X \\leq b] = \\int_{a}^{b}{p_X(x)dx}\n",
    "$$\n",
    "\n",
    "***\n",
    "To determine $P[a \\leq X \\leq b]$ we generate $M$ realizations of $X$, then count the number of outcomes that fall into the $[a,b]$ interval and divide by $M$. Note that a large number of  realizations are needed to obtain accurate results.\n",
    "\n",
    "***\n",
    "To obtain the __average__ (aka __mean__ or __expected value)__ of a random variable $X$ we'll use the **sample mean** estimate:\n",
    "\n",
    "$$\n",
    "\\frac{1}{M}\\sum_{i=1}^{M}{x_i}\n",
    "$$"
   ]
  },
  {
   "cell_type": "markdown",
   "metadata": {},
   "source": [
    "***\n",
    "<img  src=\"../../figs/fig_2_7.png\">"
   ]
  },
  {
   "cell_type": "markdown",
   "metadata": {},
   "source": [
    "***\n",
    "<img  src=\"../../figs/fig_2_8.png\">"
   ]
  },
  {
   "cell_type": "markdown",
   "metadata": {},
   "source": [
    "***\n",
    "<img  src=\"../../figs/fig_2_9.png\">"
   ]
  },
  {
   "cell_type": "markdown",
   "metadata": {},
   "source": [
    "***\n",
    "<img  src=\"../../figs/fig_2_11.png\">"
   ]
  },
  {
   "cell_type": "markdown",
   "metadata": {},
   "source": [
    "## Problems\n",
    "\n",
    "### Key:\n",
    "\n",
    "- __(w)__ indicates a __word__ problem\n",
    "- __(f)__ indicates a __formula__ problem\n",
    "- __(c)__ indicates a __computer__ problem\n",
    "- __(t)__ indicates a __theoretical__ problem\n",
    "- 😃 indicates the answer is available in the back"
   ]
  },
  {
   "cell_type": "markdown",
   "metadata": {},
   "source": [
    "***\n",
    "### 2.1😃  (c)\n",
    "An experiment consists of tossing a fair coin twice. If a head occurs on the first toss, we let $x_1=1$ and if a tail occurs we let $x_1=0$. The same assignment is used for the outcome of $x_2$ of the second toss. Defining the random variable as $Y=X_1X_2$, estimate the probabilities for the different possible values of $Y$. Explain your results."
   ]
  },
  {
   "cell_type": "markdown",
   "metadata": {},
   "source": [
    "#### Answer:"
   ]
  },
  {
   "cell_type": "code",
   "execution_count": null,
   "metadata": {},
   "outputs": [],
   "source": []
  },
  {
   "cell_type": "markdown",
   "metadata": {},
   "source": [
    "***\n",
    "### 2.2 (c)\n",
    "A pair of fair dice is tossed. Estimate the probability of \"snake eyes\" or a one for each die."
   ]
  },
  {
   "cell_type": "markdown",
   "metadata": {},
   "source": [
    "#### Answer:\n",
    "\n",
    "[place answer here]"
   ]
  },
  {
   "cell_type": "code",
   "execution_count": null,
   "metadata": {},
   "outputs": [],
   "source": []
  },
  {
   "cell_type": "markdown",
   "metadata": {},
   "source": [
    "***\n",
    "### 😃 2.3 (c) \n",
    "\n",
    "Estimate $P[-1\\leq X\\leq 1]$ if $X$ is a Gaussian random variable. Verify the results of your computer simulation by numerically evaluating the integral \n",
    "\n",
    "$$\n",
    "\\int_{-1}^{1}\\frac{1}{\\sqrt{2\\pi}}e^{-\\frac{1}{2}x^2} dx\n",
    "$$\n",
    "\n",
    "Hint: See Problem 1.14"
   ]
  },
  {
   "cell_type": "markdown",
   "metadata": {},
   "source": [
    "#### Answer:\n",
    "\n",
    "[place answer here]"
   ]
  },
  {
   "cell_type": "code",
   "execution_count": null,
   "metadata": {},
   "outputs": [],
   "source": []
  },
  {
   "cell_type": "markdown",
   "metadata": {},
   "source": [
    "***\n",
    "### 2.4 (c)\n",
    "\n",
    "Estimate the PDF of the random variable\n",
    "\n",
    "$$\n",
    "X = \\sum_{i=1}^{12}{\\big(U_i - \\frac{1}{2} \\big)}\n",
    "$$\n",
    "\n",
    "where $U_i$ is a [uniform random variable](https://numpy.org/doc/stable/reference/random/generated/numpy.random.rand.html). Then, compare this PDF to the Gaussian PDF or \n",
    "\n",
    "$$\n",
    "p_X(x) = \\frac{1}{\\sqrt{2\\pi}}e^{-\\frac{1}{2}x^2}\n",
    "$$"
   ]
  },
  {
   "cell_type": "markdown",
   "metadata": {},
   "source": [
    "#### Answer:\n",
    "\n",
    "[place answer here]"
   ]
  },
  {
   "cell_type": "code",
   "execution_count": null,
   "metadata": {},
   "outputs": [],
   "source": []
  },
  {
   "cell_type": "markdown",
   "metadata": {},
   "source": [
    "***\n",
    "### 2.5 (c)\n",
    "\n",
    "Estimate the PDF of $X=U_1 - U_2$, where $U_1$ and $U_2$ are uniform random variables. What is the most proable range of values?"
   ]
  },
  {
   "cell_type": "markdown",
   "metadata": {},
   "source": [
    "#### Answer:\n",
    "\n",
    "[place answer here]"
   ]
  },
  {
   "cell_type": "code",
   "execution_count": 11,
   "metadata": {},
   "outputs": [],
   "source": []
  },
  {
   "cell_type": "markdown",
   "metadata": {},
   "source": [
    "***\n",
    "### 😃 2.6 (c)\n",
    "\n",
    "Estimate the PDF of $X=U_1U_2$, where $U_1$ and $U_2$ are uniform random variables. What is the most proable range of values?"
   ]
  },
  {
   "cell_type": "markdown",
   "metadata": {},
   "source": [
    "#### Answer:\n",
    "\n",
    "[place answer here]"
   ]
  },
  {
   "cell_type": "code",
   "execution_count": null,
   "metadata": {},
   "outputs": [],
   "source": []
  },
  {
   "cell_type": "markdown",
   "metadata": {},
   "source": [
    "***\n",
    "### 2.7 (c)\n",
    "\n",
    "Generate realizations of a discrete random variable $X$, which takes on values $1$, $2$, and $3$ with probabilities $p_1=0.1$, $p_2=0.2$, $p_3=0.7$, respectively. Next, based on the generated realizations, estimate the probabilities of obtaining the various values of $X$. "
   ]
  },
  {
   "cell_type": "markdown",
   "metadata": {},
   "source": [
    "#### Answer:\n",
    "\n",
    "[place answer here]"
   ]
  },
  {
   "cell_type": "code",
   "execution_count": null,
   "metadata": {},
   "outputs": [],
   "source": []
  },
  {
   "cell_type": "markdown",
   "metadata": {},
   "source": [
    "***\n",
    "### 😃 2.8 (c)\n",
    "\n",
    "Estimate the mean of $U$, where $U$ is a uniform random variable. What is the true value?"
   ]
  },
  {
   "cell_type": "markdown",
   "metadata": {},
   "source": [
    "#### Answer:\n",
    "\n",
    "[place answer here]"
   ]
  },
  {
   "cell_type": "code",
   "execution_count": null,
   "metadata": {},
   "outputs": [],
   "source": []
  },
  {
   "cell_type": "markdown",
   "metadata": {},
   "source": [
    "***\n",
    "### 2.9 (c)\n",
    "\n",
    "Estimate the mean of $X+1$, where $X$ is a Gaussian random variable. What is the true value?"
   ]
  },
  {
   "cell_type": "markdown",
   "metadata": {},
   "source": [
    "#### Answer:\n",
    "\n",
    "[place answer here]"
   ]
  },
  {
   "cell_type": "code",
   "execution_count": null,
   "metadata": {},
   "outputs": [],
   "source": []
  },
  {
   "cell_type": "markdown",
   "metadata": {},
   "source": [
    "***\n",
    "### 2.10 (c)\n",
    "\n",
    "Estimate the mean of $X^2$, where $X$ is a Gaussian random variable. "
   ]
  },
  {
   "cell_type": "markdown",
   "metadata": {},
   "source": [
    "#### Answer:\n",
    "\n",
    "[place answer here]"
   ]
  },
  {
   "cell_type": "code",
   "execution_count": null,
   "metadata": {},
   "outputs": [],
   "source": []
  },
  {
   "cell_type": "markdown",
   "metadata": {},
   "source": [
    "***\n",
    "### 😃 2.11 (c)\n",
    "\n",
    "Estimate the mean of $2U$, where $U$ is a uniform random variable. What is the true value?"
   ]
  },
  {
   "cell_type": "markdown",
   "metadata": {},
   "source": [
    "#### Answer:\n",
    "\n",
    "[place answer here]"
   ]
  },
  {
   "cell_type": "code",
   "execution_count": null,
   "metadata": {},
   "outputs": [],
   "source": []
  },
  {
   "cell_type": "markdown",
   "metadata": {},
   "source": [
    "***\n",
    "### 2.12 (c)\n",
    "\n",
    "It is conjectured that if $X_1$ and $X_2$ are Gaussian random variables, then by subtracting them (let $Y=X_1 - X_2$), the probable range of values should be smaller. Is this true?"
   ]
  },
  {
   "cell_type": "markdown",
   "metadata": {},
   "source": [
    "#### Answer:\n",
    "\n",
    "[place answer here]"
   ]
  },
  {
   "cell_type": "code",
   "execution_count": null,
   "metadata": {},
   "outputs": [],
   "source": []
  },
  {
   "cell_type": "markdown",
   "metadata": {},
   "source": [
    "***\n",
    "### 😃 2.13 (c)\n",
    "\n",
    "A large circular dartboard is set up with a \"bullseye\" at the center of the circle, which is at the coordinate $(0,0)$. A dart is thrown at the center but lands at $(X,Y)$, where $X$ and $Y$ are two different Gaussian random variables. What is the average distance of the dart from the bullseye?"
   ]
  },
  {
   "cell_type": "markdown",
   "metadata": {},
   "source": [
    "#### Answer:\n",
    "\n",
    "[place answer here]"
   ]
  },
  {
   "cell_type": "code",
   "execution_count": null,
   "metadata": {},
   "outputs": [],
   "source": []
  },
  {
   "cell_type": "markdown",
   "metadata": {},
   "source": [
    "***\n",
    "### 😃 2.14 (c)\n",
    "\n",
    "It is conjectured that the mean of $\\sqrt{U}$, where $U$ is a uniform random variable, is $\\sqrt{ \\text{mean of } U}$. Is this true?"
   ]
  },
  {
   "cell_type": "markdown",
   "metadata": {},
   "source": [
    "#### Answer:\n",
    "\n",
    "[place answer here]"
   ]
  },
  {
   "cell_type": "code",
   "execution_count": null,
   "metadata": {},
   "outputs": [],
   "source": []
  },
  {
   "cell_type": "markdown",
   "metadata": {},
   "source": [
    "***\n",
    "### 2.15 (c)\n",
    "\n",
    "The Gaussian random variables $X_1$ and $X_2$ are linearly transformed to the new random variables\n",
    "\n",
    "$$\n",
    "\\begin{equation}\n",
    "    \\begin{split}\n",
    "        Y_1 &= X_1 + 0.1X_2 \\\\\n",
    "        Y_2 &= X_1 + 0.2X_2\n",
    "    \\end{split}\n",
    "\\end{equation}\n",
    "$$\n",
    "\n",
    "Plot a scatter diagram for $Y_1$ and $Y_2$. Could you approximately determine the value of $Y_2$ if you knew that $Y_1=1$?"
   ]
  },
  {
   "cell_type": "markdown",
   "metadata": {},
   "source": [
    "#### Answer:\n",
    "\n",
    "[place answer here]"
   ]
  },
  {
   "cell_type": "code",
   "execution_count": null,
   "metadata": {},
   "outputs": [],
   "source": []
  },
  {
   "cell_type": "markdown",
   "metadata": {},
   "source": [
    "***\n",
    "### 2.16 (c,w)\n",
    "\n",
    "Generate a scatter diagram for the linearly transformed random variables\n",
    "\n",
    "$$\n",
    "\\begin{equation}\n",
    "    \\begin{split}\n",
    "        X_1 &= U_1 \\\\\n",
    "        X_2 &= U_1 + U_2\n",
    "    \\end{split}\n",
    "\\end{equation}\n",
    "$$\n",
    "\n",
    "where $U_1$ and $U_2$ are uniform random variables. Can you explain why the scatter diagram looks like a [parallelogram](https://mathinsight.org/linear_transformations_map_parallelograms_parallelepipeds)? Hint: Define the vectors\n",
    "\n",
    "$$\n",
    "\\begin{equation}\n",
    "    \\begin{split}\n",
    "        X &= \\begin{bmatrix} X_1 \\\\ X_2 \\end{bmatrix} \\\\\n",
    "        e_1 &= \\begin{bmatrix} 1 \\\\ 0 \\end{bmatrix} \\\\\n",
    "        e_2 &= \\begin{bmatrix} 0 \\\\ 1 \\end{bmatrix}\n",
    "    \\end{split}\n",
    "\\end{equation}\n",
    "$$\n",
    "\n",
    "and express $X$ as a linear combination of $e_1$ and $e_2$."
   ]
  },
  {
   "cell_type": "markdown",
   "metadata": {},
   "source": [
    "#### Answer:\n",
    "\n",
    "[place answer here]"
   ]
  },
  {
   "cell_type": "code",
   "execution_count": null,
   "metadata": {},
   "outputs": [],
   "source": []
  }
 ],
 "metadata": {
  "kernelspec": {
   "display_name": "Python 3",
   "language": "python",
   "name": "python3"
  },
  "language_info": {
   "codemirror_mode": {
    "name": "ipython",
    "version": 3
   },
   "file_extension": ".py",
   "mimetype": "text/x-python",
   "name": "python",
   "nbconvert_exporter": "python",
   "pygments_lexer": "ipython3",
   "version": "3.8.8"
  }
 },
 "nbformat": 4,
 "nbformat_minor": 4
}
