{
 "cells": [
  {
   "cell_type": "markdown",
   "id": "vital-thomson",
   "metadata": {},
   "source": [
    "## Imports"
   ]
  },
  {
   "cell_type": "code",
   "execution_count": 1,
   "id": "charming-surgery",
   "metadata": {},
   "outputs": [],
   "source": [
    "import numpy as np\n",
    "\n",
    "import matplotlib.pyplot as plt\n",
    "from mpl_toolkits.mplot3d import Axes3D\n",
    "%matplotlib inline \n",
    "plt.style.use('ggplot')\n",
    "\n",
    "import seaborn as sns\n",
    "sns.set(font_scale=1.5)"
   ]
  },
  {
   "cell_type": "markdown",
   "id": "twelve-appointment",
   "metadata": {},
   "source": [
    "## Notes:"
   ]
  },
  {
   "cell_type": "markdown",
   "id": "casual-calendar",
   "metadata": {},
   "source": [
    "***\n",
    "- Anywhere this picture occurs indicates a problem I need to check or finish:\n",
    "\n",
    "\n",
    "![finish-me.jpg](https://i.pinimg.com/564x/a4/b6/38/a4b638b7d6926e4f494b1d94459052ff.jpg)"
   ]
  },
  {
   "cell_type": "markdown",
   "id": "increasing-theta",
   "metadata": {},
   "source": [
    "***\n",
    "## Problems\n",
    "\n",
    "### Key:\n",
    "\n",
    "- __(w)__ indicates a __word__ problem\n",
    "- __(f)__ indicates a __formula__ problem\n",
    "- __(c)__ indicates a __computer__ problem\n",
    "- __(t)__ indicates a __theoretical__ problem\n",
    "- 😃 indicates the answer is available in the back"
   ]
  },
  {
   "cell_type": "markdown",
   "id": "imposed-impression",
   "metadata": {},
   "source": [
    "### 10.1 (w)\n",
    "\n",
    "Are the following random variables continuous or discrete?\n",
    "\n",
    "1. Temperature in degrees Fahrenheit\n",
    "\n",
    "2. Temperature rounding off to nearest $^\\circ$\n",
    "\n",
    "3. Temperature rounding off to nearest $\\frac{1}{2}^\\circ$\n",
    "\n",
    "4. Temperature rounding off to nearest $\\frac{1}{4}^\\circ$"
   ]
  },
  {
   "cell_type": "markdown",
   "id": "associate-ordinary",
   "metadata": {},
   "source": [
    "#### Answer:\n"
   ]
  },
  {
   "cell_type": "markdown",
   "id": "extra-boards",
   "metadata": {},
   "source": [
    "***\n",
    "### 10.2 (W)\n",
    "\n",
    "The temperature in degrees Fahrenheit is modeled as a uniform random variable with $T \\sim U(20,60)$. If $T$ is rounded off to the nearest $\\frac{1}{2}^\\circ$ to form $\\hat T$, what is $P[\\hat T = 30^\\circ]$? What can you say about the use of a PDF versus a PMF to describe the probabilitic outcome of a physical experiment?"
   ]
  },
  {
   "cell_type": "markdown",
   "id": "wicked-globe",
   "metadata": {},
   "source": [
    "#### Answer:\n"
   ]
  },
  {
   "cell_type": "markdown",
   "id": "ordered-liberty",
   "metadata": {},
   "source": [
    "### 10.3 (w)\n",
    "\n",
    "A wedge of cheese as shown in Figure 10.5 is sliced from $x=a$ to $x=b$. If $a=0$ and $b=0.2$, what is the mass of cheese in the wedge? How about if $a=1.8$ and $b=2$?\n",
    "\n",
    "![](../../figs/fig_10_5.png)"
   ]
  },
  {
   "cell_type": "markdown",
   "id": "sweet-nothing",
   "metadata": {},
   "source": [
    "#### Answer:"
   ]
  },
  {
   "cell_type": "markdown",
   "id": "flying-richardson",
   "metadata": {},
   "source": [
    "### 10.4 (w)\n",
    "\n",
    "Which of the following functions are valid PDFs? If a function is not a PDF, why not?\n",
    "\n",
    "![](../../figs/fig_10_33.png)"
   ]
  },
  {
   "cell_type": "markdown",
   "id": "suited-sellers",
   "metadata": {},
   "source": [
    "#### Answer:"
   ]
  },
  {
   "cell_type": "markdown",
   "id": "useful-shape",
   "metadata": {},
   "source": [
    "### 10.5 (w)\n",
    "\n",
    "Determine the value of $c$ to make the following function a vaild PDF\n",
    "\n",
    "$$\n",
    "g(x) = \n",
    "\\begin{cases}\n",
    "    c(1 - |\\frac{x}{5}|), |x|<5 \\\\\n",
    "    0, \\text{else}\n",
    "\\end{cases}\n",
    "$$"
   ]
  },
  {
   "cell_type": "markdown",
   "id": "incorporated-press",
   "metadata": {},
   "source": [
    "#### Answer:"
   ]
  },
  {
   "cell_type": "markdown",
   "id": "conditional-fever",
   "metadata": {},
   "source": [
    "### 10.6 (w)\n",
    "\n",
    "A Gaussian mixture PDF is defined as\n",
    "\n",
    "$$\n",
    "p_X(x) = \\alpha_1 \\frac{1}{\\sqrt{2\\pi\\sigma_1^2}} e^{-\\frac{x^2}{2\\sigma_1^2}} + \\alpha_2 \\frac{1}{\\sqrt{2\\pi\\sigma_2^2}} e^{-\\frac{x^2}{2\\sigma_2^2}}\n",
    "$$\n",
    "\n",
    "for $\\sigma_1^2 \\neq \\sigma_2^2$. What are the possible values for $\\alpha_1$ and $\\alpha_2$ so that this is a valid PDF?"
   ]
  },
  {
   "cell_type": "markdown",
   "id": "herbal-maintenance",
   "metadata": {},
   "source": [
    "#### Answer:\n"
   ]
  },
  {
   "cell_type": "markdown",
   "id": "yellow-fireplace",
   "metadata": {},
   "source": [
    "### 10.7 (w)\n",
    "\n",
    "Find the area under the curves given by the following functions:\n",
    "\n",
    "$$\n",
    "g_1(x) = \n",
    "\\begin{cases}\n",
    "    x, x\\in[0,1) \\\\\n",
    "    1+x, x\\in[1,2] \\\\\n",
    "    0, \\text{else}\n",
    "\\end{cases}\n",
    "$$\n",
    "\n",
    "$$\n",
    "g_2(x) = \n",
    "\\begin{cases}\n",
    "    x, x\\in[0,1] \\\\\n",
    "    1+x, x\\in(1,2] \\\\\n",
    "    0, \\text{else}\n",
    "\\end{cases}\n",
    "$$\n",
    "\n",
    "and explain your results."
   ]
  },
  {
   "cell_type": "markdown",
   "id": "exclusive-bunch",
   "metadata": {},
   "source": [
    "#### Answer:\n"
   ]
  },
  {
   "cell_type": "markdown",
   "id": "accessory-holocaust",
   "metadata": {},
   "source": [
    "### 10.8 (w)\n",
    "\n",
    "A memory chip has a projected lifetime $X$ in days that is modeled as $X \\sim exp(0.001)$. What is the probability that it will fail within one year?"
   ]
  },
  {
   "cell_type": "markdown",
   "id": "pursuant-healing",
   "metadata": {},
   "source": [
    "#### Answer:\n"
   ]
  },
  {
   "cell_type": "markdown",
   "id": "utility-literature",
   "metadata": {},
   "source": [
    "### 10.9 (t)\n",
    "\n",
    "In this problem we prove that the Gaussian PDF integrates to one. First we let\n",
    "\n",
    "$$\n",
    "I = \\int_{-\\infty}^{\\infty}{\\frac{1}{\\sqrt{2\\pi}} e^{-\\frac{1}{2}x^2} dx}\n",
    "$$\n",
    "\n",
    "and write $I^2$ as the iterated integral\n",
    "\n",
    "$$\n",
    "I^2 = \\int_{-\\infty}^{\\infty}\\int_{-\\infty}^{\\infty}{\\frac{1}{\\sqrt{2\\pi}} e^{-\\frac{1}{2}x^2}\\frac{1}{\\sqrt{2\\pi}} e^{-\\frac{1}{2}y^2} dydx}\n",
    "$$\n",
    "\n",
    "Next, convert $(x,y)$ into polar coordinates and evaluate the expression to prove that $I^2=1$. Finally, you can conclude that $I=1$ (why?)."
   ]
  },
  {
   "cell_type": "markdown",
   "id": "eligible-trader",
   "metadata": {},
   "source": [
    "#### Answer:\n"
   ]
  },
  {
   "cell_type": "markdown",
   "id": "split-marijuana",
   "metadata": {},
   "source": [
    "### 10.10 (f,c)\n",
    "\n",
    "If $X \\sim \\mathcal{N}(\\mu, \\sigma^2)$, find $P[X > \\mu + a\\sigma]$ for $a=1,2,3$ where $\\sigma = \\sigma^2$."
   ]
  },
  {
   "cell_type": "markdown",
   "id": "fitted-frame",
   "metadata": {},
   "source": [
    "#### Answer:\n"
   ]
  },
  {
   "cell_type": "markdown",
   "id": "threatened-blanket",
   "metadata": {},
   "source": [
    "### 10.11 (t)\n",
    "\n",
    "The _median_ of a PDF is defined as the point $x=med$ for which $P[X \\leq med] = \\frac{1}{2}$. Prove that if $X \\sim \\mathcal{N}(\\mu, \\sigma^2)$ the $med = \\mu$."
   ]
  },
  {
   "cell_type": "markdown",
   "id": "athletic-drunk",
   "metadata": {},
   "source": [
    "#### Answer:\n"
   ]
  },
  {
   "cell_type": "markdown",
   "id": "aerial-parking",
   "metadata": {},
   "source": [
    "### 10.12 (w)\n",
    "\n",
    "A constant DC current source which outputs $1$ amp is connected to a resistor of nominal resistance of $1$ ohm. If the resistance value can vary according to $R \\sim \\mathcal{N}(1,0.1)$, what is the probability that the voltage across the resistor will be between $0.99$ and $1.01$ volts?"
   ]
  },
  {
   "cell_type": "markdown",
   "id": "english-pulse",
   "metadata": {},
   "source": [
    "#### Answer:\n"
   ]
  },
  {
   "cell_type": "markdown",
   "id": "residential-learning",
   "metadata": {},
   "source": [
    "### 10.13 (w) \n",
    "\n",
    "An analog-to-digital convertor can convert voltages in the range $[-3,3]$ volts to a digital number. Outside this range, it will \"clip\" a positive voltage at the highest positive level, i.e. $+3$ or a negative voltage at the most negative level, i.e. $-3$. If the input ot the convertor is modeled as $X \\sim \\mathcal{N}(\\mu, 1)$, how should $\\mu$ be chosen to minimize the probability of clipping?"
   ]
  },
  {
   "cell_type": "markdown",
   "id": "guided-setting",
   "metadata": {},
   "source": [
    "#### Answer:\n"
   ]
  },
  {
   "cell_type": "markdown",
   "id": "varying-operator",
   "metadata": {},
   "source": [
    "### 10.14 (f)\n",
    "\n",
    "Find $P[X>3]$ for the two PDFs given by the Gaussian PDF with $\\mu=0, \\sigma=1$ and the Laplacian PDF with $\\sigma^2=1$. Which probability is larger and why? Plot both PDFs."
   ]
  },
  {
   "cell_type": "markdown",
   "id": "naked-zambia",
   "metadata": {},
   "source": [
    "#### Answer:"
   ]
  },
  {
   "cell_type": "code",
   "execution_count": null,
   "id": "demonstrated-roller",
   "metadata": {},
   "outputs": [],
   "source": []
  },
  {
   "cell_type": "markdown",
   "id": "handed-impact",
   "metadata": {},
   "source": [
    "### 10.15 (f)\n",
    "\n",
    "Verify that the Cauchy PDF given in (10.9) integrates to one."
   ]
  },
  {
   "cell_type": "markdown",
   "id": "disciplinary-declaration",
   "metadata": {},
   "source": [
    "#### Answer:"
   ]
  },
  {
   "cell_type": "markdown",
   "id": "noted-celtic",
   "metadata": {},
   "source": [
    "### 10.16 (t)\n",
    "\n",
    "Prove that $\\Gamma(z+1) = z\\Gamma(z)$ by using integration by parts."
   ]
  },
  {
   "cell_type": "markdown",
   "id": "detected-expert",
   "metadata": {},
   "source": [
    "#### Answer:"
   ]
  },
  {
   "cell_type": "markdown",
   "id": "musical-tooth",
   "metadata": {},
   "source": [
    "### 10.17 (f)\n",
    "\n",
    "The arrival time in minutes of the $N^{th}$ person at a ticket counter has a PDF that is Erlang with $\\lambda=0.1$. What is the probability that the first person will arrive within the first 5 minutes of the opening of the ticket counter? What is the probability that the first two persons will arrive within the first 5 minutes of opening?"
   ]
  },
  {
   "cell_type": "markdown",
   "id": "periodic-marsh",
   "metadata": {},
   "source": [
    "#### Answer:"
   ]
  },
  {
   "cell_type": "markdown",
   "id": "trying-survey",
   "metadata": {},
   "source": [
    "### 10.18 (f)\n",
    "\n",
    "A person cuts off a wedge of cheese as shown in Figure 10.5 starting at $x=0$ and ending at some value $x=x_0$. Determine the mass of the wedge as a function of the value $x_0$. Can you relate this to the CDF?\n",
    "\n",
    "![](../../figs/fig_10_5.png)"
   ]
  },
  {
   "cell_type": "markdown",
   "id": "mineral-retreat",
   "metadata": {},
   "source": [
    "#### Answer:"
   ]
  },
  {
   "cell_type": "markdown",
   "id": "looking-sword",
   "metadata": {},
   "source": [
    "### 10.19 (f)\n",
    "\n",
    "Determine the CDF for the Cauchy PDF."
   ]
  },
  {
   "cell_type": "markdown",
   "id": "municipal-location",
   "metadata": {},
   "source": [
    "#### Answer:"
   ]
  },
  {
   "cell_type": "markdown",
   "id": "ultimate-reynolds",
   "metadata": {},
   "source": [
    "### 10.20 (f)\n",
    "\n",
    "If $X\\sim \\mathcal{N}(0,1)$ find the probability that $|X|\\leq a$ where $a=1,2,3$. Also, plot the PDF and shade in the corresponding areas under the PDF."
   ]
  },
  {
   "cell_type": "markdown",
   "id": "dental-empire",
   "metadata": {},
   "source": [
    "#### Answer:"
   ]
  },
  {
   "cell_type": "markdown",
   "id": "advised-hearts",
   "metadata": {},
   "source": [
    "### 10.21 (f)\n",
    "\n",
    "If $X\\sim \\mathcal{N}(0,1)$ determine the number of outcomes out of $1000$? that you would expect to occur within the interval $[1,2]$. Next, conduct a computer simulation to carry out this experiment. How many outcomes actually occur within this interval?"
   ]
  },
  {
   "cell_type": "markdown",
   "id": "underlying-producer",
   "metadata": {},
   "source": [
    "#### Answer:"
   ]
  },
  {
   "cell_type": "code",
   "execution_count": null,
   "id": "written-newfoundland",
   "metadata": {},
   "outputs": [],
   "source": []
  },
  {
   "cell_type": "markdown",
   "id": "determined-charm",
   "metadata": {},
   "source": [
    "### 10.22 (w)\n",
    "\n",
    "If $X\\sim \\mathcal{N}(\\mu, \\sigma^2)$, find the CDF of $X$ in terms of $\\Phi(x)$."
   ]
  },
  {
   "cell_type": "markdown",
   "id": "chronic-patrol",
   "metadata": {},
   "source": [
    "#### Answer:"
   ]
  },
  {
   "cell_type": "markdown",
   "id": "incorporate-broadcast",
   "metadata": {},
   "source": [
    "### 10.23 (t)\n",
    "\n",
    "If a PDF is symmetric about $x=0$ ( also called an _even function_ ), prove that $F_X(-x) = 1 - F_X(x)$. Does this property hold for a Gaussian PDF with $\\mu = 0$? Hint: See Figure 10.16.\n",
    "\n",
    "![](../../figs/fig_10_16.png)"
   ]
  },
  {
   "cell_type": "markdown",
   "id": "superb-glory",
   "metadata": {},
   "source": [
    "#### Answer:"
   ]
  },
  {
   "cell_type": "markdown",
   "id": "confused-relation",
   "metadata": {},
   "source": [
    "### 10.24 (t)\n",
    "\n",
    "Prove that if $X \\sim  \\mathcal{N}(\\mu, \\sigma^2)$, then\n",
    "\n",
    "$$\n",
    "P[X>a] = Q\\bigg( \\frac{a-\\mu}{\\sigma} \\bigg)\n",
    "$$"
   ]
  },
  {
   "cell_type": "markdown",
   "id": "governmental-filling",
   "metadata": {},
   "source": [
    "#### Answer:"
   ]
  },
  {
   "cell_type": "markdown",
   "id": "applicable-duncan",
   "metadata": {},
   "source": [
    "### 10.25 (t)\n",
    "\n",
    "Prove the properties of the $Q$ function given by (10.19)-(10.22)."
   ]
  },
  {
   "cell_type": "markdown",
   "id": "written-channels",
   "metadata": {},
   "source": [
    "#### Answer:"
   ]
  },
  {
   "cell_type": "markdown",
   "id": "prepared-sword",
   "metadata": {},
   "source": [
    "### 10.26 (f)\n",
    "\n",
    "Plot the function $Q(\\frac{A}{2})$ versus $A$ for $A\\in[0,5]$ to verify the true probability of error as shown in Figure 2.15.\n",
    "\n",
    "![](../../figs/fig_2_15.png)"
   ]
  },
  {
   "cell_type": "markdown",
   "id": "independent-yellow",
   "metadata": {},
   "source": [
    "#### Answer:"
   ]
  },
  {
   "cell_type": "markdown",
   "id": "immune-experience",
   "metadata": {},
   "source": [
    "### 10.27 (c)\n",
    "\n",
    "If $X \\sim \\mathcal{N}(0,1)$ evaluate $P[X>4]$ and then verify your results using a computer simulation. How easy do you think it would be to determine $P[X>7]$ using a computer simulation? (See section 11.10 for an alternative approach.)"
   ]
  },
  {
   "cell_type": "markdown",
   "id": "imported-reviewer",
   "metadata": {},
   "source": [
    "#### Answer:"
   ]
  },
  {
   "cell_type": "markdown",
   "id": "organized-darwin",
   "metadata": {},
   "source": [
    "### 10.28 (w)\n",
    "\n",
    "A survey is taken of the incomes of a large number of people in a city. It is determined that the income in dollars is distributed as $X \\sim \\mathcal{N}(50000,10^8)$. What percentage of the people have incomes above $70,000$ dollars?"
   ]
  },
  {
   "cell_type": "markdown",
   "id": "unauthorized-charge",
   "metadata": {},
   "source": [
    "#### Answer:"
   ]
  },
  {
   "cell_type": "markdown",
   "id": "elegant-engineer",
   "metadata": {},
   "source": [
    "### 10.29 (w)\n",
    "\n",
    "In Chapter 1 an example was given of the length of time in minutes an office worker spends on the telephone in a given 10 minute period. The length of time $T$ was given as $\\mathcal{ N}(7,1)$ as shown in Figure 1.5. Determine the probability that a caller is on the telephone more than 8 minutes by finding $P[T>8]$.\n",
    "\n",
    "![](../../figs/fig_1_5.png)"
   ]
  },
  {
   "cell_type": "markdown",
   "id": "passing-arabic",
   "metadata": {},
   "source": [
    "#### Answer:"
   ]
  },
  {
   "cell_type": "markdown",
   "id": "rubber-knowing",
   "metadata": {},
   "source": [
    "### 10.30 (w)\n",
    "\n",
    "A population of high school students in the eastern United States score $X$ points on their SATs, where $X \\sim \\mathcal{N}(500,4900)$. A similar population in the western United States score $X$ points, where $X \\sim \\mathcal{N}(525,3600)$. Which group is more likely to have scores above $700$?"
   ]
  },
  {
   "cell_type": "markdown",
   "id": "statutory-graduate",
   "metadata": {},
   "source": [
    "#### Answer:"
   ]
  },
  {
   "cell_type": "markdown",
   "id": "fitted-myrtle",
   "metadata": {},
   "source": [
    "### 10.31 (f)\n",
    "\n",
    "Verify the numerical results given in (1.3)."
   ]
  },
  {
   "cell_type": "markdown",
   "id": "italic-architect",
   "metadata": {},
   "source": [
    "#### Answer:"
   ]
  },
  {
   "cell_type": "markdown",
   "id": "exact-zambia",
   "metadata": {},
   "source": [
    "### 10.14 ()"
   ]
  },
  {
   "cell_type": "markdown",
   "id": "helpful-pledge",
   "metadata": {},
   "source": [
    "#### Answer:"
   ]
  }
 ],
 "metadata": {
  "kernelspec": {
   "display_name": "Python 3",
   "language": "python",
   "name": "python3"
  },
  "language_info": {
   "codemirror_mode": {
    "name": "ipython",
    "version": 3
   },
   "file_extension": ".py",
   "mimetype": "text/x-python",
   "name": "python",
   "nbconvert_exporter": "python",
   "pygments_lexer": "ipython3",
   "version": "3.7.9"
  }
 },
 "nbformat": 4,
 "nbformat_minor": 5
}
