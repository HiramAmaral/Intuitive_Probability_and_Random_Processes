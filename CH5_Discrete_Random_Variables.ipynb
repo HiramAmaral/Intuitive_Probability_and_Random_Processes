{
 "cells": [
  {
   "cell_type": "markdown",
   "metadata": {},
   "source": [
    "## Imports"
   ]
  },
  {
   "cell_type": "code",
   "execution_count": 73,
   "metadata": {},
   "outputs": [],
   "source": [
    "import numpy as np\n",
    "from scipy.special import comb\n",
    "from collections import Counter\n",
    "\n",
    "import matplotlib.pyplot as plt\n",
    "%matplotlib inline \n",
    "plt.style.use('ggplot')\n",
    "\n",
    "import seaborn as sns\n",
    "sns.set(font_scale=1.5)"
   ]
  },
  {
   "cell_type": "markdown",
   "metadata": {},
   "source": [
    "## Notes:\n",
    "\n",
    "- Anywhere this picture occurs indicates a problem I need to check or finish:\n",
    "\n",
    "\n",
    "![finish-me.jpg](https://i.pinimg.com/564x/a4/b6/38/a4b638b7d6926e4f494b1d94459052ff.jpg)"
   ]
  },
  {
   "cell_type": "markdown",
   "metadata": {},
   "source": [
    "## Problems\n",
    "\n",
    "### Key:\n",
    "\n",
    "- __(w)__ indicates a __word__ problem\n",
    "- __(f)__ indicates a __formula__ problem\n",
    "- __(c)__ indicates a __computer__ problem\n",
    "- __(t)__ indicates a __theoretical__ problem\n",
    "- 😃 indicates the answer is available in the back"
   ]
  },
  {
   "cell_type": "markdown",
   "metadata": {},
   "source": [
    "### 5.1 (w)\n",
    "\n",
    "Draw a picture depicting a mapping of the outcome of a die toss, i.e. the pattern of dots that appear, to the numbers 1,2,3,4,5,6."
   ]
  },
  {
   "cell_type": "markdown",
   "metadata": {},
   "source": [
    "#### Answer:\n",
    "\n"
   ]
  },
  {
   "cell_type": "markdown",
   "metadata": {},
   "source": [
    "***\n",
    "### 5.2 (w)\n",
    "\n",
    "Repeat Problem 5.1 for a mapping of the sides that display 1, 2, or 3 dots to the number 0 and the remaining sides to the number 1."
   ]
  },
  {
   "cell_type": "markdown",
   "metadata": {},
   "source": [
    "#### Answer:\n",
    "\n"
   ]
  },
  {
   "cell_type": "markdown",
   "metadata": {},
   "source": [
    "***\n",
    "### 5.3 (w)\n",
    "\n",
    "Consider a random experiment for which $S = \\{ s_i: s_i=i, i=1,2,\\dots,10 \\}$ and the outcomes are equally likely. If a random variable is defined as $X(s_i)=s_i^2$ find $S_X$ and the PMF."
   ]
  },
  {
   "cell_type": "markdown",
   "metadata": {},
   "source": [
    "#### Answer:\n",
    "\n"
   ]
  },
  {
   "cell_type": "markdown",
   "metadata": {},
   "source": [
    "***\n",
    "### 5.4 😃(w)\n",
    "\n",
    "Consider a random experiment for which $S = \\{ s_i: s_i=i, i=-3,-2,-1,0,1,2,3 \\}$ and the outcomes are equally likely. If a random variable is defined as $X(s_i)=s_i^2$ find $S_X$ and the PMF."
   ]
  },
  {
   "cell_type": "markdown",
   "metadata": {},
   "source": [
    "#### Answer:\n",
    "\n"
   ]
  },
  {
   "cell_type": "markdown",
   "metadata": {},
   "source": [
    "***\n",
    "### 5.5 (w)\n",
    "\n",
    "A man is late for his job by $s_i=i$ minutes, where $i=1,2,\\dots.$ If $P[s_i]=\\bigg(\\frac{1}{2}\\bigg)^i$ and he is fined by 0.50 dollars per minute, find the PMF of his fine. Next find the probability that he will be fined more than 10 dollars."
   ]
  },
  {
   "cell_type": "markdown",
   "metadata": {},
   "source": [
    "#### Answer:\n",
    "\n",
    "The PMF of his fine can be models as \n",
    "\n",
    "$$\n",
    "p_X[X(s_i) = \\frac{s_i}{2}] = \\big( \\frac{1}{2} \\big)^{s_i}.\n",
    "$$\n",
    "\n",
    "where $s_i$ is in units of minutes and $X(s_i)$ is in units of dollars. \n",
    "\n",
    "Let $A = \\{$ That he will be fined more than 10 dollars $\\} = \\{X(s) \\geq 10\\}$. Then\n",
    "\n",
    "$$\n",
    "\\begin{equation}\n",
    "    \\begin{split}\n",
    "        P[A] &= \\sum_{k=10}^{\\infty}{\\big( \\frac{1}{2} \\big)^k} \\\\\n",
    "             \\\\\n",
    "             &= \\sum_{k=10}^{\\infty}{\\big( \\frac{1}{2} \\big)^k} \\\\\n",
    "             \\\\\n",
    "             &= \\frac{ \\big( \\frac{1}{2} \\big)^{10}}{1 - \\frac{1}{2}} \\\\\n",
    "             \\\\\n",
    "             &= \\big( \\frac{1}{2} \\big)^{9}.\n",
    "    \\end{split}\n",
    "\\end{equation}\n",
    "$$"
   ]
  },
  {
   "cell_type": "markdown",
   "metadata": {},
   "source": [
    "***\n",
    "### 5.6 😃(w)\n",
    "\n",
    "If $p_X[k] = \\alpha p^k$ for $k=2,3,\\dots$ is to be a valid PMF, what are the possible values for $\\alpha$ and $p$?"
   ]
  },
  {
   "cell_type": "markdown",
   "metadata": {},
   "source": [
    "#### Answer:\n",
    "\n",
    "For it to be a valid PMF then the sum over the support must be equal to one. Let's do the calculation:\n",
    "\n",
    "$$\n",
    "\\begin{equation}\n",
    "    \\begin{split}\n",
    "        1 &= \\sum_{k=2}^{\\infty}{\\alpha p^k} \\\\\n",
    "               \\\\\n",
    "               &= \\alpha\\sum_{k=2}^{\\infty} p^k \\\\\n",
    "               \\\\\n",
    "               &= \\alpha\\frac{p^{2}}{1 - p} \n",
    "    \\end{split}\n",
    "\\end{equation}\n",
    "$$\n",
    "\n",
    "where we needed to assume $p\\in(0,1)$ for the Geometric series to work out. This implies that \n",
    "\n",
    "$$\n",
    "\\alpha = \\frac{1}{p^2} - \\frac{1}{p}.\n",
    "$$"
   ]
  },
  {
   "cell_type": "markdown",
   "metadata": {},
   "source": [
    "***\n",
    "### 5.7 (t)\n",
    "\n",
    "The maximum value of the binomial PMF occurs for the unique value $k=[(M+1)p]$, where $[x]$ denotes the largest integer less than or equal to $x$, if $(M+1)p$ is not an integer. If, however, $(M+1)p$ is an integer, then the PMF will have the same maximum value at $k=(M+1)p$ and $k=(M+1)p-1$. For the latter case when $(M+1)p$ is an integer you are asked to prove this result. To do so first show that\n",
    "\n",
    "$$\n",
    "\\frac{p_X[k]}{p_X[k-1]} = 1 + \\frac{(M+1)p-k}{k(1-p)} \n",
    "$$"
   ]
  },
  {
   "cell_type": "markdown",
   "metadata": {},
   "source": [
    "#### Answer:\n",
    "\n",
    "![finish-me.jpg](https://i.pinimg.com/564x/a4/b6/38/a4b638b7d6926e4f494b1d94459052ff.jpg)"
   ]
  },
  {
   "cell_type": "markdown",
   "metadata": {},
   "source": [
    "***\n",
    "### 5.8 😃(w)\n",
    "\n",
    "At a party a large barrel is filled with 99 gag gifts and 1 diamond ring, all enclosed in identical boxes. Each person at the party is given a chance to pick a box from the barrel, open the box to see if the diamond is inside, and if not, to close the box and return it to the barrel. What is the probability that at least 19 persons will choose gag gifts before the diamond ring is selected?"
   ]
  },
  {
   "cell_type": "markdown",
   "metadata": {},
   "source": [
    "#### Answer:\n",
    "\n",
    "Let $A = \\{$ at least 19 persons will choose gag gifts before the diamond ring is selected $\\}$. We can model each draw as an independent Bernoulli trial with $p = \\frac{1}{99 + 1} = \\frac{1}{100}$, where $p$ is the probability of drawing the diamond ring and $(1-p)$ is the probability of drawing a gag gift.\n",
    "\n",
    "$$\n",
    "P[A] = (1-p)^{19}.\n",
    "$$\n",
    "\n",
    "Alternatively, we can model this problem as combinatorial urn problem where draws a done with replacement (ensuring independence). Then\n",
    "\n",
    "$$\n",
    "\\begin{equation}\n",
    "    \\begin{split}\n",
    "        P[A] &= \\frac{{99 \\choose 1}^{19}}{{100 \\choose 1}^{19}} \\\\\n",
    "             \\\\\n",
    "             &= \\bigg(\\frac{99}{100}\\bigg)^{19} \\\\\n",
    "             \\\\\n",
    "             &= (0.99)^{19}.\n",
    "    \\end{split}\n",
    "\\end{equation}\n",
    "$$"
   ]
  },
  {
   "cell_type": "markdown",
   "metadata": {},
   "source": [
    "***\n",
    "### 5.9 (f,c)\n",
    "\n",
    "If $X$ is a geometric random variable with $p=0.25$, what is the probability that $X\\geq 4$? Verify your result by performing a computer simulation."
   ]
  },
  {
   "cell_type": "markdown",
   "metadata": {},
   "source": [
    "#### Answer:\n",
    "\n",
    "Recall that the PMF of a geometric random variable, $X$, is $p_X[k] = (1-p)^{k-1}p = P[X = x_i]$. Also, recall that $P[X\\in A] = \\sum_{i:x_i\\in A}{p_X[x_i]}$ so we can find $P[X\\geq 4]$ by summing up the relevant evaluations of the PMF:\n",
    "\n",
    "$$\n",
    "\\begin{equation}\n",
    "    \\begin{split}\n",
    "        P[X \\geq 4] &= \\sum_{k=4}^{\\infty}{(1-p)^{k-1}p} \\\\\n",
    "                    &= \\frac{p}{(1-p)}\\sum_{k=4}^{\\infty}{(1-p)^k} \\\\\n",
    "                    &= \\frac{p}{(1-p)}\\bigg( \\frac{(1-p)^4}{1 - (1-p)} \\bigg) \\\\ \n",
    "                    &= \\frac{\\big(\\frac{1}{4}\\big)}{\\big(\\frac{3}{4}\\big)}\\bigg( \\frac{\\big(\\frac{3}{4}\\big)^4}{1 - \\big(\\frac{3}{4}\\big)} \\bigg) \\\\\n",
    "                    &= \\frac{27}{64}\n",
    "    \\end{split}\n",
    "\\end{equation}\n",
    "$$"
   ]
  },
  {
   "cell_type": "code",
   "execution_count": 30,
   "metadata": {},
   "outputs": [
    {
     "name": "stdout",
     "output_type": "stream",
     "text": [
      "Estimated: 0.4254\n",
      "Theoretical: 0.421875\n"
     ]
    }
   ],
   "source": [
    "p = 0.25\n",
    "N = 10000\n",
    "x = np.random.geometric(p, size=N)\n",
    "prob = sum(x >= 4) / N\n",
    "theo = 27 / 64\n",
    "print(f'Estimated: {prob}\\nTheoretical: {theo}')"
   ]
  },
  {
   "cell_type": "markdown",
   "metadata": {},
   "source": [
    "***\n",
    "### 5.10 (c)\n",
    "\n",
    "Using a computer simulation to generate a $geom(0.25)$ random variable, determine the average value for a large number of realizations. Relate this to the value of $p$ and explain the results."
   ]
  },
  {
   "cell_type": "markdown",
   "metadata": {},
   "source": [
    "#### Answer:\n",
    "\n",
    "Recall that the PMF of a geometric random variable, $X$, is $p_X[k] = (1-p)^{k-1}p$. We see that the average value for a large number of realizations $\\mathbb{E}[X] \\approx \\frac{1}{p}$."
   ]
  },
  {
   "cell_type": "code",
   "execution_count": 26,
   "metadata": {},
   "outputs": [
    {
     "name": "stdout",
     "output_type": "stream",
     "text": [
      "3.9826\n"
     ]
    }
   ],
   "source": [
    "p = 0.25\n",
    "N = 10000\n",
    "x = np.random.geometric(p, size=N)\n",
    "ave = np.mean(x)\n",
    "print(ave)"
   ]
  },
  {
   "cell_type": "markdown",
   "metadata": {},
   "source": [
    "***\n",
    "### 5.11 (t)\n",
    "\n",
    "Prove that the maximum value of a Poisson PMF occurs at $k=[\\lambda]$. Hint: See Problem 5.7 for the approach."
   ]
  },
  {
   "cell_type": "markdown",
   "metadata": {},
   "source": [
    "#### Answer:\n",
    "\n",
    "![finish-me.jpg](https://i.pinimg.com/564x/a4/b6/38/a4b638b7d6926e4f494b1d94459052ff.jpg)"
   ]
  },
  {
   "cell_type": "markdown",
   "metadata": {},
   "source": [
    "***\n",
    "### 5.12 (w,c)\n",
    "\n",
    "If $X$~$Pois(\\lambda)$, plot $P[X\\geq 2]$ versus $\\lambda$ and explain your results."
   ]
  },
  {
   "cell_type": "markdown",
   "metadata": {},
   "source": [
    "#### Answer:\n",
    "\n",
    "$$\n",
    "\\begin{equation}\n",
    "    \\begin{split}\n",
    "        P[X \\geq 2] &= 1 - P[X < 2] \\\\\n",
    "                    &= 1 - \\big(p_X[0] + p_X[1]\\big) \\\\\n",
    "                    &= 1 - \\big(e^{-\\lambda} + \\lambda e^{-\\lambda}\\big) \\\\ \n",
    "                    &= 1 - e^{-\\lambda}(1 + \\lambda)\n",
    "    \\end{split}\n",
    "\\end{equation}\n",
    "$$"
   ]
  },
  {
   "cell_type": "code",
   "execution_count": 23,
   "metadata": {},
   "outputs": [
    {
     "data": {
      "image/png": "[encoded data removed]",
      "text/plain": [
       "<Figure size 432x288 with 1 Axes>"
      ]
     },
     "metadata": {},
     "output_type": "display_data"
    }
   ],
   "source": [
    "N = 20\n",
    "lam = np.arange(1, N)\n",
    "f = lambda x: 1 - np.exp(-x)*(1 + x)\n",
    "\n",
    "plt.stem(lam, f(lam), use_line_collection=True)\n",
    "plt.xlabel(r'$\\lambda$')\n",
    "plt.ylabel(r'$P[X\\geq 2]$')\n",
    "plt.show()"
   ]
  },
  {
   "cell_type": "markdown",
   "metadata": {},
   "source": [
    "***\n",
    "### 5.13 😃(c)\n",
    "\n",
    "Use a computer simulation to generate realizations of a $Pois(\\lambda)$ random variable with $\\lambda = 5$ by approximating it with a $bin(100, 0.05)$ random variable. What is the average value of $X$?"
   ]
  },
  {
   "cell_type": "code",
   "execution_count": 60,
   "metadata": {},
   "outputs": [
    {
     "name": "stdout",
     "output_type": "stream",
     "text": [
      "Aveverage value bin(100,0.05): 5.023\n",
      "Aveverage value Pois(5): 5.0087\n"
     ]
    }
   ],
   "source": [
    "lam = 5\n",
    "N = 10000\n",
    "p, n = 0.05, 100\n",
    "X = np.random.binomial(n, p, size=N) \n",
    "Y = np.random.poisson(lam, size=N)\n",
    "print(f'Aveverage value bin(100,0.05): {np.mean(X)}\\nAveverage value Pois(5): {np.mean(Y)}')"
   ]
  },
  {
   "cell_type": "markdown",
   "metadata": {},
   "source": [
    "***\n",
    "### 5.14 😃(w)\n",
    "\n",
    "If $X$~$bin(100, 0.01)$, determine $p_X[5]$. Next compare this to the value obtained using a Poisson approximation."
   ]
  },
  {
   "cell_type": "markdown",
   "metadata": {},
   "source": [
    "#### Answer:\n",
    "\n",
    "If $X$~$bin(100, 0.01)$ then\n",
    "\n",
    "$$\n",
    "\\begin{equation}\n",
    "    \\begin{split}\n",
    "        p_X[5] &= {M\\choose k}p^k(1-p)^{M-k} \\\\\n",
    "               \\\\\n",
    "               &= {100\\choose 5}\\big(\\frac{1}{100}\\big)^{5}\\big(1-\\frac{1}{100}\\big)^{95} \\\\\n",
    "               \\\\\n",
    "               &= 75287520\\big(\\frac{1}{100}\\big)^{5}\\big(\\frac{99}{100}\\big)^{95} \\\\ \n",
    "               \\\\\n",
    "               &\\approx 0.0029\n",
    "    \\end{split}\n",
    "\\end{equation}\n",
    "$$\n",
    "\n",
    "Comparing this with a Poisson approximation, $Pois(\\lambda)$, with $\\lambda = pM = 0.01(100) = 1$, we see that\n",
    "\n",
    "$$\n",
    "\\begin{equation}\n",
    "    \\begin{split}\n",
    "        p_X[5] &= \\frac{\\lambda^k}{k!}e^{-\\lambda} \\\\\n",
    "               \\\\\n",
    "               &= \\frac{1^5}{5!}e^{-1} \\\\\n",
    "               \\\\\n",
    "               &= \\frac{1}{120}e^{-1} \\\\ \n",
    "               \\\\\n",
    "               &\\approx 0.0031\n",
    "    \\end{split}\n",
    "\\end{equation}\n",
    "$$"
   ]
  },
  {
   "cell_type": "code",
   "execution_count": 79,
   "metadata": {},
   "outputs": [
    {
     "name": "stdout",
     "output_type": "stream",
     "text": [
      "pX[5] of bin(100,0.01): 0.0029\n",
      "pX[5] of Pois(1): 0.0031\n"
     ]
    }
   ],
   "source": [
    "bino =  comb(100,5) * (1/100)**5 * (99/100)**95\n",
    "pois = (1/120)*np.exp(-1)\n",
    "print(f'pX[5] of bin(100,0.01): {bino:0.4f}\\npX[5] of Pois(1): {pois:0.4f}')"
   ]
  },
  {
   "cell_type": "markdown",
   "metadata": {},
   "source": [
    "***\n",
    "### 5.15 (t)\n",
    "\n",
    "Prove the following limit:\n",
    "\n",
    "$$\n",
    "\\lim_{M\\rightarrow \\infty}{g(M)} = \\lim_{M\\rightarrow \\infty}{\\bigg( 1 + \\frac{x}{M}\\bigg)^M} = e^x\n",
    "$$\n",
    "\n",
    "To do so note that the same limit is obtained if $M$ is replaced by a continuous variable, say $u$, and that one can consider $\\ln{(g(u))}$ since the logarithm is a continuous function. Hint: use L'Hospital's rule."
   ]
  },
  {
   "cell_type": "markdown",
   "metadata": {},
   "source": [
    "#### Answer:\n",
    "\n"
   ]
  },
  {
   "cell_type": "markdown",
   "metadata": {},
   "source": [
    "***\n",
    "### 5.16 (f,c)\n",
    "\n",
    "Compare the PMFs for $Pois(1)$ and $bin(100, 0.01)$ random variables."
   ]
  },
  {
   "cell_type": "markdown",
   "metadata": {},
   "source": [
    "#### Answer:\n",
    "\n"
   ]
  },
  {
   "cell_type": "code",
   "execution_count": null,
   "metadata": {},
   "outputs": [],
   "source": []
  },
  {
   "cell_type": "markdown",
   "metadata": {},
   "source": [
    "***\n",
    "### 5.17 (c)\n",
    "\n",
    "Generate realizations of a $Pois(1)$ random variable by using a binomial approximation."
   ]
  },
  {
   "cell_type": "code",
   "execution_count": 105,
   "metadata": {},
   "outputs": [
    {
     "data": {
      "image/png": "[encoded data removed]",
      "text/plain": [
       "<Figure size 432x288 with 1 Axes>"
      ]
     },
     "metadata": {},
     "output_type": "display_data"
    }
   ],
   "source": [
    "N = 100000\n",
    "n, p = 100, 0.01\n",
    "X = np.random.binomial(n, p, size=N)\n",
    "plt.hist(X, density=True)\n",
    "plt.title(f'X ~ Bin({n}, {p})')\n",
    "plt.show()"
   ]
  },
  {
   "cell_type": "markdown",
   "metadata": {},
   "source": [
    "***\n",
    "### 5.18 😃(c)\n",
    "\n",
    "Compare the theoretical value of $P[X=3]$ for the Poisson random variable to the estimated value obtained from the simulation of Proiblem 5.17."
   ]
  },
  {
   "cell_type": "markdown",
   "metadata": {},
   "source": [
    "#### Answer:\n",
    "\n",
    "The theoretical value can be calucated as\n",
    "\n",
    "$$\n",
    "\\begin{equation}\n",
    "    \\begin{split}\n",
    "        P[X=3] &= \\frac{\\lambda^k}{k!}e^{-\\lambda} \\\\\n",
    "               \\\\\n",
    "               &= \\frac{1^3}{3!}e^{-1} \\\\\n",
    "               \\\\\n",
    "               &\\approx 0.0613 \n",
    "    \\end{split}\n",
    "\\end{equation}\n",
    "$$"
   ]
  },
  {
   "cell_type": "code",
   "execution_count": 107,
   "metadata": {},
   "outputs": [
    {
     "name": "stdout",
     "output_type": "stream",
     "text": [
      "Theoretical: 0.0613\n",
      "Estimate: 0.0611\n"
     ]
    }
   ],
   "source": [
    "theo = (1/6) * np.exp(-1) \n",
    "est = sum(X == 3) / N\n",
    "print(f'Theoretical: {theo:0.4f}\\nEstimate: {est:0.4f}')"
   ]
  },
  {
   "cell_type": "markdown",
   "metadata": {},
   "source": [
    "***\n",
    "### 5.19 (f)\n",
    "\n",
    "If $X$~$Ber(p)$, find the PMF for $Y=-X$."
   ]
  },
  {
   "cell_type": "markdown",
   "metadata": {},
   "source": [
    "#### Answer:\n",
    "\n"
   ]
  },
  {
   "cell_type": "markdown",
   "metadata": {},
   "source": [
    "***\n",
    "### 5.20 😃(f)\n",
    "\n",
    "If $X$~$Pois(\\lambda)$, find the PMF for $Y = 2X$."
   ]
  },
  {
   "cell_type": "markdown",
   "metadata": {},
   "source": [
    "#### Answer:\n",
    "\n"
   ]
  },
  {
   "cell_type": "markdown",
   "metadata": {},
   "source": [
    "***\n",
    "### 5.21 (f)\n",
    "\n",
    "A discrete random variable $X$ has PMF\n",
    "\n",
    "$$\n",
    "\\begin{equation}\n",
    "    p_X[x_i] = \n",
    "    \\begin{cases}\n",
    "     & \\frac{1}{2},  x_1 = -1           \\\\\n",
    "     & \\frac{1}{4},  x_2 = -\\frac{1}{2} \\\\\n",
    "     & \\frac{1}{8},  x_3 = 0            \\\\\n",
    "     & \\frac{1}{16}, x_4 = \\frac{1}{2}  \\\\\n",
    "     & \\frac{1}{16}, x_5 = -1           \\\\\n",
    "    \\end{cases}\n",
    "\\end{equation}\n",
    "$$\n",
    "\n",
    "If $Y=\\sin{(\\pi X)}$, find the PMF for $Y$."
   ]
  },
  {
   "cell_type": "markdown",
   "metadata": {},
   "source": [
    "#### Answer:\n",
    "\n"
   ]
  },
  {
   "cell_type": "markdown",
   "metadata": {},
   "source": [
    "***\n",
    "### 5.22 (t)\n",
    "\n",
    "In this problem we derive the Taylor expansion for the function $g(x)=e^x$. To do so note that the expansion about the point $x=0$ is given by \n",
    "\n",
    "$$\n",
    "g(x) = \\sum_{n=0}^{\\infty}{\\frac{g^{(n)}(0)}{n!}x^n}\n",
    "$$\n",
    "\n",
    "where $g^{(0)}(0)=g(0)$ and $g^{(n)}(0)$ is the $n^{th}$ derivative of $g(x)$ evaluated at $x=0$. Prove that it is given by \n",
    "\n",
    "$$\n",
    "e^x = \\sum_{n=0}^{\\infty}{\\frac{x^n}{n!}}\n",
    "$$"
   ]
  },
  {
   "cell_type": "markdown",
   "metadata": {},
   "source": [
    "#### Answer:\n",
    "\n"
   ]
  },
  {
   "cell_type": "markdown",
   "metadata": {},
   "source": [
    "***\n",
    "### 5.23 (f)\n",
    "\n",
    "Plot the CDF for \n",
    "\n",
    "$$\n",
    "\\begin{equation}\n",
    "    p_X[k] = \n",
    "    \\begin{cases}\n",
    "     & \\frac{1}{4},  k = 1 \\\\\n",
    "     & \\frac{1}{2},  k = 2 \\\\\n",
    "     & \\frac{1}{4},  k = 3 \\\\\n",
    "    \\end{cases}\n",
    "\\end{equation}\n",
    "$$"
   ]
  },
  {
   "cell_type": "markdown",
   "metadata": {},
   "source": [
    "#### Answer:\n",
    "\n"
   ]
  },
  {
   "attachments": {
    "fig_5_18.PNG": {
     "image/png": "[encoded data removed]"
    }
   },
   "cell_type": "markdown",
   "metadata": {},
   "source": [
    "***\n",
    "### 5.24 (w)\n",
    "\n",
    "A horizontal bar of negligible weight is loaded with three weights as shown in Figure 5.18. Assuming that the weights are concentrated at their center locations, plot the total mass of the bar starting at the left end (where $x=0$ meters) to any point on the bar. How does this relate to a PMF and a CDF?\n",
    "\n",
    "![fig_5_18.PNG](attachment:fig_5_18.PNG)"
   ]
  },
  {
   "cell_type": "markdown",
   "metadata": {},
   "source": [
    "#### Answer:\n",
    "\n"
   ]
  },
  {
   "cell_type": "markdown",
   "metadata": {},
   "source": [
    "***\n",
    "### 5.25 (f)\n",
    "\n",
    "Find and plot the CDF of $Y=-X$ if $X$~$Ber(\\frac{1}{4})$."
   ]
  },
  {
   "cell_type": "markdown",
   "metadata": {},
   "source": [
    "#### Answer:\n",
    "\n"
   ]
  },
  {
   "cell_type": "markdown",
   "metadata": {},
   "source": [
    "***\n",
    "### 5.26 😃(w)\n",
    "\n",
    "Find the PMF if $X$ is a discrete random variable with the CDF \n",
    "\n",
    "$$\n",
    "\\begin{equation}\n",
    "    F_X(x) = \n",
    "    \\begin{cases}\n",
    "     & 0,  x<0           \\\\\n",
    "     & \\frac{[ x]}{5},  0\\leq x \\leq 5 \\\\\n",
    "     & 1,  x>5            \\\\\n",
    "    \\end{cases}\n",
    "\\end{equation}\n",
    "$$"
   ]
  },
  {
   "cell_type": "markdown",
   "metadata": {},
   "source": [
    "#### Answer:\n",
    "\n"
   ]
  },
  {
   "cell_type": "markdown",
   "metadata": {},
   "source": [
    "***\n",
    "### 5.27 (w)\n",
    "\n",
    "Is the following a valid CDF? If not, why not, and how could you modify it to become a valid one?\n",
    "\n",
    "$$\n",
    "\\begin{equation}\n",
    "    F_X(x) = \n",
    "    \\begin{cases}\n",
    "     & 0,  x < 2           \\\\\n",
    "     & \\frac{1}{2},  2 \\leq x \\leq 3 \\\\\n",
    "     & \\frac{3}{4},  3 < x \\leq 4 \\\\\n",
    "     & 1,  x \\geq 4            \\\\\n",
    "    \\end{cases}\n",
    "\\end{equation}\n",
    "$$"
   ]
  },
  {
   "cell_type": "markdown",
   "metadata": {},
   "source": [
    "#### Answer:\n",
    "\n"
   ]
  },
  {
   "attachments": {
    "fig_5_11.PNG": {
     "image/png": "[encoded data removed]"
    }
   },
   "cell_type": "markdown",
   "metadata": {},
   "source": [
    "***\n",
    "### 5.28 😃(f)\n",
    "\n",
    "If $X$ has the CDF shown in Figure 5.11b, determine $P[2 \\leq X \\leq 4]$ from the CDF.\n",
    "\n",
    "![fig_5_11.PNG](attachment:fig_5_11.PNG)"
   ]
  },
  {
   "cell_type": "markdown",
   "metadata": {},
   "source": [
    "#### Answer:\n",
    "\n"
   ]
  },
  {
   "cell_type": "markdown",
   "metadata": {},
   "source": [
    "***\n",
    "### 5.29 (t)\n",
    "\n",
    "Prove that the function $g(x) = e^x$ is a monotonically increasing function by showing that $g(x_2) \\geq g(x_1)$ if $x_2 \\geq x_1$."
   ]
  },
  {
   "cell_type": "markdown",
   "metadata": {},
   "source": [
    "#### Answer:\n",
    "\n"
   ]
  },
  {
   "cell_type": "markdown",
   "metadata": {},
   "source": [
    "***\n",
    "### 5.30 (c)\n",
    "\n",
    "Estimate the PMF for a $geom(0.25)$ random variable for $k=1,2,\\dots,20$ using a computer simulation and compare it to the true PMF. Also, estimate the CDF from your computer simulation."
   ]
  },
  {
   "cell_type": "code",
   "execution_count": null,
   "metadata": {},
   "outputs": [],
   "source": []
  },
  {
   "cell_type": "markdown",
   "metadata": {},
   "source": [
    "***\n",
    "### 5.31 😃(f,c)\n",
    "\n",
    "The arrival rate of calls at a mobile switching station is 1 per second. The probability of $k$ calls in a $T$ second interval is given by a Poisson PMF with $\\lambda=$ (arrival rate) $\\times T$. What is the probability that there will be more than 100 calls placed in a 1 minute interval?"
   ]
  },
  {
   "cell_type": "markdown",
   "metadata": {},
   "source": [
    "#### Answer:\n",
    "\n"
   ]
  }
 ],
 "metadata": {
  "kernelspec": {
   "display_name": "Python 3",
   "language": "python",
   "name": "python3"
  },
  "language_info": {
   "codemirror_mode": {
    "name": "ipython",
    "version": 3
   },
   "file_extension": ".py",
   "mimetype": "text/x-python",
   "name": "python",
   "nbconvert_exporter": "python",
   "pygments_lexer": "ipython3",
   "version": "3.7.6"
  }
 },
 "nbformat": 4,
 "nbformat_minor": 4
}
