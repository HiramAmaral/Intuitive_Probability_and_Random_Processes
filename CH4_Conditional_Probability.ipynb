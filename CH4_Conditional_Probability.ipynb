{
 "cells": [
  {
   "cell_type": "markdown",
   "metadata": {},
   "source": [
    "## Imports"
   ]
  },
  {
   "cell_type": "code",
   "execution_count": null,
   "metadata": {},
   "outputs": [],
   "source": [
    "import numpy as np\n",
    "import pandas as pd\n",
    "from collections import Counter\n",
    "from functools import lru_cache\n",
    "\n",
    "import matplotlib.pyplot as plt\n",
    "%matplotlib inline \n",
    "plt.style.use('ggplot')\n",
    "\n",
    "import seaborn as sns\n",
    "sns.set(font_scale=1.5)"
   ]
  },
  {
   "cell_type": "code",
   "execution_count": null,
   "metadata": {},
   "outputs": [],
   "source": [
    "@lru_cache()\n",
    "def factorial(n: int) -> int:\n",
    "    '''   \n",
    "    Args:\n",
    "        n (int >= 0): the number to take factorial of\n",
    "        \n",
    "    Returns:\n",
    "        (int): n!\n",
    "        \n",
    "    Notes: \n",
    "    \n",
    "        Calculates n! recursively\n",
    "        \n",
    "        Uses memoization to efficiently calculate\n",
    "        despite the recursive implementation.  \n",
    "        \n",
    "        Least Regularly Used, means that the growth \n",
    "        of the cache is limited by discarding the \n",
    "        entries that have not been read for a while.\n",
    "    '''\n",
    "    return 1 if n < 2 else n*factorial(n-1)"
   ]
  },
  {
   "cell_type": "markdown",
   "metadata": {},
   "source": [
    "## Notes:\n",
    "\n",
    "- Anywhere this picture occurs indicates a problem I need to check or finish:\n",
    "\n",
    "\n",
    "![finish-me.jpg](https://i.pinimg.com/564x/a4/b6/38/a4b638b7d6926e4f494b1d94459052ff.jpg)"
   ]
  },
  {
   "cell_type": "markdown",
   "metadata": {},
   "source": [
    "## Problems\n",
    "\n",
    "### Key:\n",
    "\n",
    "- __(w)__ indicates a __word__ problem\n",
    "- __(f)__ indicates a __formula__ problem\n",
    "- __(c)__ indicates a __computer__ problem\n",
    "- __(t)__ indicates a __theoretical__ problem\n",
    "- 😃 indicates the answer is available in the back"
   ]
  },
  {
   "cell_type": "markdown",
   "metadata": {},
   "source": [
    "### 4.1 (f)\n",
    "\n",
    "If $B\\subset A$, what is $P[A|B]$? Explain your answer."
   ]
  },
  {
   "cell_type": "code",
   "execution_count": null,
   "metadata": {},
   "outputs": [],
   "source": []
  },
  {
   "cell_type": "markdown",
   "metadata": {},
   "source": [
    "***\n",
    "### 4.2 😃(f)\n",
    "\n",
    "A point $x$ is chosen at random with within the interval $(0,1)$. If it is known that $x \\geq \\frac{1}{2}$, what is the probability that $x \\geq \\frac{7}{8}?$"
   ]
  },
  {
   "cell_type": "code",
   "execution_count": null,
   "metadata": {},
   "outputs": [],
   "source": []
  },
  {
   "cell_type": "markdown",
   "metadata": {},
   "source": [
    "****\n",
    "### 4.3 (w)\n",
    "\n",
    "A coin is tossed three times with each 3-tuple outcome being equally likely. Find the probability of obtaining $(H,T,H)$ if it is known that the outcome has $2$ heads. Do this by \n",
    "1. using the idea of a reduced sample space and \n",
    "2. using the definition of conditional probability"
   ]
  },
  {
   "cell_type": "code",
   "execution_count": null,
   "metadata": {},
   "outputs": [],
   "source": []
  },
  {
   "cell_type": "markdown",
   "metadata": {},
   "source": [
    "***\n",
    "### 4.4 (w)\n",
    "\n",
    "Two dice are tossed. Each 2-tuple outcome is equally likely. Find the probability that the number that comes up on die 1 is the same as the number that comes up on die 2 if it is known that the sum of these numbers is even."
   ]
  },
  {
   "cell_type": "code",
   "execution_count": null,
   "metadata": {},
   "outputs": [],
   "source": []
  },
  {
   "cell_type": "markdown",
   "metadata": {},
   "source": [
    "***\n",
    "### 4.5 😃(f)\n",
    "\n",
    "An urn contains $3$ red balls and $2$ black balls. If two balls are chosen without replacement, find the probability that the second ball is black if it is known that the first ball chosen is black."
   ]
  },
  {
   "cell_type": "code",
   "execution_count": null,
   "metadata": {},
   "outputs": [],
   "source": []
  },
  {
   "cell_type": "markdown",
   "metadata": {},
   "source": [
    "***\n",
    "### 4.6 (f)\n",
    "\n",
    "A coin is tossed $11$ times in succession. Each 11-tuple outcome is equally likely to occur. If the first $10$ tosses produced all heads, what is the probability that the $11^{th}$ toss will also be a head?"
   ]
  },
  {
   "cell_type": "code",
   "execution_count": null,
   "metadata": {},
   "outputs": [],
   "source": []
  },
  {
   "cell_type": "markdown",
   "metadata": {},
   "source": [
    "***\n",
    "### 4.7 😃(w)\n",
    "\n",
    "Using Table 4.1, determine the probability that a college student will have a weight greater than $190$ lbs if he/she has a height exceeding $5'8\"$. Next, find the probability that a student's weight will exceed $190$ lbs."
   ]
  },
  {
   "cell_type": "code",
   "execution_count": null,
   "metadata": {},
   "outputs": [],
   "source": []
  },
  {
   "cell_type": "markdown",
   "metadata": {},
   "source": [
    "***\n",
    "### 4.8 (w)\n",
    "\n",
    "Using Table 4.1, find the probability that a student has a weight less than $160$ lbs if he/she has a height greater than $5'4\"$. Also, find the probability that a student's weight is less than $160$ lbs if he/she has height _less_ than $5'4\"$. Are these two results related?"
   ]
  },
  {
   "cell_type": "code",
   "execution_count": null,
   "metadata": {},
   "outputs": [],
   "source": []
  },
  {
   "cell_type": "markdown",
   "metadata": {},
   "source": [
    "***\n",
    "### 4.9 (t)\n",
    "\n",
    "Prove that the statement $P[A|B] + P[A|B^c]=1$ is false. Use Figure 4.2a to provide a counterexample."
   ]
  },
  {
   "cell_type": "code",
   "execution_count": null,
   "metadata": {},
   "outputs": [],
   "source": []
  },
  {
   "cell_type": "markdown",
   "metadata": {},
   "source": [
    "***\n",
    "### 4.10 (t)\n",
    "\n",
    "Prove that for the events $A,B,C$, which are not necessarily mutually exclusive,\n",
    "\n",
    "$$\n",
    "P[A\\cup B|C] = P[A|C] + P[B|C] - P[A,B|C]\n",
    "$$"
   ]
  },
  {
   "cell_type": "code",
   "execution_count": null,
   "metadata": {},
   "outputs": [],
   "source": []
  },
  {
   "cell_type": "markdown",
   "metadata": {},
   "source": [
    "***\n",
    "### 4.11 😃(w)\n",
    "\n",
    "A group of $20$ patients afflicted with a disease agree at be a part of a clinical drug trial. The group is divied up into two groups of $10$ subjects each, with one group given the drug and the other group given sugar water, i.e. this is the control group. The drug is $80\\%$ effective in curing the disease. If one is not given the drug, there is still a $20\\%$ chance of a cure due to remission. What is the probability that a randomly selected subject will be cured?"
   ]
  },
  {
   "cell_type": "code",
   "execution_count": null,
   "metadata": {},
   "outputs": [],
   "source": []
  },
  {
   "cell_type": "markdown",
   "metadata": {},
   "source": [
    "***\n",
    "### 4.12 (w)\n",
    "\n",
    "A new bus runs on Sunday, Tuesday, Thursday, and Saturday while an older bus runs on the other days. The new bus has a probability of being on time $\\frac{2}{3}$ while the older bus has a probability of only $\\frac{1}{3}$. If a passenger chooses an arbitrary day of the week to ride the bus, what is the probaiblity that the bus will be on time?"
   ]
  },
  {
   "cell_type": "code",
   "execution_count": null,
   "metadata": {},
   "outputs": [],
   "source": []
  },
  {
   "cell_type": "markdown",
   "metadata": {},
   "source": [
    "***\n",
    "### 4.13 (w)\n",
    "\n",
    "A digital communications system transmits one of the three values $-1,0,1$. A channel adds noise to cause the encoder to sometimes make an error. The error rates are $12.5\\%$ if a $-1$ is transmitted, $75\\%$ if a $0$ is transmitted, $12.5\\%$ if a $1$ is transmitted. If the probabilities for the various for the various symbols being transmitted are $P[-1]=P[1]=\\frac{1}{4}$ and $P[0]=\\frac{1}{2}$, find the probability of error. Repeat the problem for $P[-1]=P[1]=P[0]$ and explain your results."
   ]
  },
  {
   "cell_type": "code",
   "execution_count": null,
   "metadata": {},
   "outputs": [],
   "source": []
  },
  {
   "cell_type": "markdown",
   "metadata": {},
   "source": [
    "***\n",
    "### 4.14 😃(w)\n",
    "\n",
    "A sample space is given by $S = \\{ (x,y): 0\\leq x \\leq 1,0\\leq y \\leq 1 \\}$. Determine $P[A|B]$ for the events\n",
    "\n",
    "$$\n",
    "A = \\{ (x,y): y\\leq 2x, 0\\leq x \\leq \\frac{1}{2}, y \\leq 2-2x, \\frac{1}{2}\\leq x\\leq 1 \\}\n",
    "$$\n",
    "$$\n",
    "B = \\{ (x,y): \\frac{1}{2} \\leq x \\leq 1,0\\leq y \\leq 1 \\}\n",
    "$$"
   ]
  },
  {
   "cell_type": "code",
   "execution_count": null,
   "metadata": {},
   "outputs": [],
   "source": []
  },
  {
   "cell_type": "markdown",
   "metadata": {},
   "source": [
    "***\n",
    "### 4.15 (w)\n",
    "\n",
    "A sample space is given by $S = \\{ (x,y): 0\\leq x \\leq 1,0\\leq y \\leq 1 \\}$. Are the events\n",
    "\n",
    "$$\n",
    "A = \\{ (x,y): y\\leq x \\}\n",
    "$$\n",
    "$$\n",
    "B = \\{ (x,y): y \\leq 1-x \\}\n",
    "$$\n",
    "\n",
    "independent? Repeat if $B = \\{ (x,y): x \\leq \\frac{1}{4} \\}$."
   ]
  },
  {
   "cell_type": "code",
   "execution_count": null,
   "metadata": {},
   "outputs": [],
   "source": []
  },
  {
   "cell_type": "markdown",
   "metadata": {},
   "source": [
    "***\n",
    "### 4.16 (t)\n",
    "\n",
    "Give an example of two events that are mutually exclusive but not independent. Hint: See Figure 4.4."
   ]
  },
  {
   "cell_type": "code",
   "execution_count": null,
   "metadata": {},
   "outputs": [],
   "source": []
  },
  {
   "cell_type": "markdown",
   "metadata": {},
   "source": [
    "***\n",
    "### 4.17 (t) \n",
    "\n",
    "Consider the sample space $S = \\{ (x,y,z): 0\\leq x \\leq 1, 0\\leq y \\leq 1, 0\\leq z \\leq 1 \\}$, which is the unit cube. Can you find three events that are independent? Hint: See Figure 4.2c."
   ]
  },
  {
   "cell_type": "code",
   "execution_count": null,
   "metadata": {},
   "outputs": [],
   "source": []
  },
  {
   "cell_type": "markdown",
   "metadata": {},
   "source": [
    "***\n",
    "### 4.18 (t)\n",
    "\n",
    "Show that if (4.9) is satisfied for _all_ possible events, then pairwise independence follows. In this case all events are independent."
   ]
  },
  {
   "cell_type": "code",
   "execution_count": null,
   "metadata": {},
   "outputs": [],
   "source": []
  },
  {
   "cell_type": "markdown",
   "metadata": {},
   "source": [
    "***\n",
    "### 4.19 😃(f)\n",
    "\n",
    "It is known that that if it rains, there is a $50\\%$ chance that a sewer will overflow. Also, if the sewer overflows, then there is a $30\\%$ chance that the road will flood. If there is a $20\\%$ chance that it will rain, what is the probability that the road will flood?"
   ]
  },
  {
   "cell_type": "code",
   "execution_count": null,
   "metadata": {},
   "outputs": [],
   "source": []
  },
  {
   "cell_type": "markdown",
   "metadata": {},
   "source": [
    "***\n",
    "### 4.20 (w)\n",
    "\n",
    "Consider the sample space $S= \\{ 1,2,3,4 \\}$. Each simple event is equally likely. If $A=\\{1,2\\},B=\\{1,3\\},C=\\{1,4\\}$ are these events pairwise independent? Are they independent?"
   ]
  },
  {
   "cell_type": "code",
   "execution_count": null,
   "metadata": {},
   "outputs": [],
   "source": []
  },
  {
   "cell_type": "markdown",
   "metadata": {},
   "source": [
    "***\n",
    "### 4.21 😃(w)\n",
    "\n",
    "In Example 4.6 determine if the events are pairwise independent. Are they independent?"
   ]
  },
  {
   "cell_type": "code",
   "execution_count": null,
   "metadata": {},
   "outputs": [],
   "source": []
  },
  {
   "cell_type": "markdown",
   "metadata": {},
   "source": [
    "***\n",
    "### 4.22 😃(w)\n",
    "\n",
    "An urn contains 4 red balls and 2 black balls. Two balls are chosen in succession without replacement. If it is known that the first ball drawn is black, what are they odds in favor of a red ball being chosen on the second draw?"
   ]
  },
  {
   "cell_type": "code",
   "execution_count": null,
   "metadata": {},
   "outputs": [],
   "source": []
  },
  {
   "cell_type": "markdown",
   "metadata": {},
   "source": [
    "***\n",
    "### 4.23 (w)\n",
    "\n",
    "In Example 4.7 plot the probability that the person has cancer given that the test results are positive, i.e. the posterior probability, as a function of the prior probability $P[B]$. How is the posterior probability that the person has cancer related to the prior probability?"
   ]
  },
  {
   "cell_type": "code",
   "execution_count": null,
   "metadata": {},
   "outputs": [],
   "source": []
  },
  {
   "cell_type": "markdown",
   "metadata": {},
   "source": [
    "***\n",
    "### 4.24 (w)\n",
    "\n",
    "An experiment consists of two subexperiments. First, a number is chosen at random from the interval $(0,1)$. Then, a second number is chosen at random from the same interval. Determine the sample space $S^2$ for the overall experiment. Next consider the event $A = \\{ (x,y): \\frac{1}{4} \\leq x \\leq \\frac{1}{2}, \\frac{1}{2} \\leq y \\leq \\frac{3}{4} \\}$ and find $P[A]$. Relate $P[A]$ to the probabilities defined on $S^1 = \\{ u: 0< u < 1 \\}$ where $S^1$ is the sample space for each subexperiment."
   ]
  },
  {
   "cell_type": "code",
   "execution_count": null,
   "metadata": {},
   "outputs": [],
   "source": []
  },
  {
   "cell_type": "markdown",
   "metadata": {},
   "source": [
    "***\n",
    "### 4.25 (w,c)\n",
    "\n",
    "A fair coin is tossed 10 times. What is the probability of a run of exactly 5 heads in a row? Do not count runs of 6 or more heads in a row. Now verify your solution using a computer simulation."
   ]
  },
  {
   "cell_type": "code",
   "execution_count": null,
   "metadata": {},
   "outputs": [],
   "source": []
  },
  {
   "cell_type": "markdown",
   "metadata": {},
   "source": [
    "***\n",
    "### 4.26 😃(w)\n",
    "\n",
    "A lady claims that she can tell whether a cup of tea containing milk had the tea poured first or the milk poured first. To test her claim an experiment is set up whereby at random the milk or tea is added first to an empty cup. This experiement is repeated 10 times. If she correctly identifies which liquid was poured first 8 out of 10, how likely is it that she is guessing? See [Salsburg 2001](https://www.amazon.com/Lady-Tasting-Tea-Statistics-Revolutionized/dp/0805071342) for a further discussion of the famous problem."
   ]
  },
  {
   "cell_type": "code",
   "execution_count": null,
   "metadata": {},
   "outputs": [],
   "source": []
  },
  {
   "cell_type": "markdown",
   "metadata": {},
   "source": [
    "***\n",
    "### 4.27 (f)\n",
    "\n",
    "The probability $P[k]$ is given by the binomial law. If $M=10$, for what value of $p$ is $P[3]$ maximum? Explain your answer."
   ]
  },
  {
   "cell_type": "code",
   "execution_count": null,
   "metadata": {},
   "outputs": [],
   "source": []
  },
  {
   "cell_type": "markdown",
   "metadata": {},
   "source": [
    "***\n",
    "### 4.28 😃(f)\n",
    "\n",
    "A sequence of independent subexperiments is conducted. Each subexperiement has the outsomes \"success\", \"failure\", or \"don't know\". If $P[success]=\\frac{1}{2}$ and $P[failure]=\\frac{1}{4}$, what is the probability of 3 successes in 5 trials?"
   ]
  },
  {
   "cell_type": "code",
   "execution_count": null,
   "metadata": {},
   "outputs": [],
   "source": []
  },
  {
   "cell_type": "markdown",
   "metadata": {},
   "source": [
    "***\n",
    "### 4.29 (c)\n",
    "\n",
    "Verify your results in Problem 4.28 by using a computer simulation."
   ]
  },
  {
   "cell_type": "code",
   "execution_count": null,
   "metadata": {},
   "outputs": [],
   "source": []
  },
  {
   "cell_type": "markdown",
   "metadata": {},
   "source": [
    "***\n",
    "### 4.30 (w)\n",
    "\n",
    "A drunk person wanders aimlessly along a path by going forward one step with probability $\\frac{1}{2}$ and going backward one step with probability $\\frac{1}{2}$. After 10 steps what is the probability that he has moved 2 steps forward?"
   ]
  },
  {
   "cell_type": "code",
   "execution_count": null,
   "metadata": {},
   "outputs": [],
   "source": []
  },
  {
   "cell_type": "markdown",
   "metadata": {},
   "source": [
    "***\n",
    "### 4.31 (f)\n",
    "\n",
    "Prove that the geometric probability law (4.17) is a vaild probability assignment."
   ]
  },
  {
   "cell_type": "code",
   "execution_count": null,
   "metadata": {},
   "outputs": [],
   "source": []
  },
  {
   "cell_type": "markdown",
   "metadata": {},
   "source": [
    "***\n",
    "### 4.32 (w)\n",
    "\n",
    "\n",
    "For a sequence of independent Bernoulli trials find the probability of the first failure at the $k^{th}$ trial for $k=1,2,\\dots$."
   ]
  },
  {
   "cell_type": "code",
   "execution_count": null,
   "metadata": {},
   "outputs": [],
   "source": []
  },
  {
   "cell_type": "markdown",
   "metadata": {},
   "source": [
    "***\n",
    "### 4.33 😃(w)\n",
    "\n",
    "For a sequence of independent Bernoulli trials find the probability of the second success at the $k^{th}$ trial."
   ]
  },
  {
   "cell_type": "code",
   "execution_count": null,
   "metadata": {},
   "outputs": [],
   "source": []
  },
  {
   "cell_type": "markdown",
   "metadata": {},
   "source": [
    "***\n",
    "### 4.34 (t)\n",
    "\n",
    "Consider a sequence of independent Bernoulli trials. If it is known that the first $m$ trials resulted in failures, prove that the probabilityof the first success occuring at $m+l$ is given by the geometric law with $k$ replaced by $l$. In other words, the probability is the same as if we had started the process over again after the $m^{th}$ failure. There is no memory of the first $m$ failures."
   ]
  },
  {
   "cell_type": "code",
   "execution_count": null,
   "metadata": {},
   "outputs": [],
   "source": []
  },
  {
   "cell_type": "markdown",
   "metadata": {},
   "source": [
    "***\n",
    "### 4.35 (f)\n",
    "\n",
    "An urn contains red, black, and white balls. The proportion of red is 0.4, the proportion of black is 0.4, and the proportion of white is 0.2. If 5 balls are drawn with replacement, what is the probability of 2 red, 2 black, and 1 white in any order?"
   ]
  },
  {
   "cell_type": "code",
   "execution_count": null,
   "metadata": {},
   "outputs": [],
   "source": []
  },
  {
   "cell_type": "markdown",
   "metadata": {},
   "source": [
    "***\n",
    "### 4.36 (t)\n",
    "\n",
    "We derive the multinomial coefficient for $N=3$. This will yield the number of ways that an $M$-tuple can be formed using $k_1$ $1$s, $k_2$ $2$s, and $k_3$ $3$s. To do so choose $k_1$ places in the $M$-tuple for the $1$s. There will be $M-k_1$ positions remaining. Of these positions choose $k_2$ places for the $2$s. Fill in the remaining $k_3=M-k_1-k_2$ positions using the $3$s. Using this result, determine the number of different $M$ digit sequences with $k_1$ $1$s, $k_2$ $2$s, and $k_3$ $3$s."
   ]
  },
  {
   "cell_type": "code",
   "execution_count": null,
   "metadata": {},
   "outputs": [],
   "source": []
  },
  {
   "cell_type": "markdown",
   "metadata": {},
   "source": [
    "***\n",
    "### 4.37 (t)\n",
    "\n",
    "Show that the multinomial probability law reduces to the binomial law for $N=2$."
   ]
  },
  {
   "cell_type": "code",
   "execution_count": null,
   "metadata": {},
   "outputs": [],
   "source": []
  },
  {
   "cell_type": "markdown",
   "metadata": {},
   "source": [
    "***\n",
    "### 4.38 😃(w,c)\n",
    "\n",
    "An urn contains 3 red balls, 3 black balls, and 3 white balls. If 6 balls are chosen with replacement, how many of each color is most likely? Hint: You will need a computer to evaluate the probabilities."
   ]
  },
  {
   "cell_type": "code",
   "execution_count": null,
   "metadata": {},
   "outputs": [],
   "source": []
  },
  {
   "cell_type": "markdown",
   "metadata": {},
   "source": [
    "***\n",
    "### 4.39 (w,c)\n",
    "\n",
    "For the problem discussed in Example 4.10 change the probability of heads for the weighted coin from $p=0.25$ to $p=0.1$. Redraw the Markov state probability diagram. Next, using a computer simulation generate a sequence of length 100. Explain your results."
   ]
  },
  {
   "cell_type": "code",
   "execution_count": null,
   "metadata": {},
   "outputs": [],
   "source": []
  },
  {
   "attachments": {
    "fig_4_8.PNG": {
     "image/png": "[encoded data removed]"
    }
   },
   "cell_type": "markdown",
   "metadata": {},
   "source": [
    "***\n",
    "### 4.40 😃(f)\n",
    "\n",
    "For the Markov state diagram in Figure 4.8 with an initial state probability of $P[0] = \\frac{3}{4}$, find the probability of the sequence $0,1,1,0$.\n",
    "\n",
    "![fig_4_8.PNG](attachment:fig_4_8.PNG)"
   ]
  },
  {
   "cell_type": "code",
   "execution_count": null,
   "metadata": {},
   "outputs": [],
   "source": []
  },
  {
   "attachments": {
    "fig_4_8.PNG": {
     "image/png": "[encoded data removed]"
    }
   },
   "cell_type": "markdown",
   "metadata": {},
   "source": [
    "***\n",
    "### 4.41 (f)\n",
    "\n",
    "A two state Markov chain (see Figure 4.8) has the **state transition probabilities** $P[0|0] = \\frac{1}{4}$, $P[0|1] = \\frac{3}{4}$, and the initial state probability of $P[0] = \\frac{1}{2}$. What is the probability of the sequence $0,1,0,1,0$?\n",
    "\n",
    "![fig_4_8.PNG](attachment:fig_4_8.PNG)"
   ]
  },
  {
   "cell_type": "code",
   "execution_count": null,
   "metadata": {},
   "outputs": [],
   "source": []
  },
  {
   "attachments": {
    "fig_4_12.PNG": {
     "image/png": "[encoded data removed]"
    },
    "fig_4_3.PNG": {
     "image/png": "[encoded data removed]"
    }
   },
   "cell_type": "markdown",
   "metadata": {},
   "source": [
    "***\n",
    "### 4.42 (w)\n",
    "\n",
    "A digital communication system model is shown in Figure 4.12. In consists of two sections with each one modeling a different portion of the communication channel. What is the probability of a bit error? Compare this to the probability of error for the single section model shown in Figure 4.3, assuming that $\\epsilon < \\frac{1}{2}$, which is true in practice? Note that Figure 4.12 is a trellis.\n",
    "\n",
    "![fig_4_3.PNG](attachment:fig_4_3.PNG)\n",
    "![fig_4_12.PNG](attachment:fig_4_12.PNG)"
   ]
  },
  {
   "cell_type": "code",
   "execution_count": null,
   "metadata": {},
   "outputs": [],
   "source": []
  },
  {
   "attachments": {
    "fig_4_9.PNG": {
     "image/png": "[encoded data removed]"
    }
   },
   "cell_type": "markdown",
   "metadata": {},
   "source": [
    "***\n",
    "### 4.43 😃(f)\n",
    "\n",
    "For the trellis shown in Figure 4.9 find the probability of the event $A = \\{ (0,1,0,0),(0,0,0,0) \\}$.\n",
    "\n",
    "![fig_4_9.PNG](attachment:fig_4_9.PNG)"
   ]
  },
  {
   "cell_type": "code",
   "execution_count": null,
   "metadata": {},
   "outputs": [],
   "source": []
  }
 ],
 "metadata": {
  "kernelspec": {
   "display_name": "Python 3",
   "language": "python",
   "name": "python3"
  },
  "language_info": {
   "codemirror_mode": {
    "name": "ipython",
    "version": 3
   },
   "file_extension": ".py",
   "mimetype": "text/x-python",
   "name": "python",
   "nbconvert_exporter": "python",
   "pygments_lexer": "ipython3",
   "version": "3.7.6"
  }
 },
 "nbformat": 4,
 "nbformat_minor": 4
}
